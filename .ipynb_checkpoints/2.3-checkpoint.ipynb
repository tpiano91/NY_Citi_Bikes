{
 "cells": [
  {
   "cell_type": "markdown",
   "id": "2564f700-0c48-4cef-a78c-3e001727538d",
   "metadata": {},
   "source": [
    "# 2.3 Funadmentals of Visualizations Libraries"
   ]
  },
  {
   "cell_type": "code",
   "execution_count": 4,
   "id": "660c9bd5-48a0-4ade-82b7-5b72134e262e",
   "metadata": {},
   "outputs": [],
   "source": [
    "import pandas as pd\n",
    "from matplotlib import pyplot as plt\n",
    "import numpy as np\n",
    "from datetime import datetime as dt"
   ]
  },
  {
   "cell_type": "code",
   "execution_count": 7,
   "id": "c071688d-544f-427c-afae-8740ea0d42f3",
   "metadata": {},
   "outputs": [
    {
     "data": {
      "text/plain": [
       "'3.8.4'"
      ]
     },
     "execution_count": 7,
     "metadata": {},
     "output_type": "execute_result"
    }
   ],
   "source": [
    "import matplotlib\n",
    "matplotlib.__version__"
   ]
  },
  {
   "cell_type": "code",
   "execution_count": 10,
   "id": "af2f3818-cd59-4910-beac-6e4b477316f7",
   "metadata": {},
   "outputs": [],
   "source": [
    "df = pd.read_csv('nyc_data.csv', index_col = 0)"
   ]
  },
  {
   "cell_type": "code",
   "execution_count": 34,
   "id": "c5c14572-66e9-49a1-9e76-9a7bb1cfc279",
   "metadata": {},
   "outputs": [
    {
     "data": {
      "text/plain": [
       "Index(['ride_id', 'rideable_type', 'started_at', 'ended_at',\n",
       "       'start_station_name', 'start_station_id', 'end_station_name',\n",
       "       'end_station_id', 'start_lat', 'start_lng', 'end_lat', 'end_lng',\n",
       "       'member_casual', 'start_time', 'date', 'avgTemp', '_merge'],\n",
       "      dtype='object')"
      ]
     },
     "execution_count": 34,
     "metadata": {},
     "output_type": "execute_result"
    }
   ],
   "source": [
    "df.columns"
   ]
  },
  {
   "cell_type": "code",
   "execution_count": null,
   "id": "f7bedca6-7d3a-4296-9866-b7ae04b701f6",
   "metadata": {},
   "outputs": [],
   "source": [
    "df.drop(columns = {'_merge'}, inplace = True)"
   ]
  },
  {
   "cell_type": "code",
   "execution_count": 42,
   "id": "27fb9b7c-a6a0-441a-92da-e7523cafa9aa",
   "metadata": {},
   "outputs": [],
   "source": [
    "df['date'] = pd.to_datetime(df['date'])"
   ]
  },
  {
   "cell_type": "code",
   "execution_count": 45,
   "id": "415b8202-9267-4d91-a690-211ac259b167",
   "metadata": {},
   "outputs": [
    {
     "data": {
      "text/plain": [
       "ride_id                       object\n",
       "rideable_type                 object\n",
       "started_at                    object\n",
       "ended_at                      object\n",
       "start_station_name            object\n",
       "start_station_id              object\n",
       "end_station_name              object\n",
       "end_station_id                object\n",
       "start_lat                    float64\n",
       "start_lng                    float64\n",
       "end_lat                      float64\n",
       "end_lng                      float64\n",
       "member_casual                 object\n",
       "start_time                    object\n",
       "date                  datetime64[ns]\n",
       "avgTemp                      float64\n",
       "_merge                        object\n",
       "dtype: object"
      ]
     },
     "execution_count": 45,
     "metadata": {},
     "output_type": "execute_result"
    }
   ],
   "source": [
    "df.dtypes"
   ]
  },
  {
   "cell_type": "code",
   "execution_count": null,
   "id": "8bd4fbe4-d1b3-475c-92fc-534630256be7",
   "metadata": {},
   "outputs": [],
   "source": []
  },
  {
   "cell_type": "code",
   "execution_count": null,
   "id": "298e1fd1-adeb-4aa0-a7b4-7c45692ece1d",
   "metadata": {},
   "outputs": [],
   "source": []
  },
  {
   "cell_type": "code",
   "execution_count": null,
   "id": "3ba4d29d-b064-4fac-8022-0ad2aaf94d50",
   "metadata": {},
   "outputs": [],
   "source": []
  },
  {
   "cell_type": "code",
   "execution_count": null,
   "id": "52537398-af79-428d-bd62-ea3e1cbecec6",
   "metadata": {},
   "outputs": [],
   "source": []
  },
  {
   "cell_type": "code",
   "execution_count": null,
   "id": "072a19a9-3af0-4ee8-be62-f492b7bb5c5e",
   "metadata": {},
   "outputs": [],
   "source": []
  },
  {
   "cell_type": "markdown",
   "id": "eb9bf305-1670-4f56-8b63-16128508a093",
   "metadata": {},
   "source": [
    "## Basic Plotting with Pandas"
   ]
  },
  {
   "cell_type": "code",
   "execution_count": 21,
   "id": "50f15e9a-4921-4fc3-b6e3-6c657558e532",
   "metadata": {},
   "outputs": [],
   "source": [
    "df_temp = df.set_index('date')"
   ]
  },
  {
   "cell_type": "code",
   "execution_count": 26,
   "id": "80c7f3c3-759b-4795-b934-364c2a7ced5f",
   "metadata": {},
   "outputs": [
    {
     "data": {
      "text/html": [
       "<div>\n",
       "<style scoped>\n",
       "    .dataframe tbody tr th:only-of-type {\n",
       "        vertical-align: middle;\n",
       "    }\n",
       "\n",
       "    .dataframe tbody tr th {\n",
       "        vertical-align: top;\n",
       "    }\n",
       "\n",
       "    .dataframe thead th {\n",
       "        text-align: right;\n",
       "    }\n",
       "</style>\n",
       "<table border=\"1\" class=\"dataframe\">\n",
       "  <thead>\n",
       "    <tr style=\"text-align: right;\">\n",
       "      <th></th>\n",
       "      <th>ride_id</th>\n",
       "      <th>rideable_type</th>\n",
       "      <th>started_at</th>\n",
       "      <th>ended_at</th>\n",
       "      <th>start_station_name</th>\n",
       "      <th>start_station_id</th>\n",
       "      <th>end_station_name</th>\n",
       "      <th>end_station_id</th>\n",
       "      <th>start_lat</th>\n",
       "      <th>start_lng</th>\n",
       "      <th>end_lat</th>\n",
       "      <th>end_lng</th>\n",
       "      <th>member_casual</th>\n",
       "      <th>start_time</th>\n",
       "      <th>avgTemp</th>\n",
       "      <th>_merge</th>\n",
       "    </tr>\n",
       "    <tr>\n",
       "      <th>date</th>\n",
       "      <th></th>\n",
       "      <th></th>\n",
       "      <th></th>\n",
       "      <th></th>\n",
       "      <th></th>\n",
       "      <th></th>\n",
       "      <th></th>\n",
       "      <th></th>\n",
       "      <th></th>\n",
       "      <th></th>\n",
       "      <th></th>\n",
       "      <th></th>\n",
       "      <th></th>\n",
       "      <th></th>\n",
       "      <th></th>\n",
       "      <th></th>\n",
       "    </tr>\n",
       "  </thead>\n",
       "  <tbody>\n",
       "    <tr>\n",
       "      <th>2022-03-18</th>\n",
       "      <td>3255D3E3F33CDC45</td>\n",
       "      <td>classic_bike</td>\n",
       "      <td>2022-03-18 15:38:17</td>\n",
       "      <td>2022-03-18 15:45:34</td>\n",
       "      <td>Mama Johnson Field - 4 St &amp; Jackson St</td>\n",
       "      <td>HB404</td>\n",
       "      <td>South Waterfront Walkway - Sinatra Dr &amp; 1 St</td>\n",
       "      <td>HB103</td>\n",
       "      <td>40.743140</td>\n",
       "      <td>-74.040041</td>\n",
       "      <td>40.736982</td>\n",
       "      <td>-74.027781</td>\n",
       "      <td>casual</td>\n",
       "      <td>2022-03-18 15:38:17</td>\n",
       "      <td>13.9</td>\n",
       "      <td>both</td>\n",
       "    </tr>\n",
       "    <tr>\n",
       "      <th>2022-03-04</th>\n",
       "      <td>17FA5604A37338F9</td>\n",
       "      <td>electric_bike</td>\n",
       "      <td>2022-03-04 16:44:48</td>\n",
       "      <td>2022-03-04 16:50:45</td>\n",
       "      <td>Baldwin at Montgomery</td>\n",
       "      <td>JC020</td>\n",
       "      <td>Grove St PATH</td>\n",
       "      <td>JC005</td>\n",
       "      <td>40.723659</td>\n",
       "      <td>-74.064194</td>\n",
       "      <td>40.719586</td>\n",
       "      <td>-74.043117</td>\n",
       "      <td>member</td>\n",
       "      <td>2022-03-04 16:44:48</td>\n",
       "      <td>-1.9</td>\n",
       "      <td>both</td>\n",
       "    </tr>\n",
       "    <tr>\n",
       "      <th>2022-03-13</th>\n",
       "      <td>7DEC9ADDB8D6BBE1</td>\n",
       "      <td>electric_bike</td>\n",
       "      <td>2022-03-13 17:44:32</td>\n",
       "      <td>2022-03-13 17:54:44</td>\n",
       "      <td>Baldwin at Montgomery</td>\n",
       "      <td>JC020</td>\n",
       "      <td>Grove St PATH</td>\n",
       "      <td>JC005</td>\n",
       "      <td>40.723659</td>\n",
       "      <td>-74.064194</td>\n",
       "      <td>40.719586</td>\n",
       "      <td>-74.043117</td>\n",
       "      <td>member</td>\n",
       "      <td>2022-03-13 17:44:32</td>\n",
       "      <td>-2.3</td>\n",
       "      <td>both</td>\n",
       "    </tr>\n",
       "    <tr>\n",
       "      <th>2022-03-13</th>\n",
       "      <td>9D69F74EEF231A2E</td>\n",
       "      <td>classic_bike</td>\n",
       "      <td>2022-03-13 15:33:47</td>\n",
       "      <td>2022-03-13 15:41:22</td>\n",
       "      <td>Baldwin at Montgomery</td>\n",
       "      <td>JC020</td>\n",
       "      <td>Grove St PATH</td>\n",
       "      <td>JC005</td>\n",
       "      <td>40.723659</td>\n",
       "      <td>-74.064194</td>\n",
       "      <td>40.719586</td>\n",
       "      <td>-74.043117</td>\n",
       "      <td>member</td>\n",
       "      <td>2022-03-13 15:33:47</td>\n",
       "      <td>-2.3</td>\n",
       "      <td>both</td>\n",
       "    </tr>\n",
       "    <tr>\n",
       "      <th>2022-03-11</th>\n",
       "      <td>C84AE4A9D78A6347</td>\n",
       "      <td>classic_bike</td>\n",
       "      <td>2022-03-11 12:21:18</td>\n",
       "      <td>2022-03-11 12:33:24</td>\n",
       "      <td>Baldwin at Montgomery</td>\n",
       "      <td>JC020</td>\n",
       "      <td>Grove St PATH</td>\n",
       "      <td>JC005</td>\n",
       "      <td>40.723659</td>\n",
       "      <td>-74.064194</td>\n",
       "      <td>40.719586</td>\n",
       "      <td>-74.043117</td>\n",
       "      <td>member</td>\n",
       "      <td>2022-03-11 12:21:18</td>\n",
       "      <td>7.2</td>\n",
       "      <td>both</td>\n",
       "    </tr>\n",
       "  </tbody>\n",
       "</table>\n",
       "</div>"
      ],
      "text/plain": [
       "                     ride_id  rideable_type           started_at  \\\n",
       "date                                                               \n",
       "2022-03-18  3255D3E3F33CDC45   classic_bike  2022-03-18 15:38:17   \n",
       "2022-03-04  17FA5604A37338F9  electric_bike  2022-03-04 16:44:48   \n",
       "2022-03-13  7DEC9ADDB8D6BBE1  electric_bike  2022-03-13 17:44:32   \n",
       "2022-03-13  9D69F74EEF231A2E   classic_bike  2022-03-13 15:33:47   \n",
       "2022-03-11  C84AE4A9D78A6347   classic_bike  2022-03-11 12:21:18   \n",
       "\n",
       "                       ended_at                      start_station_name  \\\n",
       "date                                                                      \n",
       "2022-03-18  2022-03-18 15:45:34  Mama Johnson Field - 4 St & Jackson St   \n",
       "2022-03-04  2022-03-04 16:50:45                   Baldwin at Montgomery   \n",
       "2022-03-13  2022-03-13 17:54:44                   Baldwin at Montgomery   \n",
       "2022-03-13  2022-03-13 15:41:22                   Baldwin at Montgomery   \n",
       "2022-03-11  2022-03-11 12:33:24                   Baldwin at Montgomery   \n",
       "\n",
       "           start_station_id                              end_station_name  \\\n",
       "date                                                                        \n",
       "2022-03-18            HB404  South Waterfront Walkway - Sinatra Dr & 1 St   \n",
       "2022-03-04            JC020                                 Grove St PATH   \n",
       "2022-03-13            JC020                                 Grove St PATH   \n",
       "2022-03-13            JC020                                 Grove St PATH   \n",
       "2022-03-11            JC020                                 Grove St PATH   \n",
       "\n",
       "           end_station_id  start_lat  start_lng    end_lat    end_lng  \\\n",
       "date                                                                    \n",
       "2022-03-18          HB103  40.743140 -74.040041  40.736982 -74.027781   \n",
       "2022-03-04          JC005  40.723659 -74.064194  40.719586 -74.043117   \n",
       "2022-03-13          JC005  40.723659 -74.064194  40.719586 -74.043117   \n",
       "2022-03-13          JC005  40.723659 -74.064194  40.719586 -74.043117   \n",
       "2022-03-11          JC005  40.723659 -74.064194  40.719586 -74.043117   \n",
       "\n",
       "           member_casual           start_time  avgTemp _merge  \n",
       "date                                                           \n",
       "2022-03-18        casual  2022-03-18 15:38:17     13.9   both  \n",
       "2022-03-04        member  2022-03-04 16:44:48     -1.9   both  \n",
       "2022-03-13        member  2022-03-13 17:44:32     -2.3   both  \n",
       "2022-03-13        member  2022-03-13 15:33:47     -2.3   both  \n",
       "2022-03-11        member  2022-03-11 12:21:18      7.2   both  "
      ]
     },
     "execution_count": 26,
     "metadata": {},
     "output_type": "execute_result"
    }
   ],
   "source": [
    "df_temp.head()"
   ]
  },
  {
   "cell_type": "code",
   "execution_count": 37,
   "id": "adeb7bc3-f549-4512-b3ba-6198d63d0998",
   "metadata": {},
   "outputs": [
    {
     "data": {
      "text/plain": [
       "<Axes: xlabel='date'>"
      ]
     },
     "execution_count": 37,
     "metadata": {},
     "output_type": "execute_result"
    },
    {
     "data": {
      "image/png": "[encoded data removed]",
      "text/plain": [
       "<Figure size 640x480 with 1 Axes>"
      ]
     },
     "metadata": {},
     "output_type": "display_data"
    }
   ],
   "source": [
    "df_temp['avgTemp'].plot()"
   ]
  },
  {
   "cell_type": "code",
   "execution_count": null,
   "id": "d8e1266f-a07e-4ae9-bae9-ab41449f437b",
   "metadata": {},
   "outputs": [],
   "source": []
  },
  {
   "cell_type": "code",
   "execution_count": null,
   "id": "06465ced-0888-477b-bd92-de71be058719",
   "metadata": {},
   "outputs": [],
   "source": []
  },
  {
   "cell_type": "code",
   "execution_count": null,
   "id": "da6aa9e7-55e5-4c66-8d5f-ba468dc271ad",
   "metadata": {},
   "outputs": [],
   "source": []
  },
  {
   "cell_type": "code",
   "execution_count": null,
   "id": "87c60350-5805-4321-ba87-fb99feee104f",
   "metadata": {},
   "outputs": [],
   "source": []
  },
  {
   "cell_type": "code",
   "execution_count": null,
   "id": "6bf98a70-65ef-44cb-8a86-76eab8161397",
   "metadata": {},
   "outputs": [],
   "source": []
  },
  {
   "cell_type": "code",
   "execution_count": null,
   "id": "9d4675d8-c4b7-4023-a15a-c3d7afcd8714",
   "metadata": {},
   "outputs": [],
   "source": []
  }
 ],
 "metadata": {
  "kernelspec": {
   "display_name": "Python [conda env:venv_nyc_bike]",
   "language": "python",
   "name": "conda-env-venv_nyc_bike-py"
  },
  "language_info": {
   "codemirror_mode": {
    "name": "ipython",
    "version": 3
   },
   "file_extension": ".py",
   "mimetype": "text/x-python",
   "name": "python",
   "nbconvert_exporter": "python",
   "pygments_lexer": "ipython3",
   "version": "3.12.4"
  }
 },
 "nbformat": 4,
 "nbformat_minor": 5
}

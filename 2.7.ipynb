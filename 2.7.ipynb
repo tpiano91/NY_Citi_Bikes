{
 "cells": [
  {
   "cell_type": "markdown",
   "id": "9f34ea6a-6023-4542-b423-805e5dab7328",
   "metadata": {},
   "source": [
    "# Final Notebook"
   ]
  },
  {
   "cell_type": "markdown",
   "id": "043a7f8f-45e3-4628-a351-9078b78dd6e5",
   "metadata": {},
   "source": [
    "## Import Libraries"
   ]
  },
  {
   "cell_type": "code",
   "execution_count": 84,
   "id": "318b8a94-3a46-4b38-b1e7-76d12a916459",
   "metadata": {},
   "outputs": [],
   "source": [
    "import pandas as pd\n",
    "import numpy as np"
   ]
  },
  {
   "cell_type": "code",
   "execution_count": 86,
   "id": "47309f8b-52ea-40ae-a8bc-63edd16f0969",
   "metadata": {},
   "outputs": [],
   "source": [
    "df = pd.read_csv('/Users/tristansavella/NY_Citi_Bikes/Data/nyc_data.csv', index_col = 0)"
   ]
  },
  {
   "cell_type": "code",
   "execution_count": 87,
   "id": "6741312a-de3b-4c78-8934-ea57ac9e25a8",
   "metadata": {},
   "outputs": [
    {
     "data": {
      "text/plain": [
       "(895485, 18)"
      ]
     },
     "execution_count": 87,
     "metadata": {},
     "output_type": "execute_result"
    }
   ],
   "source": [
    "df.shape"
   ]
  },
  {
   "cell_type": "markdown",
   "id": "43915660-8497-4a28-9b86-901c48e464f9",
   "metadata": {},
   "source": [
    "## Wrangling"
   ]
  },
  {
   "cell_type": "code",
   "execution_count": 89,
   "id": "863fa39c-0d07-497d-9e20-eaf761779a47",
   "metadata": {},
   "outputs": [],
   "source": [
    "# Create a month column \n",
    "\n",
    "df['date'] = pd.to_datetime(df['date'], format = '%Y-%m-%d')\n",
    "df['month'] = df['date'].dt.month\n",
    "df['month'] = df['month'].astype('int')"
   ]
  },
  {
   "cell_type": "code",
   "execution_count": 90,
   "id": "cab9aff9-c1e5-48f7-9be2-58610972041b",
   "metadata": {},
   "outputs": [],
   "source": [
    "# Create the season column\n",
    "\n",
    "df['season'] = [\n",
    "\"winter\" if (month == 12 or 1 <= month <= 2)\n",
    "    else \"spring\" if (3 < month <= 5)\n",
    "    else \"summer\" if (6 <= month <= 8)\n",
    "    else \"fall\"\n",
    "for month in df['month']\n",
    "    ]"
   ]
  },
  {
   "cell_type": "code",
   "execution_count": 91,
   "id": "9b698a4f-a856-4e1a-9da5-8aec8e81cbc8",
   "metadata": {},
   "outputs": [
    {
     "data": {
      "text/html": [
       "<div>\n",
       "<style scoped>\n",
       "    .dataframe tbody tr th:only-of-type {\n",
       "        vertical-align: middle;\n",
       "    }\n",
       "\n",
       "    .dataframe tbody tr th {\n",
       "        vertical-align: top;\n",
       "    }\n",
       "\n",
       "    .dataframe thead th {\n",
       "        text-align: right;\n",
       "    }\n",
       "</style>\n",
       "<table border=\"1\" class=\"dataframe\">\n",
       "  <thead>\n",
       "    <tr style=\"text-align: right;\">\n",
       "      <th></th>\n",
       "      <th>ride_id</th>\n",
       "      <th>rideable_type</th>\n",
       "      <th>started_at</th>\n",
       "      <th>ended_at</th>\n",
       "      <th>start_station_name</th>\n",
       "      <th>start_station_id</th>\n",
       "      <th>end_station_name</th>\n",
       "      <th>end_station_id</th>\n",
       "      <th>start_lat</th>\n",
       "      <th>start_lng</th>\n",
       "      <th>end_lat</th>\n",
       "      <th>end_lng</th>\n",
       "      <th>member_casual</th>\n",
       "      <th>start_time</th>\n",
       "      <th>date</th>\n",
       "      <th>end_time</th>\n",
       "      <th>avgTemp</th>\n",
       "      <th>_merge</th>\n",
       "      <th>month</th>\n",
       "      <th>season</th>\n",
       "    </tr>\n",
       "  </thead>\n",
       "  <tbody>\n",
       "    <tr>\n",
       "      <th>0</th>\n",
       "      <td>3255D3E3F33CDC45</td>\n",
       "      <td>classic_bike</td>\n",
       "      <td>2022-03-18 15:38:17</td>\n",
       "      <td>2022-03-18 15:45:34</td>\n",
       "      <td>Mama Johnson Field - 4 St &amp; Jackson St</td>\n",
       "      <td>HB404</td>\n",
       "      <td>South Waterfront Walkway - Sinatra Dr &amp; 1 St</td>\n",
       "      <td>HB103</td>\n",
       "      <td>40.743140</td>\n",
       "      <td>-74.040041</td>\n",
       "      <td>40.736982</td>\n",
       "      <td>-74.027781</td>\n",
       "      <td>casual</td>\n",
       "      <td>2022-03-18 15:38:17</td>\n",
       "      <td>2022-03-18</td>\n",
       "      <td>2022-03-18 15:45:34</td>\n",
       "      <td>13.9</td>\n",
       "      <td>both</td>\n",
       "      <td>3</td>\n",
       "      <td>fall</td>\n",
       "    </tr>\n",
       "    <tr>\n",
       "      <th>1</th>\n",
       "      <td>17FA5604A37338F9</td>\n",
       "      <td>electric_bike</td>\n",
       "      <td>2022-03-04 16:44:48</td>\n",
       "      <td>2022-03-04 16:50:45</td>\n",
       "      <td>Baldwin at Montgomery</td>\n",
       "      <td>JC020</td>\n",
       "      <td>Grove St PATH</td>\n",
       "      <td>JC005</td>\n",
       "      <td>40.723659</td>\n",
       "      <td>-74.064194</td>\n",
       "      <td>40.719586</td>\n",
       "      <td>-74.043117</td>\n",
       "      <td>member</td>\n",
       "      <td>2022-03-04 16:44:48</td>\n",
       "      <td>2022-03-04</td>\n",
       "      <td>2022-03-04 16:50:45</td>\n",
       "      <td>-1.9</td>\n",
       "      <td>both</td>\n",
       "      <td>3</td>\n",
       "      <td>fall</td>\n",
       "    </tr>\n",
       "    <tr>\n",
       "      <th>2</th>\n",
       "      <td>7DEC9ADDB8D6BBE1</td>\n",
       "      <td>electric_bike</td>\n",
       "      <td>2022-03-13 17:44:32</td>\n",
       "      <td>2022-03-13 17:54:44</td>\n",
       "      <td>Baldwin at Montgomery</td>\n",
       "      <td>JC020</td>\n",
       "      <td>Grove St PATH</td>\n",
       "      <td>JC005</td>\n",
       "      <td>40.723659</td>\n",
       "      <td>-74.064194</td>\n",
       "      <td>40.719586</td>\n",
       "      <td>-74.043117</td>\n",
       "      <td>member</td>\n",
       "      <td>2022-03-13 17:44:32</td>\n",
       "      <td>2022-03-13</td>\n",
       "      <td>2022-03-13 17:54:44</td>\n",
       "      <td>-2.3</td>\n",
       "      <td>both</td>\n",
       "      <td>3</td>\n",
       "      <td>fall</td>\n",
       "    </tr>\n",
       "    <tr>\n",
       "      <th>3</th>\n",
       "      <td>9D69F74EEF231A2E</td>\n",
       "      <td>classic_bike</td>\n",
       "      <td>2022-03-13 15:33:47</td>\n",
       "      <td>2022-03-13 15:41:22</td>\n",
       "      <td>Baldwin at Montgomery</td>\n",
       "      <td>JC020</td>\n",
       "      <td>Grove St PATH</td>\n",
       "      <td>JC005</td>\n",
       "      <td>40.723659</td>\n",
       "      <td>-74.064194</td>\n",
       "      <td>40.719586</td>\n",
       "      <td>-74.043117</td>\n",
       "      <td>member</td>\n",
       "      <td>2022-03-13 15:33:47</td>\n",
       "      <td>2022-03-13</td>\n",
       "      <td>2022-03-13 15:41:22</td>\n",
       "      <td>-2.3</td>\n",
       "      <td>both</td>\n",
       "      <td>3</td>\n",
       "      <td>fall</td>\n",
       "    </tr>\n",
       "    <tr>\n",
       "      <th>4</th>\n",
       "      <td>C84AE4A9D78A6347</td>\n",
       "      <td>classic_bike</td>\n",
       "      <td>2022-03-11 12:21:18</td>\n",
       "      <td>2022-03-11 12:33:24</td>\n",
       "      <td>Baldwin at Montgomery</td>\n",
       "      <td>JC020</td>\n",
       "      <td>Grove St PATH</td>\n",
       "      <td>JC005</td>\n",
       "      <td>40.723659</td>\n",
       "      <td>-74.064194</td>\n",
       "      <td>40.719586</td>\n",
       "      <td>-74.043117</td>\n",
       "      <td>member</td>\n",
       "      <td>2022-03-11 12:21:18</td>\n",
       "      <td>2022-03-11</td>\n",
       "      <td>2022-03-11 12:33:24</td>\n",
       "      <td>7.2</td>\n",
       "      <td>both</td>\n",
       "      <td>3</td>\n",
       "      <td>fall</td>\n",
       "    </tr>\n",
       "  </tbody>\n",
       "</table>\n",
       "</div>"
      ],
      "text/plain": [
       "            ride_id  rideable_type           started_at             ended_at  \\\n",
       "0  3255D3E3F33CDC45   classic_bike  2022-03-18 15:38:17  2022-03-18 15:45:34   \n",
       "1  17FA5604A37338F9  electric_bike  2022-03-04 16:44:48  2022-03-04 16:50:45   \n",
       "2  7DEC9ADDB8D6BBE1  electric_bike  2022-03-13 17:44:32  2022-03-13 17:54:44   \n",
       "3  9D69F74EEF231A2E   classic_bike  2022-03-13 15:33:47  2022-03-13 15:41:22   \n",
       "4  C84AE4A9D78A6347   classic_bike  2022-03-11 12:21:18  2022-03-11 12:33:24   \n",
       "\n",
       "                       start_station_name start_station_id  \\\n",
       "0  Mama Johnson Field - 4 St & Jackson St            HB404   \n",
       "1                   Baldwin at Montgomery            JC020   \n",
       "2                   Baldwin at Montgomery            JC020   \n",
       "3                   Baldwin at Montgomery            JC020   \n",
       "4                   Baldwin at Montgomery            JC020   \n",
       "\n",
       "                               end_station_name end_station_id  start_lat  \\\n",
       "0  South Waterfront Walkway - Sinatra Dr & 1 St          HB103  40.743140   \n",
       "1                                 Grove St PATH          JC005  40.723659   \n",
       "2                                 Grove St PATH          JC005  40.723659   \n",
       "3                                 Grove St PATH          JC005  40.723659   \n",
       "4                                 Grove St PATH          JC005  40.723659   \n",
       "\n",
       "   start_lng    end_lat    end_lng member_casual           start_time  \\\n",
       "0 -74.040041  40.736982 -74.027781        casual  2022-03-18 15:38:17   \n",
       "1 -74.064194  40.719586 -74.043117        member  2022-03-04 16:44:48   \n",
       "2 -74.064194  40.719586 -74.043117        member  2022-03-13 17:44:32   \n",
       "3 -74.064194  40.719586 -74.043117        member  2022-03-13 15:33:47   \n",
       "4 -74.064194  40.719586 -74.043117        member  2022-03-11 12:21:18   \n",
       "\n",
       "        date             end_time  avgTemp _merge  month season  \n",
       "0 2022-03-18  2022-03-18 15:45:34     13.9   both      3   fall  \n",
       "1 2022-03-04  2022-03-04 16:50:45     -1.9   both      3   fall  \n",
       "2 2022-03-13  2022-03-13 17:54:44     -2.3   both      3   fall  \n",
       "3 2022-03-13  2022-03-13 15:41:22     -2.3   both      3   fall  \n",
       "4 2022-03-11  2022-03-11 12:33:24      7.2   both      3   fall  "
      ]
     },
     "execution_count": 91,
     "metadata": {},
     "output_type": "execute_result"
    }
   ],
   "source": [
    "df.head()"
   ]
  },
  {
   "cell_type": "code",
   "execution_count": 92,
   "id": "f0995247-68c9-4c42-9b34-f584d67f1182",
   "metadata": {},
   "outputs": [],
   "source": [
    "# Create a copy with fewer columns \n",
    "\n",
    "df_1 = df.drop(columns = {'ride_id', 'rideable_type', 'started_at', 'ended_at', 'start_station_id', 'end_station_id',\n",
    "'member_casual', 'start_time', 'end_time'})\n"
   ]
  },
  {
   "cell_type": "code",
   "execution_count": 93,
   "id": "28d2ba1b-e436-4c07-a34a-1f14dcacfe54",
   "metadata": {},
   "outputs": [],
   "source": [
    "np.random.seed(32)\n",
    "red = np.random.rand(len(df_1)) <= 0.92"
   ]
  },
  {
   "cell_type": "code",
   "execution_count": 94,
   "id": "4e0a926e-206f-4f25-a157-6af3593e53db",
   "metadata": {},
   "outputs": [],
   "source": [
    "small = df_1[~red]"
   ]
  },
  {
   "cell_type": "code",
   "execution_count": 95,
   "id": "1a41ee08-ce6e-429d-aead-43e63cb7a70e",
   "metadata": {},
   "outputs": [
    {
     "data": {
      "text/plain": [
       "(71391, 11)"
      ]
     },
     "execution_count": 95,
     "metadata": {},
     "output_type": "execute_result"
    }
   ],
   "source": [
    "small.shape"
   ]
  },
  {
   "cell_type": "code",
   "execution_count": 105,
   "id": "0353e422-d3cb-48c9-96f6-efea25db16d4",
   "metadata": {},
   "outputs": [
    {
     "data": {
      "text/html": [
       "<div>\n",
       "<style scoped>\n",
       "    .dataframe tbody tr th:only-of-type {\n",
       "        vertical-align: middle;\n",
       "    }\n",
       "\n",
       "    .dataframe tbody tr th {\n",
       "        vertical-align: top;\n",
       "    }\n",
       "\n",
       "    .dataframe thead th {\n",
       "        text-align: right;\n",
       "    }\n",
       "</style>\n",
       "<table border=\"1\" class=\"dataframe\">\n",
       "  <thead>\n",
       "    <tr style=\"text-align: right;\">\n",
       "      <th></th>\n",
       "      <th>start_station_name</th>\n",
       "      <th>end_station_name</th>\n",
       "      <th>start_lat</th>\n",
       "      <th>start_lng</th>\n",
       "      <th>end_lat</th>\n",
       "      <th>end_lng</th>\n",
       "      <th>date</th>\n",
       "      <th>avgTemp</th>\n",
       "      <th>_merge</th>\n",
       "      <th>month</th>\n",
       "      <th>season</th>\n",
       "    </tr>\n",
       "  </thead>\n",
       "  <tbody>\n",
       "    <tr>\n",
       "      <th>3</th>\n",
       "      <td>Baldwin at Montgomery</td>\n",
       "      <td>Grove St PATH</td>\n",
       "      <td>40.723659</td>\n",
       "      <td>-74.064194</td>\n",
       "      <td>40.719586</td>\n",
       "      <td>-74.043117</td>\n",
       "      <td>2022-03-13</td>\n",
       "      <td>-2.3</td>\n",
       "      <td>both</td>\n",
       "      <td>3</td>\n",
       "      <td>fall</td>\n",
       "    </tr>\n",
       "    <tr>\n",
       "      <th>7</th>\n",
       "      <td>Baldwin at Montgomery</td>\n",
       "      <td>Grove St PATH</td>\n",
       "      <td>40.723659</td>\n",
       "      <td>-74.064194</td>\n",
       "      <td>40.719586</td>\n",
       "      <td>-74.043117</td>\n",
       "      <td>2022-03-20</td>\n",
       "      <td>14.3</td>\n",
       "      <td>both</td>\n",
       "      <td>3</td>\n",
       "      <td>fall</td>\n",
       "    </tr>\n",
       "    <tr>\n",
       "      <th>25</th>\n",
       "      <td>14 St Ferry - 14 St &amp; Shipyard Ln</td>\n",
       "      <td>South Waterfront Walkway - Sinatra Dr &amp; 1 St</td>\n",
       "      <td>40.752961</td>\n",
       "      <td>-74.024353</td>\n",
       "      <td>40.736982</td>\n",
       "      <td>-74.027781</td>\n",
       "      <td>2022-03-22</td>\n",
       "      <td>10.7</td>\n",
       "      <td>both</td>\n",
       "      <td>3</td>\n",
       "      <td>fall</td>\n",
       "    </tr>\n",
       "    <tr>\n",
       "      <th>44</th>\n",
       "      <td>14 St Ferry - 14 St &amp; Shipyard Ln</td>\n",
       "      <td>South Waterfront Walkway - Sinatra Dr &amp; 1 St</td>\n",
       "      <td>40.752961</td>\n",
       "      <td>-74.024353</td>\n",
       "      <td>40.736982</td>\n",
       "      <td>-74.027781</td>\n",
       "      <td>2022-03-11</td>\n",
       "      <td>7.2</td>\n",
       "      <td>both</td>\n",
       "      <td>3</td>\n",
       "      <td>fall</td>\n",
       "    </tr>\n",
       "    <tr>\n",
       "      <th>58</th>\n",
       "      <td>14 St Ferry - 14 St &amp; Shipyard Ln</td>\n",
       "      <td>South Waterfront Walkway - Sinatra Dr &amp; 1 St</td>\n",
       "      <td>40.752961</td>\n",
       "      <td>-74.024353</td>\n",
       "      <td>40.736982</td>\n",
       "      <td>-74.027781</td>\n",
       "      <td>2022-03-15</td>\n",
       "      <td>11.6</td>\n",
       "      <td>both</td>\n",
       "      <td>3</td>\n",
       "      <td>fall</td>\n",
       "    </tr>\n",
       "  </tbody>\n",
       "</table>\n",
       "</div>"
      ],
      "text/plain": [
       "                   start_station_name  \\\n",
       "3               Baldwin at Montgomery   \n",
       "7               Baldwin at Montgomery   \n",
       "25  14 St Ferry - 14 St & Shipyard Ln   \n",
       "44  14 St Ferry - 14 St & Shipyard Ln   \n",
       "58  14 St Ferry - 14 St & Shipyard Ln   \n",
       "\n",
       "                                end_station_name  start_lat  start_lng  \\\n",
       "3                                  Grove St PATH  40.723659 -74.064194   \n",
       "7                                  Grove St PATH  40.723659 -74.064194   \n",
       "25  South Waterfront Walkway - Sinatra Dr & 1 St  40.752961 -74.024353   \n",
       "44  South Waterfront Walkway - Sinatra Dr & 1 St  40.752961 -74.024353   \n",
       "58  South Waterfront Walkway - Sinatra Dr & 1 St  40.752961 -74.024353   \n",
       "\n",
       "      end_lat    end_lng       date  avgTemp _merge  month season  \n",
       "3   40.719586 -74.043117 2022-03-13     -2.3   both      3   fall  \n",
       "7   40.719586 -74.043117 2022-03-20     14.3   both      3   fall  \n",
       "25  40.736982 -74.027781 2022-03-22     10.7   both      3   fall  \n",
       "44  40.736982 -74.027781 2022-03-11      7.2   both      3   fall  \n",
       "58  40.736982 -74.027781 2022-03-15     11.6   both      3   fall  "
      ]
     },
     "execution_count": 105,
     "metadata": {},
     "output_type": "execute_result"
    }
   ],
   "source": [
    "small.head()"
   ]
  },
  {
   "cell_type": "code",
   "execution_count": 107,
   "id": "dff38e1a-ea61-4e8f-b601-a31013a89fa6",
   "metadata": {},
   "outputs": [],
   "source": [
    "small.to_csv('reduced_data_to_plot_7.csv',index = False)"
   ]
  },
  {
   "cell_type": "code",
   "execution_count": 115,
   "id": "ad1ff5db-0a01-4c4e-8107-bcd61cb3fac7",
   "metadata": {},
   "outputs": [
    {
     "name": "stdout",
     "output_type": "stream",
     "text": [
      "season\n",
      "fall      25450\n",
      "spring    11255\n",
      "summer    26129\n",
      "winter     8557\n",
      "dtype: int64\n"
     ]
    }
   ],
   "source": [
    "# Display the number of rides by season\n",
    "print(small.groupby('season').size())"
   ]
  },
  {
   "cell_type": "code",
   "execution_count": 117,
   "id": "6109b7ea-2143-43d1-bd0c-a85df6982497",
   "metadata": {},
   "outputs": [
    {
     "name": "stdout",
     "output_type": "stream",
     "text": [
      "month\n",
      "1     2087\n",
      "2     2483\n",
      "3     4078\n",
      "4     4892\n",
      "5     6363\n",
      "6     8144\n",
      "7     8741\n",
      "8     9244\n",
      "9     8252\n",
      "10    7162\n",
      "11    5958\n",
      "12    3987\n",
      "dtype: int64\n"
     ]
    }
   ],
   "source": [
    "# Display the number of rides by month\n",
    "print(small.groupby('month').size())"
   ]
  },
  {
   "cell_type": "code",
   "execution_count": null,
   "id": "38732a76-5441-40af-ad61-425bd7079658",
   "metadata": {},
   "outputs": [],
   "source": []
  }
 ],
 "metadata": {
  "kernelspec": {
   "display_name": "Python [conda env:nyc_bike]",
   "language": "python",
   "name": "conda-env-nyc_bike-py"
  },
  "language_info": {
   "codemirror_mode": {
    "name": "ipython",
    "version": 3
   },
   "file_extension": ".py",
   "mimetype": "text/x-python",
   "name": "python",
   "nbconvert_exporter": "python",
   "pygments_lexer": "ipython3",
   "version": "3.11.9"
  }
 },
 "nbformat": 4,
 "nbformat_minor": 5
}

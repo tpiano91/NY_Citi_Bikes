{
  "nbformat": 4,
  "nbformat_minor": 0,
  "metadata": {
    "colab": {
      "provenance": []
    },
    "kernelspec": {
      "name": "python3",
      "display_name": "Python 3"
    },
    "language_info": {
      "name": "python"
    },
    "widgets": {
      "application/vnd.jupyter.widget-state+json": {
        "d0b2b015e2784670857e9ea5c34d23b0": {
          "model_module": "keplergl-jupyter",
          "model_name": "KeplerGlModal",
          "model_module_version": "^0.3.2",
          "state": {
            "_dom_classes": [],
            "_model_module": "keplergl-jupyter",
            "_model_module_version": "^0.3.2",
            "_model_name": "KeplerGlModal",
            "_view_count": null,
            "_view_module": "keplergl-jupyter",
            "_view_module_version": "^0.3.2",
            "_view_name": "KeplerGlView",
            "config": {
              "version": "v1",
              "config": {
                "visState": {
                  "filters": [],
                  "layers": [
                    {
                      "id": "yajftk6",
                      "type": "point",
                      "config": {
                        "dataId": "data_1",
                        "label": "start",
                        "color": [
                          18,
                          147,
                          154
                        ],
                        "highlightColor": [
                          252,
                          242,
                          26,
                          255
                        ],
                        "columns": {
                          "lat": "start_lat",
                          "lng": "start_lng",
                          "altitude": null
                        },
                        "isVisible": true,
                        "visConfig": {
                          "radius": 10,
                          "fixedRadius": false,
                          "opacity": 0.8,
                          "outline": false,
                          "thickness": 2,
                          "strokeColor": null,
                          "colorRange": {
                            "name": "ColorBrewer Reds-6",
                            "type": "singlehue",
                            "category": "ColorBrewer",
                            "colors": [
                              "#fee5d9",
                              "#fcbba1",
                              "#fc9272",
                              "#fb6a4a",
                              "#de2d26",
                              "#a50f15"
                            ]
                          },
                          "strokeColorRange": {
                            "name": "Global Warming",
                            "type": "sequential",
                            "category": "Uber",
                            "colors": [
                              "#5A1846",
                              "#900C3F",
                              "#C70039",
                              "#E3611C",
                              "#F1920E",
                              "#FFC300"
                            ]
                          },
                          "radiusRange": [
                            0,
                            50
                          ],
                          "filled": true
                        },
                        "hidden": false,
                        "textLabel": [
                          {
                            "field": null,
                            "color": [
                              255,
                              255,
                              255
                            ],
                            "size": 18,
                            "offset": [
                              0,
                              0
                            ],
                            "anchor": "start",
                            "alignment": "center"
                          }
                        ]
                      },
                      "visualChannels": {
                        "colorField": {
                          "name": "trips",
                          "type": "integer"
                        },
                        "colorScale": "quantile",
                        "strokeColorField": null,
                        "strokeColorScale": "quantile",
                        "sizeField": null,
                        "sizeScale": "linear"
                      }
                    },
                    {
                      "id": "rqj2ny",
                      "type": "point",
                      "config": {
                        "dataId": "data_1",
                        "label": "end",
                        "color": [
                          221,
                          178,
                          124
                        ],
                        "highlightColor": [
                          252,
                          242,
                          26,
                          255
                        ],
                        "columns": {
                          "lat": "end_lat",
                          "lng": "end_lng",
                          "altitude": null
                        },
                        "isVisible": false,
                        "visConfig": {
                          "radius": 10,
                          "fixedRadius": false,
                          "opacity": 0.8,
                          "outline": false,
                          "thickness": 2,
                          "strokeColor": null,
                          "colorRange": {
                            "name": "Global Warming",
                            "type": "sequential",
                            "category": "Uber",
                            "colors": [
                              "#5A1846",
                              "#900C3F",
                              "#C70039",
                              "#E3611C",
                              "#F1920E",
                              "#FFC300"
                            ]
                          },
                          "strokeColorRange": {
                            "name": "Global Warming",
                            "type": "sequential",
                            "category": "Uber",
                            "colors": [
                              "#5A1846",
                              "#900C3F",
                              "#C70039",
                              "#E3611C",
                              "#F1920E",
                              "#FFC300"
                            ]
                          },
                          "radiusRange": [
                            0,
                            50
                          ],
                          "filled": true
                        },
                        "hidden": false,
                        "textLabel": [
                          {
                            "field": null,
                            "color": [
                              255,
                              255,
                              255
                            ],
                            "size": 18,
                            "offset": [
                              0,
                              0
                            ],
                            "anchor": "start",
                            "alignment": "center"
                          }
                        ]
                      },
                      "visualChannels": {
                        "colorField": {
                          "name": "trips",
                          "type": "integer"
                        },
                        "colorScale": "quantile",
                        "strokeColorField": null,
                        "strokeColorScale": "quantile",
                        "sizeField": null,
                        "sizeScale": "linear"
                      }
                    },
                    {
                      "id": "xfz58yp",
                      "type": "arc",
                      "config": {
                        "dataId": "data_1",
                        "label": "start -> end arc",
                        "color": [
                          253,
                          236,
                          0
                        ],
                        "highlightColor": [
                          252,
                          242,
                          26,
                          255
                        ],
                        "columns": {
                          "lat0": "start_lat",
                          "lng0": "start_lng",
                          "lat1": "end_lat",
                          "lng1": "end_lng"
                        },
                        "isVisible": true,
                        "visConfig": {
                          "opacity": 0.8,
                          "thickness": 2,
                          "colorRange": {
                            "name": "Global Warming",
                            "type": "sequential",
                            "category": "Uber",
                            "colors": [
                              "#5A1846",
                              "#900C3F",
                              "#C70039",
                              "#E3611C",
                              "#F1920E",
                              "#FFC300"
                            ]
                          },
                          "sizeRange": [
                            0,
                            10
                          ],
                          "targetColor": [
                            218,
                            0,
                            0
                          ]
                        },
                        "hidden": false,
                        "textLabel": [
                          {
                            "field": null,
                            "color": [
                              255,
                              255,
                              255
                            ],
                            "size": 18,
                            "offset": [
                              0,
                              0
                            ],
                            "anchor": "start",
                            "alignment": "center"
                          }
                        ]
                      },
                      "visualChannels": {
                        "colorField": null,
                        "colorScale": "quantile",
                        "sizeField": null,
                        "sizeScale": "linear"
                      }
                    },
                    {
                      "id": "1kkm6b",
                      "type": "line",
                      "config": {
                        "dataId": "data_1",
                        "label": "start -> end line",
                        "color": [
                          136,
                          87,
                          44
                        ],
                        "highlightColor": [
                          252,
                          242,
                          26,
                          255
                        ],
                        "columns": {
                          "lat0": "start_lat",
                          "lng0": "start_lng",
                          "alt0": null,
                          "lat1": "end_lat",
                          "lng1": "end_lng",
                          "alt1": null
                        },
                        "isVisible": false,
                        "visConfig": {
                          "opacity": 0.8,
                          "thickness": 2,
                          "colorRange": {
                            "name": "Global Warming",
                            "type": "sequential",
                            "category": "Uber",
                            "colors": [
                              "#5A1846",
                              "#900C3F",
                              "#C70039",
                              "#E3611C",
                              "#F1920E",
                              "#FFC300"
                            ]
                          },
                          "sizeRange": [
                            0,
                            10
                          ],
                          "targetColor": null,
                          "elevationScale": 1
                        },
                        "hidden": false,
                        "textLabel": [
                          {
                            "field": null,
                            "color": [
                              255,
                              255,
                              255
                            ],
                            "size": 18,
                            "offset": [
                              0,
                              0
                            ],
                            "anchor": "start",
                            "alignment": "center"
                          }
                        ]
                      },
                      "visualChannels": {
                        "colorField": null,
                        "colorScale": "quantile",
                        "sizeField": null,
                        "sizeScale": "linear"
                      }
                    }
                  ],
                  "interactionConfig": {
                    "tooltip": {
                      "fieldsToShow": {
                        "data_1": [
                          {
                            "name": "origin",
                            "format": null
                          },
                          {
                            "name": "destination",
                            "format": null
                          },
                          {
                            "name": "trips",
                            "format": null
                          }
                        ]
                      },
                      "compareMode": false,
                      "compareType": "absolute",
                      "enabled": true
                    },
                    "brush": {
                      "size": 0.5,
                      "enabled": false
                    },
                    "geocoder": {
                      "enabled": false
                    },
                    "coordinate": {
                      "enabled": false
                    }
                  },
                  "layerBlending": "normal",
                  "splitMaps": [],
                  "animationConfig": {
                    "currentTime": null,
                    "speed": 1
                  }
                },
                "mapState": {
                  "bearing": 0,
                  "dragRotate": false,
                  "latitude": 40.744644194968664,
                  "longitude": -74.12858726144886,
                  "pitch": 0,
                  "zoom": 9.762633098733485,
                  "isSplit": false
                },
                "mapStyle": {
                  "styleType": "dark",
                  "topLayerGroups": {},
                  "visibleLayerGroups": {
                    "label": true,
                    "road": true,
                    "border": false,
                    "building": true,
                    "water": true,
                    "land": true,
                    "3d building": false
                  },
                  "threeDBuildingColor": [
                    9.665468314072013,
                    17.18305478057247,
                    31.1442867897876
                  ],
                  "mapStyles": {}
                }
              }
            },
            "data": {
              "data_1": {
                "index": [
                  3657,
                  6290,
                  4976,
                  3574,
                  3135,
                  181,
                  4503,
                  6211,
                  3201,
                  5722,
                  6212,
                  285,
                  3112,
                  97,
                  3128,
                  3670,
                  3284,
                  4487,
                  2561,
                  3126,
                  2151,
                  4322,
                  1557,
                  5000,
                  4655,
                  201,
                  3102,
                  3705,
                  5133,
                  1473,
                  3120,
                  3111,
                  3089,
                  3691,
                  3704,
                  3088,
                  5191,
                  3912,
                  3222,
                  3706,
                  5399,
                  3711,
                  6186,
                  3573,
                  5601,
                  6209,
                  1258,
                  6348,
                  1055,
                  4469,
                  5600,
                  3921,
                  5239,
                  3575,
                  4151,
                  1918,
                  657,
                  4656,
                  3333,
                  4886,
                  1181,
                  6579,
                  3154,
                  2178,
                  349,
                  3138,
                  3124,
                  3303,
                  3083,
                  6137,
                  4635,
                  5721,
                  23,
                  82,
                  3834,
                  3202,
                  3707,
                  6807,
                  3729,
                  3746,
                  2224,
                  149,
                  4687,
                  5631,
                  2710,
                  1114,
                  6710,
                  3725,
                  3747,
                  656,
                  1905,
                  49,
                  1793,
                  3230,
                  1826,
                  5729,
                  3835,
                  5630,
                  2308,
                  3659
                ],
                "columns": [
                  "origin",
                  "destination",
                  "trips",
                  "start_lat",
                  "start_lng",
                  "end_lat",
                  "end_lng"
                ],
                "data": [
                  [
                    "Hoboken Terminal - Hudson St & Hudson Pl",
                    "Hoboken Ave at Monmouth St",
                    5565,
                    40.73593758446329,
                    -74.03030455112457,
                    40.73520838045357,
                    -74.04696375131607
                  ],
                  [
                    "South Waterfront Walkway - Sinatra Dr & 1 St",
                    "South Waterfront Walkway - Sinatra Dr & 1 St",
                    5439,
                    40.73698221818716,
                    -74.02778059244156,
                    40.73698221818716,
                    -74.02778059244156
                  ],
                  [
                    "Marin Light Rail",
                    "Grove St PATH",
                    4113,
                    40.71458403535893,
                    -74.04281705617905,
                    40.71958611647166,
                    -74.04311746358871
                  ],
                  [
                    "Hoboken Ave at Monmouth St",
                    "Hoboken Terminal - Hudson St & Hudson Pl",
                    4083,
                    40.73520838045357,
                    -74.04696375131607,
                    40.73593758446329,
                    -74.03030455112457
                  ],
                  [
                    "Grove St PATH",
                    "Marin Light Rail",
                    3973,
                    40.71958611647166,
                    -74.04311746358871,
                    40.71458403535893,
                    -74.04281705617905
                  ],
                  [
                    "12 St & Sinatra Dr N",
                    "South Waterfront Walkway - Sinatra Dr & 1 St",
                    3964,
                    40.75060414236896,
                    -74.02402013540268,
                    40.73698221818716,
                    -74.02778059244156
                  ],
                  [
                    "Liberty Light Rail",
                    "Liberty Light Rail",
                    3696,
                    40.7112423,
                    -74.0557013,
                    40.711242,
                    -74.055701
                  ],
                  [
                    "South Waterfront Walkway - Sinatra Dr & 1 St",
                    "12 St & Sinatra Dr N",
                    3495,
                    40.73698221818716,
                    -74.02778059244156,
                    40.75060414236896,
                    -74.02402013540268
                  ],
                  [
                    "Hamilton Park",
                    "Grove St PATH",
                    3203,
                    40.727595966,
                    -74.044247311,
                    40.71958611647166,
                    -74.04311746358871
                  ],
                  [
                    "Newport Pkwy",
                    "Newport Pkwy",
                    3131,
                    40.7287448,
                    -74.0321082,
                    40.7287448,
                    -74.0321082
                  ],
                  [
                    "South Waterfront Walkway - Sinatra Dr & 1 St",
                    "14 St Ferry - 14 St & Shipyard Ln",
                    3027,
                    40.73698221818716,
                    -74.02778059244156,
                    40.752961,
                    -74.024353
                  ],
                  [
                    "14 St Ferry - 14 St & Shipyard Ln",
                    "South Waterfront Walkway - Sinatra Dr & 1 St",
                    3026,
                    40.752961,
                    -74.024353,
                    40.73698221818716,
                    -74.02778059244156
                  ],
                  [
                    "Grove St PATH",
                    "Hamilton Park",
                    2956,
                    40.71958611647166,
                    -74.04311746358871,
                    40.727595966,
                    -74.044247311
                  ],
                  [
                    "12 St & Sinatra Dr N",
                    "12 St & Sinatra Dr N",
                    2952,
                    40.75060414236896,
                    -74.02402013540268,
                    40.75060414236896,
                    -74.02402013540268
                  ],
                  [
                    "Grove St PATH",
                    "Liberty Light Rail",
                    2847,
                    40.71958611647166,
                    -74.04311746358871,
                    40.711242,
                    -74.055701
                  ],
                  [
                    "Hoboken Terminal - Hudson St & Hudson Pl",
                    "Madison St & 1 St",
                    2840,
                    40.73593758446329,
                    -74.03030455112457,
                    40.73879,
                    -74.0393
                  ],
                  [
                    "Harborside",
                    "Columbus Dr at Exchange Pl",
                    2735,
                    40.7192517,
                    -74.034234,
                    40.71687,
                    -74.03281
                  ],
                  [
                    "Liberty Light Rail",
                    "Grove St PATH",
                    2692,
                    40.7112423,
                    -74.0557013,
                    40.71958611647166,
                    -74.04311746358871
                  ],
                  [
                    "Dixon Mills",
                    "Grove St PATH",
                    2556,
                    40.721630142638354,
                    -74.04996782541275,
                    40.71958611647166,
                    -74.04311746358871
                  ],
                  [
                    "Grove St PATH",
                    "Lafayette Park",
                    2530,
                    40.71958611647166,
                    -74.04311746358871,
                    40.71346382669195,
                    -74.06285852193832
                  ],
                  [
                    "Columbus Dr at Exchange Pl",
                    "Harborside",
                    2422,
                    40.71687,
                    -74.03281,
                    40.7192517,
                    -74.034234
                  ],
                  [
                    "Lafayette Park",
                    "Grove St PATH",
                    2422,
                    40.71346382669195,
                    -74.06285852193832,
                    40.71958611647166,
                    -74.04311746358871
                  ],
                  [
                    "Brunswick St",
                    "Grove St PATH",
                    2410,
                    40.7241765,
                    -74.0506564,
                    40.71958611647166,
                    -74.04311746358871
                  ],
                  [
                    "Marin Light Rail",
                    "Marin Light Rail",
                    2399,
                    40.71458403535893,
                    -74.04281705617905,
                    40.71458403535893,
                    -74.04281705617905
                  ],
                  [
                    "Madison St & 1 St",
                    "Hoboken Terminal - Hudson St & Hudson Pl",
                    2359,
                    40.73879,
                    -74.0393,
                    40.73593758446329,
                    -74.03030455112457
                  ],
                  [
                    "14 St Ferry - 14 St & Shipyard Ln",
                    "14 St Ferry - 14 St & Shipyard Ln",
                    2345,
                    40.752961,
                    -74.024353,
                    40.752961,
                    -74.024353
                  ],
                  [
                    "Grove St PATH",
                    "Dixon Mills",
                    2339,
                    40.71958611647166,
                    -74.04311746358871,
                    40.721630142638354,
                    -74.04996782541275
                  ],
                  [
                    "Hoboken Terminal - River St & Hudson Pl",
                    "12 St & Sinatra Dr N",
                    2103,
                    40.7360676564825,
                    -74.02912706136703,
                    40.75060414236896,
                    -74.02402013540268
                  ],
                  [
                    "McGinley Square",
                    "Bergen Ave & Sip Ave",
                    2085,
                    40.7253399253558,
                    -74.06762212514877,
                    40.73100888698729,
                    -74.06443700194359
                  ],
                  [
                    "Brunswick & 6th",
                    "Grove St PATH",
                    2082,
                    40.72601172964625,
                    -74.05038893222809,
                    40.71958611647166,
                    -74.04311746358871
                  ],
                  [
                    "Grove St PATH",
                    "JC Medical Center",
                    2073,
                    40.71958611647166,
                    -74.04311746358871,
                    40.71653978099194,
                    -74.0496379137039
                  ],
                  [
                    "Grove St PATH",
                    "Grove St PATH",
                    2071,
                    40.71958611647166,
                    -74.04311746358871,
                    40.71958611647166,
                    -74.04311746358871
                  ],
                  [
                    "Grove St PATH",
                    "Brunswick St",
                    2032,
                    40.71958611647166,
                    -74.04311746358871,
                    40.7241765,
                    -74.0506564
                  ],
                  [
                    "Hoboken Terminal - Hudson St & Hudson Pl",
                    "Southwest Park - Jackson St & Observer Hwy",
                    2014,
                    40.73593758446329,
                    -74.03030455112457,
                    40.73755127245804,
                    -74.04166370630264
                  ],
                  [
                    "Hoboken Terminal - River St & Hudson Pl",
                    "11 St & Washington St",
                    1964,
                    40.7360676564825,
                    -74.02912706136703,
                    40.74998490907138,
                    -74.02715027332306
                  ],
                  [
                    "Grove St PATH",
                    "Brunswick & 6th",
                    1925,
                    40.71958611647166,
                    -74.04311746358871,
                    40.72601172964625,
                    -74.05038893222809
                  ],
                  [
                    "McGinley Square",
                    "Sip Ave",
                    1906,
                    40.7253399253558,
                    -74.06762212514877,
                    40.73089709786179,
                    -74.06391263008118
                  ],
                  [
                    "JC Medical Center",
                    "Grove St PATH",
                    1868,
                    40.71653978099194,
                    -74.0496379137039,
                    40.71958611647166,
                    -74.04311746358871
                  ],
                  [
                    "Hamilton Park",
                    "Manila & 1st",
                    1852,
                    40.727595966,
                    -74.044247311,
                    40.72165072487999,
                    -74.04288411140442
                  ],
                  [
                    "Hoboken Terminal - River St & Hudson Pl",
                    "14 St Ferry - 14 St & Shipyard Ln",
                    1826,
                    40.7360676564825,
                    -74.02912706136703,
                    40.752961,
                    -74.024353
                  ],
                  [
                    "Morris Canal",
                    "Columbus Dr at Exchange Pl",
                    1810,
                    40.7124188237569,
                    -74.03852552175522,
                    40.71687,
                    -74.03281
                  ],
                  [
                    "Hoboken Terminal - River St & Hudson Pl",
                    "8 St & Washington St",
                    1807,
                    40.7360676564825,
                    -74.02912706136703,
                    40.74598388291562,
                    -74.02819901704788
                  ],
                  [
                    "Sip Ave",
                    "McGinley Square",
                    1792,
                    40.73089709786179,
                    -74.06391263008118,
                    40.7253399253558,
                    -74.06762212514877
                  ],
                  [
                    "Hoboken Ave at Monmouth St",
                    "Hoboken Ave at Monmouth St",
                    1760,
                    40.73520838045357,
                    -74.04696375131607,
                    40.73520838045357,
                    -74.04696375131607
                  ],
                  [
                    "Newport PATH",
                    "Harborside",
                    1758,
                    40.7272235,
                    -74.0337589,
                    40.7192517,
                    -74.034234
                  ],
                  [
                    "South Waterfront Walkway - Sinatra Dr & 1 St",
                    "11 St & Washington St",
                    1755,
                    40.73698221818716,
                    -74.02778059244156,
                    40.74998490907138,
                    -74.02715027332306
                  ],
                  [
                    "Bergen Ave & Sip Ave",
                    "McGinley Square",
                    1730,
                    40.73100888698729,
                    -74.06443700194359,
                    40.7253399253558,
                    -74.06762212514877
                  ],
                  [
                    "Southwest Park - Jackson St & Observer Hwy",
                    "Hoboken Terminal - Hudson St & Hudson Pl",
                    1716,
                    40.73755127245804,
                    -74.04166370630264,
                    40.73593758446329,
                    -74.03030455112457
                  ],
                  [
                    "Baldwin at Montgomery",
                    "Grove St PATH",
                    1708,
                    40.7236589,
                    -74.0641943,
                    40.71958611647166,
                    -74.04311746358871
                  ],
                  [
                    "Liberty Light Rail",
                    "City Hall",
                    1696,
                    40.7112423,
                    -74.0557013,
                    40.7177325,
                    -74.043845
                  ],
                  [
                    "Newport PATH",
                    "Hamilton Park",
                    1694,
                    40.7272235,
                    -74.0337589,
                    40.727595966,
                    -74.044247311
                  ],
                  [
                    "JC Medical Center",
                    "JC Medical Center",
                    1664,
                    40.71653978099194,
                    -74.0496379137039,
                    40.71653978099194,
                    -74.0496379137039
                  ],
                  [
                    "Monmouth and 6th",
                    "Grove St PATH",
                    1661,
                    40.72568548362901,
                    -74.04879033565521,
                    40.71958611647166,
                    -74.04311746358871
                  ],
                  [
                    "Hoboken Ave at Monmouth St",
                    "Hoboken Terminal - River St & Hudson Pl",
                    1660,
                    40.73520838045357,
                    -74.04696375131607,
                    40.7360676564825,
                    -74.02912706136703
                  ],
                  [
                    "Jersey & 6th St",
                    "Grove St PATH",
                    1646,
                    40.72528910781132,
                    -74.04557168483734,
                    40.71958611647166,
                    -74.04311746358871
                  ],
                  [
                    "City Hall - Washington St & 1 St",
                    "Madison St & 1 St",
                    1614,
                    40.73736,
                    -74.03097,
                    40.73879,
                    -74.0393
                  ],
                  [
                    "8 St & Washington St",
                    "Hoboken Terminal - River St & Hudson Pl",
                    1595,
                    40.74598388291562,
                    -74.02819901704788,
                    40.7360676564825,
                    -74.02912706136703
                  ],
                  [
                    "Madison St & 1 St",
                    "Hoboken Terminal - River St & Hudson Pl",
                    1563,
                    40.73879,
                    -74.0393,
                    40.7360676564825,
                    -74.02912706136703
                  ],
                  [
                    "Harborside",
                    "Newport PATH",
                    1557,
                    40.7192517,
                    -74.034234,
                    40.7272235,
                    -74.0337589
                  ],
                  [
                    "Manila & 1st",
                    "Hamilton Park",
                    1554,
                    40.72165072487999,
                    -74.04288411140442,
                    40.727595966,
                    -74.044247311
                  ],
                  [
                    "Bergen Ave",
                    "Sip Ave",
                    1527,
                    40.722103786686034,
                    -74.07145500183105,
                    40.73089709786179,
                    -74.06391263008118
                  ],
                  [
                    "Van Vorst Park",
                    "Grove St PATH",
                    1523,
                    40.71848892,
                    -74.047726625,
                    40.71958611647166,
                    -74.04311746358871
                  ],
                  [
                    "Grove St PATH",
                    "Van Vorst Park",
                    1506,
                    40.71958611647166,
                    -74.04311746358871,
                    40.71848892,
                    -74.047726625
                  ],
                  [
                    "Columbus Dr at Exchange Pl",
                    "Morris Canal",
                    1495,
                    40.71687,
                    -74.03281,
                    40.7124188237569,
                    -74.03852552175522
                  ],
                  [
                    "4 St & Grand St",
                    "Hoboken Terminal - River St & Hudson Pl",
                    1488,
                    40.7422579775645,
                    -74.03511106967926,
                    40.7360676564825,
                    -74.02912706136703
                  ],
                  [
                    "Grove St PATH",
                    "Monmouth and 6th",
                    1480,
                    40.71958611647166,
                    -74.04311746358871,
                    40.72568548362901,
                    -74.04879033565521
                  ],
                  [
                    "Grove St PATH",
                    "Jersey & 6th St",
                    1474,
                    40.71958611647166,
                    -74.04311746358871,
                    40.72528910781132,
                    -74.04557168483734
                  ],
                  [
                    "Harborside",
                    "Harborside",
                    1466,
                    40.7192517,
                    -74.034234,
                    40.7192517,
                    -74.034234
                  ],
                  [
                    "Grove St PATH",
                    "Baldwin at Montgomery",
                    1465,
                    40.71958611647166,
                    -74.04311746358871,
                    40.7236589,
                    -74.0641943
                  ],
                  [
                    "Sip Ave",
                    "Bergen Ave",
                    1447,
                    40.73089709786179,
                    -74.06391263008118,
                    40.722103786686034,
                    -74.07145500183105
                  ],
                  [
                    "Madison St & 1 St",
                    "City Hall - Washington St & 1 St",
                    1436,
                    40.73879,
                    -74.0393,
                    40.73736,
                    -74.03097
                  ],
                  [
                    "Newport Pkwy",
                    "Newport PATH",
                    1433,
                    40.7287448,
                    -74.0321082,
                    40.7272235,
                    -74.0337589
                  ],
                  [
                    "11 St & Washington St",
                    "City Hall - Washington St & 1 St",
                    1399,
                    40.74998490907138,
                    -74.02715027332306,
                    40.73736,
                    -74.03097
                  ],
                  [
                    "11 St & Washington St",
                    "South Waterfront Walkway - Sinatra Dr & 1 St",
                    1391,
                    40.74998490907138,
                    -74.02715027332306,
                    40.73698221818716,
                    -74.02778059244156
                  ],
                  [
                    "Hudson St & 4 St",
                    "Hoboken Terminal - River St & Hudson Pl",
                    1381,
                    40.74097260864355,
                    -74.02860336005688,
                    40.7360676564825,
                    -74.02912706136703
                  ],
                  [
                    "Hamilton Park",
                    "Hamilton Park",
                    1380,
                    40.727595966,
                    -74.044247311,
                    40.727595966,
                    -74.044247311
                  ],
                  [
                    "Hoboken Terminal - River St & Hudson Pl",
                    "4 St & Grand St",
                    1362,
                    40.7360676564825,
                    -74.02912706136703,
                    40.7422579775645,
                    -74.03511106967926
                  ],
                  [
                    "Washington St",
                    "Washington St",
                    1351,
                    40.7242941,
                    -74.0354826,
                    40.7242941,
                    -74.0354826
                  ],
                  [
                    "Hoboken Terminal - River St & Hudson Pl",
                    "Columbus Park - Clinton St & 9 St",
                    1329,
                    40.7360676564825,
                    -74.02912706136703,
                    40.74816121065146,
                    -74.0324530005455
                  ],
                  [
                    "Hoboken Terminal - River St & Hudson Pl",
                    "Hoboken Terminal - River St & Hudson Pl",
                    1305,
                    40.7360676564825,
                    -74.02912706136703,
                    40.7360676564825,
                    -74.02912706136703
                  ],
                  [
                    "Columbus Drive",
                    "Columbus Drive",
                    1302,
                    40.71835519823214,
                    -74.03891444206238,
                    40.71835519823214,
                    -74.03891444206238
                  ],
                  [
                    "12 St & Sinatra Dr N",
                    "Hoboken Terminal - River St & Hudson Pl",
                    1298,
                    40.75060414236896,
                    -74.02402013540268,
                    40.7360676564825,
                    -74.02912706136703
                  ],
                  [
                    "Madison St & 1 St",
                    "South Waterfront Walkway - Sinatra Dr & 1 St",
                    1293,
                    40.73879,
                    -74.0393,
                    40.73698221818716,
                    -74.02778059244156
                  ],
                  [
                    "Newport PATH",
                    "Newport Pkwy",
                    1281,
                    40.7272235,
                    -74.0337589,
                    40.7287448,
                    -74.0321082
                  ],
                  [
                    "Fairmount Ave",
                    "Bergen Ave & Sip Ave",
                    1278,
                    40.72572613742557,
                    -74.07195925712585,
                    40.73100888698729,
                    -74.06443700194359
                  ],
                  [
                    "Bergen Ave",
                    "Bergen Ave & Sip Ave",
                    1275,
                    40.722103786686034,
                    -74.07145500183105,
                    40.73100888698729,
                    -74.06443700194359
                  ],
                  [
                    "Warren St",
                    "Warren St",
                    1274,
                    40.7211236,
                    -74.03805095,
                    40.7211236,
                    -74.03805095
                  ],
                  [
                    "Hoboken Terminal - River St & Hudson Pl",
                    "Clinton St & 7 St",
                    1272,
                    40.7360676564825,
                    -74.02912706136703,
                    40.74542,
                    -74.03332
                  ],
                  [
                    "Hoboken Terminal - River St & Hudson Pl",
                    "Hudson St & 4 St",
                    1260,
                    40.7360676564825,
                    -74.02912706136703,
                    40.74097260864355,
                    -74.02860336005688
                  ],
                  [
                    "8 St & Washington St",
                    "Hoboken Terminal - Hudson St & Hudson Pl",
                    1258,
                    40.74598388291562,
                    -74.02819901704788,
                    40.73593758446329,
                    -74.03030455112457
                  ],
                  [
                    "City Hall - Washington St & 1 St",
                    "Hoboken Ave at Monmouth St",
                    1258,
                    40.73736,
                    -74.03097,
                    40.73520838045357,
                    -74.04696375131607
                  ],
                  [
                    "11 St & Washington St",
                    "Hoboken Terminal - River St & Hudson Pl",
                    1247,
                    40.74998490907138,
                    -74.02715027332306,
                    40.7360676564825,
                    -74.02912706136703
                  ],
                  [
                    "City Hall",
                    "City Hall",
                    1246,
                    40.7177325,
                    -74.043845,
                    40.7177325,
                    -74.043845
                  ],
                  [
                    "Hamilton Park",
                    "Newport PATH",
                    1242,
                    40.727595966,
                    -74.044247311,
                    40.7272235,
                    -74.0337589
                  ],
                  [
                    "City Hall",
                    "Liberty Light Rail",
                    1234,
                    40.7177325,
                    -74.043845,
                    40.711242,
                    -74.055701
                  ],
                  [
                    "Newport Pkwy",
                    "South Waterfront Walkway - Sinatra Dr & 1 St",
                    1233,
                    40.7287448,
                    -74.0321082,
                    40.73698221818716,
                    -74.02778059244156
                  ],
                  [
                    "Hudson St & 4 St",
                    "Hudson St & 4 St",
                    1232,
                    40.74097260864355,
                    -74.02860336005688,
                    40.74097260864355,
                    -74.02860336005688
                  ],
                  [
                    "Newport PATH",
                    "Newport PATH",
                    1231,
                    40.7272235,
                    -74.0337589,
                    40.7272235,
                    -74.0337589
                  ],
                  [
                    "Columbus Park - Clinton St & 9 St",
                    "City Hall - Washington St & 1 St",
                    1229,
                    40.74816121065146,
                    -74.0324530005455,
                    40.73736,
                    -74.03097
                  ],
                  [
                    "Hoboken Terminal - Hudson St & Hudson Pl",
                    "Hoboken Terminal - River St & Hudson Pl",
                    1224,
                    40.73593758446329,
                    -74.03030455112457,
                    40.7360676564825,
                    -74.02912706136703
                  ]
                ]
              }
            },
            "height": 700,
            "layout": "IPY_MODEL_b648dc4d6c5a4bc6be2e2f250d4a16bb",
            "value": "Hello World!"
          }
        },
        "b648dc4d6c5a4bc6be2e2f250d4a16bb": {
          "model_module": "@jupyter-widgets/base",
          "model_name": "LayoutModel",
          "model_module_version": "1.2.0",
          "state": {
            "_model_module": "@jupyter-widgets/base",
            "_model_module_version": "1.2.0",
            "_model_name": "LayoutModel",
            "_view_count": null,
            "_view_module": "@jupyter-widgets/base",
            "_view_module_version": "1.2.0",
            "_view_name": "LayoutView",
            "align_content": null,
            "align_items": null,
            "align_self": null,
            "border": null,
            "bottom": null,
            "display": null,
            "flex": null,
            "flex_flow": null,
            "grid_area": null,
            "grid_auto_columns": null,
            "grid_auto_flow": null,
            "grid_auto_rows": null,
            "grid_column": null,
            "grid_gap": null,
            "grid_row": null,
            "grid_template_areas": null,
            "grid_template_columns": null,
            "grid_template_rows": null,
            "height": null,
            "justify_content": null,
            "justify_items": null,
            "left": null,
            "margin": null,
            "max_height": null,
            "max_width": null,
            "min_height": null,
            "min_width": null,
            "object_fit": null,
            "object_position": null,
            "order": null,
            "overflow": null,
            "overflow_x": null,
            "overflow_y": null,
            "padding": null,
            "right": null,
            "top": null,
            "visibility": null,
            "width": null
          }
        }
      }
    }
  },
  "cells": [
    {
      "cell_type": "code",
      "source": [
        "%%capture\n",
        "pip install keplergl"
      ],
      "metadata": {
        "id": "11SEQQPGgxoG"
      },
      "execution_count": 1,
      "outputs": []
    },
    {
      "cell_type": "code",
      "execution_count": 2,
      "metadata": {
        "id": "JbH8BGaXgpxV"
      },
      "outputs": [],
      "source": [
        "import pandas as pd\n",
        "import os\n",
        "from keplergl import KeplerGl\n",
        "from pyproj import CRS\n",
        "import numpy as np\n",
        "from matplotlib import pyplot as plt"
      ]
    },
    {
      "cell_type": "code",
      "source": [
        "df = pd.read_csv('/content/drive/MyDrive/NY_Citi_Bikes/Data/trip_locations.csv',index_col=0)"
      ],
      "metadata": {
        "id": "A4xNIDTig3yV"
      },
      "execution_count": 5,
      "outputs": []
    },
    {
      "cell_type": "code",
      "source": [
        "df.head()"
      ],
      "metadata": {
        "colab": {
          "base_uri": "https://localhost:8080/",
          "height": 206
        },
        "id": "U6G3yozbhw2B",
        "outputId": "93274956-5012-4155-c74a-4af1c7b484f6"
      },
      "execution_count": 6,
      "outputs": [
        {
          "output_type": "execute_result",
          "data": {
            "text/plain": [
              "                  origin                        destination  trips  start_lat  \\\n",
              "0  11 St & Washington St              11 St & Washington St   1132  40.749985   \n",
              "1  11 St & Washington St                   12 Ave & W 40 St      1  40.749985   \n",
              "2  11 St & Washington St               12 St & Sinatra Dr N    253  40.749985   \n",
              "3  11 St & Washington St  14 St Ferry - 14 St & Shipyard Ln    395  40.749985   \n",
              "4  11 St & Washington St                    4 St & Grand St    350  40.749985   \n",
              "\n",
              "   start_lng    end_lat    end_lng  \n",
              "0  -74.02715  40.749985 -74.027150  \n",
              "1  -74.02715  40.760875 -74.002777  \n",
              "2  -74.02715  40.750604 -74.024020  \n",
              "3  -74.02715  40.752961 -74.024353  \n",
              "4  -74.02715  40.742258 -74.035111  "
            ],
            "text/html": [
              "\n",
              "  <div id=\"df-3d89f3e6-267e-411d-a161-d1fd8272dee0\" class=\"colab-df-container\">\n",
              "    <div>\n",
              "<style scoped>\n",
              "    .dataframe tbody tr th:only-of-type {\n",
              "        vertical-align: middle;\n",
              "    }\n",
              "\n",
              "    .dataframe tbody tr th {\n",
              "        vertical-align: top;\n",
              "    }\n",
              "\n",
              "    .dataframe thead th {\n",
              "        text-align: right;\n",
              "    }\n",
              "</style>\n",
              "<table border=\"1\" class=\"dataframe\">\n",
              "  <thead>\n",
              "    <tr style=\"text-align: right;\">\n",
              "      <th></th>\n",
              "      <th>origin</th>\n",
              "      <th>destination</th>\n",
              "      <th>trips</th>\n",
              "      <th>start_lat</th>\n",
              "      <th>start_lng</th>\n",
              "      <th>end_lat</th>\n",
              "      <th>end_lng</th>\n",
              "    </tr>\n",
              "  </thead>\n",
              "  <tbody>\n",
              "    <tr>\n",
              "      <th>0</th>\n",
              "      <td>11 St &amp; Washington St</td>\n",
              "      <td>11 St &amp; Washington St</td>\n",
              "      <td>1132</td>\n",
              "      <td>40.749985</td>\n",
              "      <td>-74.02715</td>\n",
              "      <td>40.749985</td>\n",
              "      <td>-74.027150</td>\n",
              "    </tr>\n",
              "    <tr>\n",
              "      <th>1</th>\n",
              "      <td>11 St &amp; Washington St</td>\n",
              "      <td>12 Ave &amp; W 40 St</td>\n",
              "      <td>1</td>\n",
              "      <td>40.749985</td>\n",
              "      <td>-74.02715</td>\n",
              "      <td>40.760875</td>\n",
              "      <td>-74.002777</td>\n",
              "    </tr>\n",
              "    <tr>\n",
              "      <th>2</th>\n",
              "      <td>11 St &amp; Washington St</td>\n",
              "      <td>12 St &amp; Sinatra Dr N</td>\n",
              "      <td>253</td>\n",
              "      <td>40.749985</td>\n",
              "      <td>-74.02715</td>\n",
              "      <td>40.750604</td>\n",
              "      <td>-74.024020</td>\n",
              "    </tr>\n",
              "    <tr>\n",
              "      <th>3</th>\n",
              "      <td>11 St &amp; Washington St</td>\n",
              "      <td>14 St Ferry - 14 St &amp; Shipyard Ln</td>\n",
              "      <td>395</td>\n",
              "      <td>40.749985</td>\n",
              "      <td>-74.02715</td>\n",
              "      <td>40.752961</td>\n",
              "      <td>-74.024353</td>\n",
              "    </tr>\n",
              "    <tr>\n",
              "      <th>4</th>\n",
              "      <td>11 St &amp; Washington St</td>\n",
              "      <td>4 St &amp; Grand St</td>\n",
              "      <td>350</td>\n",
              "      <td>40.749985</td>\n",
              "      <td>-74.02715</td>\n",
              "      <td>40.742258</td>\n",
              "      <td>-74.035111</td>\n",
              "    </tr>\n",
              "  </tbody>\n",
              "</table>\n",
              "</div>\n",
              "    <div class=\"colab-df-buttons\">\n",
              "\n",
              "  <div class=\"colab-df-container\">\n",
              "    <button class=\"colab-df-convert\" onclick=\"convertToInteractive('df-3d89f3e6-267e-411d-a161-d1fd8272dee0')\"\n",
              "            title=\"Convert this dataframe to an interactive table.\"\n",
              "            style=\"display:none;\">\n",
              "\n",
              "  <svg xmlns=\"http://www.w3.org/2000/svg\" height=\"24px\" viewBox=\"0 -960 960 960\">\n",
              "    <path d=\"M120-120v-720h720v720H120Zm60-500h600v-160H180v160Zm220 220h160v-160H400v160Zm0 220h160v-160H400v160ZM180-400h160v-160H180v160Zm440 0h160v-160H620v160ZM180-180h160v-160H180v160Zm440 0h160v-160H620v160Z\"/>\n",
              "  </svg>\n",
              "    </button>\n",
              "\n",
              "  <style>\n",
              "    .colab-df-container {\n",
              "      display:flex;\n",
              "      gap: 12px;\n",
              "    }\n",
              "\n",
              "    .colab-df-convert {\n",
              "      background-color: #E8F0FE;\n",
              "      border: none;\n",
              "      border-radius: 50%;\n",
              "      cursor: pointer;\n",
              "      display: none;\n",
              "      fill: #1967D2;\n",
              "      height: 32px;\n",
              "      padding: 0 0 0 0;\n",
              "      width: 32px;\n",
              "    }\n",
              "\n",
              "    .colab-df-convert:hover {\n",
              "      background-color: #E2EBFA;\n",
              "      box-shadow: 0px 1px 2px rgba(60, 64, 67, 0.3), 0px 1px 3px 1px rgba(60, 64, 67, 0.15);\n",
              "      fill: #174EA6;\n",
              "    }\n",
              "\n",
              "    .colab-df-buttons div {\n",
              "      margin-bottom: 4px;\n",
              "    }\n",
              "\n",
              "    [theme=dark] .colab-df-convert {\n",
              "      background-color: #3B4455;\n",
              "      fill: #D2E3FC;\n",
              "    }\n",
              "\n",
              "    [theme=dark] .colab-df-convert:hover {\n",
              "      background-color: #434B5C;\n",
              "      box-shadow: 0px 1px 3px 1px rgba(0, 0, 0, 0.15);\n",
              "      filter: drop-shadow(0px 1px 2px rgba(0, 0, 0, 0.3));\n",
              "      fill: #FFFFFF;\n",
              "    }\n",
              "  </style>\n",
              "\n",
              "    <script>\n",
              "      const buttonEl =\n",
              "        document.querySelector('#df-3d89f3e6-267e-411d-a161-d1fd8272dee0 button.colab-df-convert');\n",
              "      buttonEl.style.display =\n",
              "        google.colab.kernel.accessAllowed ? 'block' : 'none';\n",
              "\n",
              "      async function convertToInteractive(key) {\n",
              "        const element = document.querySelector('#df-3d89f3e6-267e-411d-a161-d1fd8272dee0');\n",
              "        const dataTable =\n",
              "          await google.colab.kernel.invokeFunction('convertToInteractive',\n",
              "                                                    [key], {});\n",
              "        if (!dataTable) return;\n",
              "\n",
              "        const docLinkHtml = 'Like what you see? Visit the ' +\n",
              "          '<a target=\"_blank\" href=https://colab.research.google.com/notebooks/data_table.ipynb>data table notebook</a>'\n",
              "          + ' to learn more about interactive tables.';\n",
              "        element.innerHTML = '';\n",
              "        dataTable['output_type'] = 'display_data';\n",
              "        await google.colab.output.renderOutput(dataTable, element);\n",
              "        const docLink = document.createElement('div');\n",
              "        docLink.innerHTML = docLinkHtml;\n",
              "        element.appendChild(docLink);\n",
              "      }\n",
              "    </script>\n",
              "  </div>\n",
              "\n",
              "\n",
              "<div id=\"df-48f31636-cdb3-4a77-91f4-77602075276f\">\n",
              "  <button class=\"colab-df-quickchart\" onclick=\"quickchart('df-48f31636-cdb3-4a77-91f4-77602075276f')\"\n",
              "            title=\"Suggest charts\"\n",
              "            style=\"display:none;\">\n",
              "\n",
              "<svg xmlns=\"http://www.w3.org/2000/svg\" height=\"24px\"viewBox=\"0 0 24 24\"\n",
              "     width=\"24px\">\n",
              "    <g>\n",
              "        <path d=\"M19 3H5c-1.1 0-2 .9-2 2v14c0 1.1.9 2 2 2h14c1.1 0 2-.9 2-2V5c0-1.1-.9-2-2-2zM9 17H7v-7h2v7zm4 0h-2V7h2v10zm4 0h-2v-4h2v4z\"/>\n",
              "    </g>\n",
              "</svg>\n",
              "  </button>\n",
              "\n",
              "<style>\n",
              "  .colab-df-quickchart {\n",
              "      --bg-color: #E8F0FE;\n",
              "      --fill-color: #1967D2;\n",
              "      --hover-bg-color: #E2EBFA;\n",
              "      --hover-fill-color: #174EA6;\n",
              "      --disabled-fill-color: #AAA;\n",
              "      --disabled-bg-color: #DDD;\n",
              "  }\n",
              "\n",
              "  [theme=dark] .colab-df-quickchart {\n",
              "      --bg-color: #3B4455;\n",
              "      --fill-color: #D2E3FC;\n",
              "      --hover-bg-color: #434B5C;\n",
              "      --hover-fill-color: #FFFFFF;\n",
              "      --disabled-bg-color: #3B4455;\n",
              "      --disabled-fill-color: #666;\n",
              "  }\n",
              "\n",
              "  .colab-df-quickchart {\n",
              "    background-color: var(--bg-color);\n",
              "    border: none;\n",
              "    border-radius: 50%;\n",
              "    cursor: pointer;\n",
              "    display: none;\n",
              "    fill: var(--fill-color);\n",
              "    height: 32px;\n",
              "    padding: 0;\n",
              "    width: 32px;\n",
              "  }\n",
              "\n",
              "  .colab-df-quickchart:hover {\n",
              "    background-color: var(--hover-bg-color);\n",
              "    box-shadow: 0 1px 2px rgba(60, 64, 67, 0.3), 0 1px 3px 1px rgba(60, 64, 67, 0.15);\n",
              "    fill: var(--button-hover-fill-color);\n",
              "  }\n",
              "\n",
              "  .colab-df-quickchart-complete:disabled,\n",
              "  .colab-df-quickchart-complete:disabled:hover {\n",
              "    background-color: var(--disabled-bg-color);\n",
              "    fill: var(--disabled-fill-color);\n",
              "    box-shadow: none;\n",
              "  }\n",
              "\n",
              "  .colab-df-spinner {\n",
              "    border: 2px solid var(--fill-color);\n",
              "    border-color: transparent;\n",
              "    border-bottom-color: var(--fill-color);\n",
              "    animation:\n",
              "      spin 1s steps(1) infinite;\n",
              "  }\n",
              "\n",
              "  @keyframes spin {\n",
              "    0% {\n",
              "      border-color: transparent;\n",
              "      border-bottom-color: var(--fill-color);\n",
              "      border-left-color: var(--fill-color);\n",
              "    }\n",
              "    20% {\n",
              "      border-color: transparent;\n",
              "      border-left-color: var(--fill-color);\n",
              "      border-top-color: var(--fill-color);\n",
              "    }\n",
              "    30% {\n",
              "      border-color: transparent;\n",
              "      border-left-color: var(--fill-color);\n",
              "      border-top-color: var(--fill-color);\n",
              "      border-right-color: var(--fill-color);\n",
              "    }\n",
              "    40% {\n",
              "      border-color: transparent;\n",
              "      border-right-color: var(--fill-color);\n",
              "      border-top-color: var(--fill-color);\n",
              "    }\n",
              "    60% {\n",
              "      border-color: transparent;\n",
              "      border-right-color: var(--fill-color);\n",
              "    }\n",
              "    80% {\n",
              "      border-color: transparent;\n",
              "      border-right-color: var(--fill-color);\n",
              "      border-bottom-color: var(--fill-color);\n",
              "    }\n",
              "    90% {\n",
              "      border-color: transparent;\n",
              "      border-bottom-color: var(--fill-color);\n",
              "    }\n",
              "  }\n",
              "</style>\n",
              "\n",
              "  <script>\n",
              "    async function quickchart(key) {\n",
              "      const quickchartButtonEl =\n",
              "        document.querySelector('#' + key + ' button');\n",
              "      quickchartButtonEl.disabled = true;  // To prevent multiple clicks.\n",
              "      quickchartButtonEl.classList.add('colab-df-spinner');\n",
              "      try {\n",
              "        const charts = await google.colab.kernel.invokeFunction(\n",
              "            'suggestCharts', [key], {});\n",
              "      } catch (error) {\n",
              "        console.error('Error during call to suggestCharts:', error);\n",
              "      }\n",
              "      quickchartButtonEl.classList.remove('colab-df-spinner');\n",
              "      quickchartButtonEl.classList.add('colab-df-quickchart-complete');\n",
              "    }\n",
              "    (() => {\n",
              "      let quickchartButtonEl =\n",
              "        document.querySelector('#df-48f31636-cdb3-4a77-91f4-77602075276f button');\n",
              "      quickchartButtonEl.style.display =\n",
              "        google.colab.kernel.accessAllowed ? 'block' : 'none';\n",
              "    })();\n",
              "  </script>\n",
              "</div>\n",
              "\n",
              "    </div>\n",
              "  </div>\n"
            ],
            "application/vnd.google.colaboratory.intrinsic+json": {
              "type": "dataframe",
              "variable_name": "df",
              "summary": "{\n  \"name\": \"df\",\n  \"rows\": 6953,\n  \"fields\": [\n    {\n      \"column\": \"origin\",\n      \"properties\": {\n        \"dtype\": \"category\",\n        \"num_unique_values\": 84,\n        \"samples\": [\n          \"Riverview Park\",\n          \"11 St & Washington St\",\n          \"Madison St & 10 St\"\n        ],\n        \"semantic_type\": \"\",\n        \"description\": \"\"\n      }\n    },\n    {\n      \"column\": \"destination\",\n      \"properties\": {\n        \"dtype\": \"category\",\n        \"num_unique_values\": 320,\n        \"samples\": [\n          \"Myrtle Ave & St Edwards St\",\n          \"W 20 St & 10 Ave\",\n          \"Clinton St & Newark St\"\n        ],\n        \"semantic_type\": \"\",\n        \"description\": \"\"\n      }\n    },\n    {\n      \"column\": \"trips\",\n      \"properties\": {\n        \"dtype\": \"number\",\n        \"std\": 304,\n        \"min\": 1,\n        \"max\": 5565,\n        \"num_unique_values\": 800,\n        \"samples\": [\n          735,\n          1184,\n          166\n        ],\n        \"semantic_type\": \"\",\n        \"description\": \"\"\n      }\n    },\n    {\n      \"column\": \"start_lat\",\n      \"properties\": {\n        \"dtype\": \"number\",\n        \"std\": 0.012875382347735935,\n        \"min\": 40.70657545063453,\n        \"max\": 40.75453,\n        \"num_unique_values\": 84,\n        \"samples\": [\n          40.7443187,\n          40.74998490907138,\n          40.74994325412246\n        ],\n        \"semantic_type\": \"\",\n        \"description\": \"\"\n      }\n    },\n    {\n      \"column\": \"start_lng\",\n      \"properties\": {\n        \"dtype\": \"number\",\n        \"std\": 0.01497769022077067,\n        \"min\": -74.08896387030836,\n        \"max\": -74.02402013540268,\n        \"num_unique_values\": 84,\n        \"samples\": [\n          -74.0439909,\n          -74.02715027332306,\n          -74.03586477041245\n        ],\n        \"semantic_type\": \"\",\n        \"description\": \"\"\n      }\n    },\n    {\n      \"column\": \"end_lat\",\n      \"properties\": {\n        \"dtype\": \"number\",\n        \"std\": 0.016038049989467652,\n        \"min\": 40.6630619,\n        \"max\": 40.872412,\n        \"num_unique_values\": 317,\n        \"samples\": [\n          40.7272235,\n          40.72706363348306,\n          40.73743\n        ],\n        \"semantic_type\": \"\",\n        \"description\": \"\"\n      }\n    },\n    {\n      \"column\": \"end_lng\",\n      \"properties\": {\n        \"dtype\": \"number\",\n        \"std\": 0.021361421819370927,\n        \"min\": -74.08896387030836,\n        \"max\": -73.888271,\n        \"num_unique_values\": 318,\n        \"samples\": [\n          -74.0337589,\n          -74.01089876890182,\n          -74.03571\n        ],\n        \"semantic_type\": \"\",\n        \"description\": \"\"\n      }\n    }\n  ]\n}"
            }
          },
          "metadata": {},
          "execution_count": 6
        }
      ]
    },
    {
      "cell_type": "markdown",
      "source": [
        "All of the popular bike trips seem to be are in Jersey City, with many origin/destination combinations having thousands of trips in 2022."
      ],
      "metadata": {
        "id": "jYd-4esfqFmH"
      }
    },
    {
      "cell_type": "code",
      "source": [
        "df.shape"
      ],
      "metadata": {
        "colab": {
          "base_uri": "https://localhost:8080/"
        },
        "id": "QJy0VSnDfEAF",
        "outputId": "836770f4-b5c6-4242-c805-d49db69f53f3"
      },
      "execution_count": 8,
      "outputs": [
        {
          "output_type": "execute_result",
          "data": {
            "text/plain": [
              "(6953, 7)"
            ]
          },
          "metadata": {},
          "execution_count": 8
        }
      ]
    },
    {
      "cell_type": "code",
      "source": [
        "df_top100 = df.nlargest(100,'trips')"
      ],
      "metadata": {
        "id": "zNwD6_pKfPTp"
      },
      "execution_count": 17,
      "outputs": []
    },
    {
      "cell_type": "code",
      "source": [
        "# Create KeplerGl instance\n",
        "\n",
        "m = KeplerGl(height = 700, data={\"data_1\": df_top100})\n",
        "m"
      ],
      "metadata": {
        "colab": {
          "base_uri": "https://localhost:8080/",
          "height": 721,
          "referenced_widgets": [
            "d0b2b015e2784670857e9ea5c34d23b0",
            "b648dc4d6c5a4bc6be2e2f250d4a16bb"
          ]
        },
        "id": "JR4HhOfChzSg",
        "outputId": "e4df1e0f-969c-4c5f-80b9-3fd9cae24ff0"
      },
      "execution_count": 18,
      "outputs": [
        {
          "output_type": "stream",
          "name": "stdout",
          "text": [
            "User Guide: https://docs.kepler.gl/docs/keplergl-jupyter\n"
          ]
        },
        {
          "output_type": "display_data",
          "data": {
            "text/plain": [
              "KeplerGl(data={'data_1':                                             origin  \\\n",
              "3657      Hoboken Terminal - Hu…"
            ],
            "application/vnd.jupyter.widget-view+json": {
              "version_major": 2,
              "version_minor": 0,
              "model_id": "d0b2b015e2784670857e9ea5c34d23b0"
            }
          },
          "metadata": {
            "application/vnd.jupyter.widget-view+json": {
              "colab": {
                "custom_widget_manager": {
                  "url": "https://ssl.gstatic.com/colaboratory-static/widgets/colab-cdn-widget-manager/2b70e893a8ba7c0f/manager.min.js"
                }
              }
            }
          }
        }
      ]
    },
    {
      "cell_type": "code",
      "source": [
        "df_top100.to_csv('/content/drive/MyDrive/NY_Citi_Bikes/top100.csv')"
      ],
      "metadata": {
        "id": "w5Pl0JkqgKbT"
      },
      "execution_count": 20,
      "outputs": []
    },
    {
      "cell_type": "code",
      "source": [
        "from google.colab import output\n",
        "output.enable_custom_widget_manager()"
      ],
      "metadata": {
        "id": "XMn8YK_9h69_"
      },
      "execution_count": 11,
      "outputs": []
    },
    {
      "cell_type": "code",
      "source": [
        "config = m.config"
      ],
      "metadata": {
        "id": "jtZNquz7h_tm"
      },
      "execution_count": 22,
      "outputs": []
    },
    {
      "cell_type": "code",
      "source": [
        "import json\n",
        "with open(\"/content/drive/MyDrive/NY_Citi_Bikes/config.json\", \"w\") as outfile:\n",
        "    json.dump(config, outfile)"
      ],
      "metadata": {
        "id": "5DCdQVgyiYCF"
      },
      "execution_count": 24,
      "outputs": []
    },
    {
      "cell_type": "code",
      "source": [
        "m.save_to_html(file_name = 'NYC_Citi_Bikes_Map.html', read_only = False, config = config)"
      ],
      "metadata": {
        "colab": {
          "base_uri": "https://localhost:8080/"
        },
        "id": "OM4beplFibf5",
        "outputId": "6befd458-eb8c-40a7-fa72-a0408d2b74ed"
      },
      "execution_count": 25,
      "outputs": [
        {
          "output_type": "stream",
          "name": "stdout",
          "text": [
            "Map saved to NYC_Citi_Bikes_Map.html!\n"
          ]
        }
      ]
    },
    {
      "cell_type": "code",
      "source": [
        "from google.colab import files\n",
        "files.download('NYC_Citi_Bikes_Map.html')\n"
      ],
      "metadata": {
        "colab": {
          "base_uri": "https://localhost:8080/",
          "height": 17
        },
        "id": "U0obbSzwrDgu",
        "outputId": "f53affa2-0323-4dae-87d7-beebbcbe3e34"
      },
      "execution_count": 26,
      "outputs": [
        {
          "output_type": "display_data",
          "data": {
            "text/plain": [
              "<IPython.core.display.Javascript object>"
            ],
            "application/javascript": [
              "\n",
              "    async function download(id, filename, size) {\n",
              "      if (!google.colab.kernel.accessAllowed) {\n",
              "        return;\n",
              "      }\n",
              "      const div = document.createElement('div');\n",
              "      const label = document.createElement('label');\n",
              "      label.textContent = `Downloading \"${filename}\": `;\n",
              "      div.appendChild(label);\n",
              "      const progress = document.createElement('progress');\n",
              "      progress.max = size;\n",
              "      div.appendChild(progress);\n",
              "      document.body.appendChild(div);\n",
              "\n",
              "      const buffers = [];\n",
              "      let downloaded = 0;\n",
              "\n",
              "      const channel = await google.colab.kernel.comms.open(id);\n",
              "      // Send a message to notify the kernel that we're ready.\n",
              "      channel.send({})\n",
              "\n",
              "      for await (const message of channel.messages) {\n",
              "        // Send a message to notify the kernel that we're ready.\n",
              "        channel.send({})\n",
              "        if (message.buffers) {\n",
              "          for (const buffer of message.buffers) {\n",
              "            buffers.push(buffer);\n",
              "            downloaded += buffer.byteLength;\n",
              "            progress.value = downloaded;\n",
              "          }\n",
              "        }\n",
              "      }\n",
              "      const blob = new Blob(buffers, {type: 'application/binary'});\n",
              "      const a = document.createElement('a');\n",
              "      a.href = window.URL.createObjectURL(blob);\n",
              "      a.download = filename;\n",
              "      div.appendChild(a);\n",
              "      a.click();\n",
              "      div.remove();\n",
              "    }\n",
              "  "
            ]
          },
          "metadata": {}
        },
        {
          "output_type": "display_data",
          "data": {
            "text/plain": [
              "<IPython.core.display.Javascript object>"
            ],
            "application/javascript": [
              "download(\"download_661ba220-ce11-42bd-8a82-b187161b66a9\", \"NYC_Citi_Bikes_Map.html\", 35487)"
            ]
          },
          "metadata": {}
        }
      ]
    },
    {
      "cell_type": "code",
      "source": [],
      "metadata": {
        "id": "Mk9_bCCPspX-"
      },
      "execution_count": null,
      "outputs": []
    }
  ]
}
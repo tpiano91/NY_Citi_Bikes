{
 "cells": [
  {
   "cell_type": "markdown",
   "metadata": {},
   "source": [
    "# 2.5: Advanced Geospatial Plotting Part 2\n",
    "This notebook was completed in Google Colab"
   ]
  },
  {
   "cell_type": "code",
   "execution_count": 1,
   "metadata": {
    "id": "11SEQQPGgxoG"
   },
   "outputs": [],
   "source": [
    "%%capture\n",
    "pip install keplergl"
   ]
  },
  {
   "cell_type": "code",
   "execution_count": 2,
   "metadata": {
    "id": "JbH8BGaXgpxV"
   },
   "outputs": [],
   "source": [
    "import pandas as pd\n",
    "import os\n",
    "from keplergl import KeplerGl\n",
    "from pyproj import CRS\n",
    "import numpy as np\n",
    "from matplotlib import pyplot as plt"
   ]
  },
  {
   "cell_type": "code",
   "execution_count": 3,
   "metadata": {
    "id": "A4xNIDTig3yV"
   },
   "outputs": [],
   "source": [
    "df = pd.read_csv('/content/drive/MyDrive/NY_Citi_Bikes/Data/trip_locations.csv',index_col=0)"
   ]
  },
  {
   "cell_type": "code",
   "execution_count": 7,
   "metadata": {
    "id": "4YahGa2EkylN"
   },
   "outputs": [],
   "source": [
    "df2 = pd.read_csv('/content/drive/MyDrive/NY_Citi_Bikes/Data/nyc_data.csv',index_col=0)"
   ]
  },
  {
   "cell_type": "code",
   "execution_count": 8,
   "metadata": {
    "colab": {
     "base_uri": "https://localhost:8080/",
     "height": 206
    },
    "id": "U6G3yozbhw2B",
    "outputId": "6075f873-27dc-48ed-d4b3-ea6033436914"
   },
   "outputs": [
    {
     "data": {
      "application/vnd.google.colaboratory.intrinsic+json": {
       "summary": "{\n  \"name\": \"df\",\n  \"rows\": 6953,\n  \"fields\": [\n    {\n      \"column\": \"origin\",\n      \"properties\": {\n        \"dtype\": \"category\",\n        \"num_unique_values\": 84,\n        \"samples\": [\n          \"Riverview Park\",\n          \"11 St & Washington St\",\n          \"Madison St & 10 St\"\n        ],\n        \"semantic_type\": \"\",\n        \"description\": \"\"\n      }\n    },\n    {\n      \"column\": \"destination\",\n      \"properties\": {\n        \"dtype\": \"category\",\n        \"num_unique_values\": 320,\n        \"samples\": [\n          \"Myrtle Ave & St Edwards St\",\n          \"W 20 St & 10 Ave\",\n          \"Clinton St & Newark St\"\n        ],\n        \"semantic_type\": \"\",\n        \"description\": \"\"\n      }\n    },\n    {\n      \"column\": \"trips\",\n      \"properties\": {\n        \"dtype\": \"number\",\n        \"std\": 304,\n        \"min\": 1,\n        \"max\": 5565,\n        \"num_unique_values\": 800,\n        \"samples\": [\n          735,\n          1184,\n          166\n        ],\n        \"semantic_type\": \"\",\n        \"description\": \"\"\n      }\n    },\n    {\n      \"column\": \"start_lat\",\n      \"properties\": {\n        \"dtype\": \"number\",\n        \"std\": 0.012875382347735935,\n        \"min\": 40.70657545063453,\n        \"max\": 40.75453,\n        \"num_unique_values\": 84,\n        \"samples\": [\n          40.7443187,\n          40.74998490907138,\n          40.74994325412246\n        ],\n        \"semantic_type\": \"\",\n        \"description\": \"\"\n      }\n    },\n    {\n      \"column\": \"start_lng\",\n      \"properties\": {\n        \"dtype\": \"number\",\n        \"std\": 0.01497769022077067,\n        \"min\": -74.08896387030836,\n        \"max\": -74.02402013540268,\n        \"num_unique_values\": 84,\n        \"samples\": [\n          -74.0439909,\n          -74.02715027332306,\n          -74.03586477041245\n        ],\n        \"semantic_type\": \"\",\n        \"description\": \"\"\n      }\n    },\n    {\n      \"column\": \"end_lat\",\n      \"properties\": {\n        \"dtype\": \"number\",\n        \"std\": 0.016038049989467652,\n        \"min\": 40.6630619,\n        \"max\": 40.872412,\n        \"num_unique_values\": 317,\n        \"samples\": [\n          40.7272235,\n          40.72706363348306,\n          40.73743\n        ],\n        \"semantic_type\": \"\",\n        \"description\": \"\"\n      }\n    },\n    {\n      \"column\": \"end_lng\",\n      \"properties\": {\n        \"dtype\": \"number\",\n        \"std\": 0.021361421819370927,\n        \"min\": -74.08896387030836,\n        \"max\": -73.888271,\n        \"num_unique_values\": 318,\n        \"samples\": [\n          -74.0337589,\n          -74.01089876890182,\n          -74.03571\n        ],\n        \"semantic_type\": \"\",\n        \"description\": \"\"\n      }\n    }\n  ]\n}",
       "type": "dataframe",
       "variable_name": "df"
      },
      "text/html": [
       "\n",
       "  <div id=\"df-c4f85890-44a8-4f45-bdf1-ea3c15b9521c\" class=\"colab-df-container\">\n",
       "    <div>\n",
       "<style scoped>\n",
       "    .dataframe tbody tr th:only-of-type {\n",
       "        vertical-align: middle;\n",
       "    }\n",
       "\n",
       "    .dataframe tbody tr th {\n",
       "        vertical-align: top;\n",
       "    }\n",
       "\n",
       "    .dataframe thead th {\n",
       "        text-align: right;\n",
       "    }\n",
       "</style>\n",
       "<table border=\"1\" class=\"dataframe\">\n",
       "  <thead>\n",
       "    <tr style=\"text-align: right;\">\n",
       "      <th></th>\n",
       "      <th>origin</th>\n",
       "      <th>destination</th>\n",
       "      <th>trips</th>\n",
       "      <th>start_lat</th>\n",
       "      <th>start_lng</th>\n",
       "      <th>end_lat</th>\n",
       "      <th>end_lng</th>\n",
       "    </tr>\n",
       "  </thead>\n",
       "  <tbody>\n",
       "    <tr>\n",
       "      <th>0</th>\n",
       "      <td>11 St &amp; Washington St</td>\n",
       "      <td>11 St &amp; Washington St</td>\n",
       "      <td>1132</td>\n",
       "      <td>40.749985</td>\n",
       "      <td>-74.02715</td>\n",
       "      <td>40.749985</td>\n",
       "      <td>-74.027150</td>\n",
       "    </tr>\n",
       "    <tr>\n",
       "      <th>1</th>\n",
       "      <td>11 St &amp; Washington St</td>\n",
       "      <td>12 Ave &amp; W 40 St</td>\n",
       "      <td>1</td>\n",
       "      <td>40.749985</td>\n",
       "      <td>-74.02715</td>\n",
       "      <td>40.760875</td>\n",
       "      <td>-74.002777</td>\n",
       "    </tr>\n",
       "    <tr>\n",
       "      <th>2</th>\n",
       "      <td>11 St &amp; Washington St</td>\n",
       "      <td>12 St &amp; Sinatra Dr N</td>\n",
       "      <td>253</td>\n",
       "      <td>40.749985</td>\n",
       "      <td>-74.02715</td>\n",
       "      <td>40.750604</td>\n",
       "      <td>-74.024020</td>\n",
       "    </tr>\n",
       "    <tr>\n",
       "      <th>3</th>\n",
       "      <td>11 St &amp; Washington St</td>\n",
       "      <td>14 St Ferry - 14 St &amp; Shipyard Ln</td>\n",
       "      <td>395</td>\n",
       "      <td>40.749985</td>\n",
       "      <td>-74.02715</td>\n",
       "      <td>40.752961</td>\n",
       "      <td>-74.024353</td>\n",
       "    </tr>\n",
       "    <tr>\n",
       "      <th>4</th>\n",
       "      <td>11 St &amp; Washington St</td>\n",
       "      <td>4 St &amp; Grand St</td>\n",
       "      <td>350</td>\n",
       "      <td>40.749985</td>\n",
       "      <td>-74.02715</td>\n",
       "      <td>40.742258</td>\n",
       "      <td>-74.035111</td>\n",
       "    </tr>\n",
       "  </tbody>\n",
       "</table>\n",
       "</div>\n",
       "    <div class=\"colab-df-buttons\">\n",
       "\n",
       "  <div class=\"colab-df-container\">\n",
       "    <button class=\"colab-df-convert\" onclick=\"convertToInteractive('df-c4f85890-44a8-4f45-bdf1-ea3c15b9521c')\"\n",
       "            title=\"Convert this dataframe to an interactive table.\"\n",
       "            style=\"display:none;\">\n",
       "\n",
       "  <svg xmlns=\"http://www.w3.org/2000/svg\" height=\"24px\" viewBox=\"0 -960 960 960\">\n",
       "    <path d=\"M120-120v-720h720v720H120Zm60-500h600v-160H180v160Zm220 220h160v-160H400v160Zm0 220h160v-160H400v160ZM180-400h160v-160H180v160Zm440 0h160v-160H620v160ZM180-180h160v-160H180v160Zm440 0h160v-160H620v160Z\"/>\n",
       "  </svg>\n",
       "    </button>\n",
       "\n",
       "  <style>\n",
       "    .colab-df-container {\n",
       "      display:flex;\n",
       "      gap: 12px;\n",
       "    }\n",
       "\n",
       "    .colab-df-convert {\n",
       "      background-color: #E8F0FE;\n",
       "      border: none;\n",
       "      border-radius: 50%;\n",
       "      cursor: pointer;\n",
       "      display: none;\n",
       "      fill: #1967D2;\n",
       "      height: 32px;\n",
       "      padding: 0 0 0 0;\n",
       "      width: 32px;\n",
       "    }\n",
       "\n",
       "    .colab-df-convert:hover {\n",
       "      background-color: #E2EBFA;\n",
       "      box-shadow: 0px 1px 2px rgba(60, 64, 67, 0.3), 0px 1px 3px 1px rgba(60, 64, 67, 0.15);\n",
       "      fill: #174EA6;\n",
       "    }\n",
       "\n",
       "    .colab-df-buttons div {\n",
       "      margin-bottom: 4px;\n",
       "    }\n",
       "\n",
       "    [theme=dark] .colab-df-convert {\n",
       "      background-color: #3B4455;\n",
       "      fill: #D2E3FC;\n",
       "    }\n",
       "\n",
       "    [theme=dark] .colab-df-convert:hover {\n",
       "      background-color: #434B5C;\n",
       "      box-shadow: 0px 1px 3px 1px rgba(0, 0, 0, 0.15);\n",
       "      filter: drop-shadow(0px 1px 2px rgba(0, 0, 0, 0.3));\n",
       "      fill: #FFFFFF;\n",
       "    }\n",
       "  </style>\n",
       "\n",
       "    <script>\n",
       "      const buttonEl =\n",
       "        document.querySelector('#df-c4f85890-44a8-4f45-bdf1-ea3c15b9521c button.colab-df-convert');\n",
       "      buttonEl.style.display =\n",
       "        google.colab.kernel.accessAllowed ? 'block' : 'none';\n",
       "\n",
       "      async function convertToInteractive(key) {\n",
       "        const element = document.querySelector('#df-c4f85890-44a8-4f45-bdf1-ea3c15b9521c');\n",
       "        const dataTable =\n",
       "          await google.colab.kernel.invokeFunction('convertToInteractive',\n",
       "                                                    [key], {});\n",
       "        if (!dataTable) return;\n",
       "\n",
       "        const docLinkHtml = 'Like what you see? Visit the ' +\n",
       "          '<a target=\"_blank\" href=https://colab.research.google.com/notebooks/data_table.ipynb>data table notebook</a>'\n",
       "          + ' to learn more about interactive tables.';\n",
       "        element.innerHTML = '';\n",
       "        dataTable['output_type'] = 'display_data';\n",
       "        await google.colab.output.renderOutput(dataTable, element);\n",
       "        const docLink = document.createElement('div');\n",
       "        docLink.innerHTML = docLinkHtml;\n",
       "        element.appendChild(docLink);\n",
       "      }\n",
       "    </script>\n",
       "  </div>\n",
       "\n",
       "\n",
       "<div id=\"df-02246bf5-958e-4b75-9752-e873b549c53a\">\n",
       "  <button class=\"colab-df-quickchart\" onclick=\"quickchart('df-02246bf5-958e-4b75-9752-e873b549c53a')\"\n",
       "            title=\"Suggest charts\"\n",
       "            style=\"display:none;\">\n",
       "\n",
       "<svg xmlns=\"http://www.w3.org/2000/svg\" height=\"24px\"viewBox=\"0 0 24 24\"\n",
       "     width=\"24px\">\n",
       "    <g>\n",
       "        <path d=\"M19 3H5c-1.1 0-2 .9-2 2v14c0 1.1.9 2 2 2h14c1.1 0 2-.9 2-2V5c0-1.1-.9-2-2-2zM9 17H7v-7h2v7zm4 0h-2V7h2v10zm4 0h-2v-4h2v4z\"/>\n",
       "    </g>\n",
       "</svg>\n",
       "  </button>\n",
       "\n",
       "<style>\n",
       "  .colab-df-quickchart {\n",
       "      --bg-color: #E8F0FE;\n",
       "      --fill-color: #1967D2;\n",
       "      --hover-bg-color: #E2EBFA;\n",
       "      --hover-fill-color: #174EA6;\n",
       "      --disabled-fill-color: #AAA;\n",
       "      --disabled-bg-color: #DDD;\n",
       "  }\n",
       "\n",
       "  [theme=dark] .colab-df-quickchart {\n",
       "      --bg-color: #3B4455;\n",
       "      --fill-color: #D2E3FC;\n",
       "      --hover-bg-color: #434B5C;\n",
       "      --hover-fill-color: #FFFFFF;\n",
       "      --disabled-bg-color: #3B4455;\n",
       "      --disabled-fill-color: #666;\n",
       "  }\n",
       "\n",
       "  .colab-df-quickchart {\n",
       "    background-color: var(--bg-color);\n",
       "    border: none;\n",
       "    border-radius: 50%;\n",
       "    cursor: pointer;\n",
       "    display: none;\n",
       "    fill: var(--fill-color);\n",
       "    height: 32px;\n",
       "    padding: 0;\n",
       "    width: 32px;\n",
       "  }\n",
       "\n",
       "  .colab-df-quickchart:hover {\n",
       "    background-color: var(--hover-bg-color);\n",
       "    box-shadow: 0 1px 2px rgba(60, 64, 67, 0.3), 0 1px 3px 1px rgba(60, 64, 67, 0.15);\n",
       "    fill: var(--button-hover-fill-color);\n",
       "  }\n",
       "\n",
       "  .colab-df-quickchart-complete:disabled,\n",
       "  .colab-df-quickchart-complete:disabled:hover {\n",
       "    background-color: var(--disabled-bg-color);\n",
       "    fill: var(--disabled-fill-color);\n",
       "    box-shadow: none;\n",
       "  }\n",
       "\n",
       "  .colab-df-spinner {\n",
       "    border: 2px solid var(--fill-color);\n",
       "    border-color: transparent;\n",
       "    border-bottom-color: var(--fill-color);\n",
       "    animation:\n",
       "      spin 1s steps(1) infinite;\n",
       "  }\n",
       "\n",
       "  @keyframes spin {\n",
       "    0% {\n",
       "      border-color: transparent;\n",
       "      border-bottom-color: var(--fill-color);\n",
       "      border-left-color: var(--fill-color);\n",
       "    }\n",
       "    20% {\n",
       "      border-color: transparent;\n",
       "      border-left-color: var(--fill-color);\n",
       "      border-top-color: var(--fill-color);\n",
       "    }\n",
       "    30% {\n",
       "      border-color: transparent;\n",
       "      border-left-color: var(--fill-color);\n",
       "      border-top-color: var(--fill-color);\n",
       "      border-right-color: var(--fill-color);\n",
       "    }\n",
       "    40% {\n",
       "      border-color: transparent;\n",
       "      border-right-color: var(--fill-color);\n",
       "      border-top-color: var(--fill-color);\n",
       "    }\n",
       "    60% {\n",
       "      border-color: transparent;\n",
       "      border-right-color: var(--fill-color);\n",
       "    }\n",
       "    80% {\n",
       "      border-color: transparent;\n",
       "      border-right-color: var(--fill-color);\n",
       "      border-bottom-color: var(--fill-color);\n",
       "    }\n",
       "    90% {\n",
       "      border-color: transparent;\n",
       "      border-bottom-color: var(--fill-color);\n",
       "    }\n",
       "  }\n",
       "</style>\n",
       "\n",
       "  <script>\n",
       "    async function quickchart(key) {\n",
       "      const quickchartButtonEl =\n",
       "        document.querySelector('#' + key + ' button');\n",
       "      quickchartButtonEl.disabled = true;  // To prevent multiple clicks.\n",
       "      quickchartButtonEl.classList.add('colab-df-spinner');\n",
       "      try {\n",
       "        const charts = await google.colab.kernel.invokeFunction(\n",
       "            'suggestCharts', [key], {});\n",
       "      } catch (error) {\n",
       "        console.error('Error during call to suggestCharts:', error);\n",
       "      }\n",
       "      quickchartButtonEl.classList.remove('colab-df-spinner');\n",
       "      quickchartButtonEl.classList.add('colab-df-quickchart-complete');\n",
       "    }\n",
       "    (() => {\n",
       "      let quickchartButtonEl =\n",
       "        document.querySelector('#df-02246bf5-958e-4b75-9752-e873b549c53a button');\n",
       "      quickchartButtonEl.style.display =\n",
       "        google.colab.kernel.accessAllowed ? 'block' : 'none';\n",
       "    })();\n",
       "  </script>\n",
       "</div>\n",
       "\n",
       "    </div>\n",
       "  </div>\n"
      ],
      "text/plain": [
       "                  origin                        destination  trips  start_lat  \\\n",
       "0  11 St & Washington St              11 St & Washington St   1132  40.749985   \n",
       "1  11 St & Washington St                   12 Ave & W 40 St      1  40.749985   \n",
       "2  11 St & Washington St               12 St & Sinatra Dr N    253  40.749985   \n",
       "3  11 St & Washington St  14 St Ferry - 14 St & Shipyard Ln    395  40.749985   \n",
       "4  11 St & Washington St                    4 St & Grand St    350  40.749985   \n",
       "\n",
       "   start_lng    end_lat    end_lng  \n",
       "0  -74.02715  40.749985 -74.027150  \n",
       "1  -74.02715  40.760875 -74.002777  \n",
       "2  -74.02715  40.750604 -74.024020  \n",
       "3  -74.02715  40.752961 -74.024353  \n",
       "4  -74.02715  40.742258 -74.035111  "
      ]
     },
     "execution_count": 8,
     "metadata": {},
     "output_type": "execute_result"
    }
   ],
   "source": [
    "df.head()"
   ]
  },
  {
   "cell_type": "code",
   "execution_count": 9,
   "metadata": {
    "colab": {
     "base_uri": "https://localhost:8080/",
     "height": 400
    },
    "id": "QJy0VSnDfEAF",
    "outputId": "116de99a-a7fb-418a-fc01-0774d5c0ef08"
   },
   "outputs": [
    {
     "data": {
      "application/vnd.google.colaboratory.intrinsic+json": {
       "type": "dataframe",
       "variable_name": "df2"
      },
      "text/html": [
       "\n",
       "  <div id=\"df-b4878094-93ea-4994-813f-9067ed1eb9eb\" class=\"colab-df-container\">\n",
       "    <div>\n",
       "<style scoped>\n",
       "    .dataframe tbody tr th:only-of-type {\n",
       "        vertical-align: middle;\n",
       "    }\n",
       "\n",
       "    .dataframe tbody tr th {\n",
       "        vertical-align: top;\n",
       "    }\n",
       "\n",
       "    .dataframe thead th {\n",
       "        text-align: right;\n",
       "    }\n",
       "</style>\n",
       "<table border=\"1\" class=\"dataframe\">\n",
       "  <thead>\n",
       "    <tr style=\"text-align: right;\">\n",
       "      <th></th>\n",
       "      <th>ride_id</th>\n",
       "      <th>rideable_type</th>\n",
       "      <th>started_at</th>\n",
       "      <th>ended_at</th>\n",
       "      <th>start_station_name</th>\n",
       "      <th>start_station_id</th>\n",
       "      <th>end_station_name</th>\n",
       "      <th>end_station_id</th>\n",
       "      <th>start_lat</th>\n",
       "      <th>start_lng</th>\n",
       "      <th>end_lat</th>\n",
       "      <th>end_lng</th>\n",
       "      <th>member_casual</th>\n",
       "      <th>start_time</th>\n",
       "      <th>date</th>\n",
       "      <th>end_time</th>\n",
       "      <th>avgTemp</th>\n",
       "      <th>_merge</th>\n",
       "    </tr>\n",
       "  </thead>\n",
       "  <tbody>\n",
       "    <tr>\n",
       "      <th>0</th>\n",
       "      <td>3255D3E3F33CDC45</td>\n",
       "      <td>classic_bike</td>\n",
       "      <td>2022-03-18 15:38:17</td>\n",
       "      <td>2022-03-18 15:45:34</td>\n",
       "      <td>Mama Johnson Field - 4 St &amp; Jackson St</td>\n",
       "      <td>HB404</td>\n",
       "      <td>South Waterfront Walkway - Sinatra Dr &amp; 1 St</td>\n",
       "      <td>HB103</td>\n",
       "      <td>40.743140</td>\n",
       "      <td>-74.040041</td>\n",
       "      <td>40.736982</td>\n",
       "      <td>-74.027781</td>\n",
       "      <td>casual</td>\n",
       "      <td>2022-03-18 15:38:17</td>\n",
       "      <td>2022-03-18</td>\n",
       "      <td>2022-03-18 15:45:34</td>\n",
       "      <td>13.9</td>\n",
       "      <td>both</td>\n",
       "    </tr>\n",
       "    <tr>\n",
       "      <th>1</th>\n",
       "      <td>17FA5604A37338F9</td>\n",
       "      <td>electric_bike</td>\n",
       "      <td>2022-03-04 16:44:48</td>\n",
       "      <td>2022-03-04 16:50:45</td>\n",
       "      <td>Baldwin at Montgomery</td>\n",
       "      <td>JC020</td>\n",
       "      <td>Grove St PATH</td>\n",
       "      <td>JC005</td>\n",
       "      <td>40.723659</td>\n",
       "      <td>-74.064194</td>\n",
       "      <td>40.719586</td>\n",
       "      <td>-74.043117</td>\n",
       "      <td>member</td>\n",
       "      <td>2022-03-04 16:44:48</td>\n",
       "      <td>2022-03-04</td>\n",
       "      <td>2022-03-04 16:50:45</td>\n",
       "      <td>-1.9</td>\n",
       "      <td>both</td>\n",
       "    </tr>\n",
       "    <tr>\n",
       "      <th>2</th>\n",
       "      <td>7DEC9ADDB8D6BBE1</td>\n",
       "      <td>electric_bike</td>\n",
       "      <td>2022-03-13 17:44:32</td>\n",
       "      <td>2022-03-13 17:54:44</td>\n",
       "      <td>Baldwin at Montgomery</td>\n",
       "      <td>JC020</td>\n",
       "      <td>Grove St PATH</td>\n",
       "      <td>JC005</td>\n",
       "      <td>40.723659</td>\n",
       "      <td>-74.064194</td>\n",
       "      <td>40.719586</td>\n",
       "      <td>-74.043117</td>\n",
       "      <td>member</td>\n",
       "      <td>2022-03-13 17:44:32</td>\n",
       "      <td>2022-03-13</td>\n",
       "      <td>2022-03-13 17:54:44</td>\n",
       "      <td>-2.3</td>\n",
       "      <td>both</td>\n",
       "    </tr>\n",
       "    <tr>\n",
       "      <th>3</th>\n",
       "      <td>9D69F74EEF231A2E</td>\n",
       "      <td>classic_bike</td>\n",
       "      <td>2022-03-13 15:33:47</td>\n",
       "      <td>2022-03-13 15:41:22</td>\n",
       "      <td>Baldwin at Montgomery</td>\n",
       "      <td>JC020</td>\n",
       "      <td>Grove St PATH</td>\n",
       "      <td>JC005</td>\n",
       "      <td>40.723659</td>\n",
       "      <td>-74.064194</td>\n",
       "      <td>40.719586</td>\n",
       "      <td>-74.043117</td>\n",
       "      <td>member</td>\n",
       "      <td>2022-03-13 15:33:47</td>\n",
       "      <td>2022-03-13</td>\n",
       "      <td>2022-03-13 15:41:22</td>\n",
       "      <td>-2.3</td>\n",
       "      <td>both</td>\n",
       "    </tr>\n",
       "    <tr>\n",
       "      <th>4</th>\n",
       "      <td>C84AE4A9D78A6347</td>\n",
       "      <td>classic_bike</td>\n",
       "      <td>2022-03-11 12:21:18</td>\n",
       "      <td>2022-03-11 12:33:24</td>\n",
       "      <td>Baldwin at Montgomery</td>\n",
       "      <td>JC020</td>\n",
       "      <td>Grove St PATH</td>\n",
       "      <td>JC005</td>\n",
       "      <td>40.723659</td>\n",
       "      <td>-74.064194</td>\n",
       "      <td>40.719586</td>\n",
       "      <td>-74.043117</td>\n",
       "      <td>member</td>\n",
       "      <td>2022-03-11 12:21:18</td>\n",
       "      <td>2022-03-11</td>\n",
       "      <td>2022-03-11 12:33:24</td>\n",
       "      <td>7.2</td>\n",
       "      <td>both</td>\n",
       "    </tr>\n",
       "  </tbody>\n",
       "</table>\n",
       "</div>\n",
       "    <div class=\"colab-df-buttons\">\n",
       "\n",
       "  <div class=\"colab-df-container\">\n",
       "    <button class=\"colab-df-convert\" onclick=\"convertToInteractive('df-b4878094-93ea-4994-813f-9067ed1eb9eb')\"\n",
       "            title=\"Convert this dataframe to an interactive table.\"\n",
       "            style=\"display:none;\">\n",
       "\n",
       "  <svg xmlns=\"http://www.w3.org/2000/svg\" height=\"24px\" viewBox=\"0 -960 960 960\">\n",
       "    <path d=\"M120-120v-720h720v720H120Zm60-500h600v-160H180v160Zm220 220h160v-160H400v160Zm0 220h160v-160H400v160ZM180-400h160v-160H180v160Zm440 0h160v-160H620v160ZM180-180h160v-160H180v160Zm440 0h160v-160H620v160Z\"/>\n",
       "  </svg>\n",
       "    </button>\n",
       "\n",
       "  <style>\n",
       "    .colab-df-container {\n",
       "      display:flex;\n",
       "      gap: 12px;\n",
       "    }\n",
       "\n",
       "    .colab-df-convert {\n",
       "      background-color: #E8F0FE;\n",
       "      border: none;\n",
       "      border-radius: 50%;\n",
       "      cursor: pointer;\n",
       "      display: none;\n",
       "      fill: #1967D2;\n",
       "      height: 32px;\n",
       "      padding: 0 0 0 0;\n",
       "      width: 32px;\n",
       "    }\n",
       "\n",
       "    .colab-df-convert:hover {\n",
       "      background-color: #E2EBFA;\n",
       "      box-shadow: 0px 1px 2px rgba(60, 64, 67, 0.3), 0px 1px 3px 1px rgba(60, 64, 67, 0.15);\n",
       "      fill: #174EA6;\n",
       "    }\n",
       "\n",
       "    .colab-df-buttons div {\n",
       "      margin-bottom: 4px;\n",
       "    }\n",
       "\n",
       "    [theme=dark] .colab-df-convert {\n",
       "      background-color: #3B4455;\n",
       "      fill: #D2E3FC;\n",
       "    }\n",
       "\n",
       "    [theme=dark] .colab-df-convert:hover {\n",
       "      background-color: #434B5C;\n",
       "      box-shadow: 0px 1px 3px 1px rgba(0, 0, 0, 0.15);\n",
       "      filter: drop-shadow(0px 1px 2px rgba(0, 0, 0, 0.3));\n",
       "      fill: #FFFFFF;\n",
       "    }\n",
       "  </style>\n",
       "\n",
       "    <script>\n",
       "      const buttonEl =\n",
       "        document.querySelector('#df-b4878094-93ea-4994-813f-9067ed1eb9eb button.colab-df-convert');\n",
       "      buttonEl.style.display =\n",
       "        google.colab.kernel.accessAllowed ? 'block' : 'none';\n",
       "\n",
       "      async function convertToInteractive(key) {\n",
       "        const element = document.querySelector('#df-b4878094-93ea-4994-813f-9067ed1eb9eb');\n",
       "        const dataTable =\n",
       "          await google.colab.kernel.invokeFunction('convertToInteractive',\n",
       "                                                    [key], {});\n",
       "        if (!dataTable) return;\n",
       "\n",
       "        const docLinkHtml = 'Like what you see? Visit the ' +\n",
       "          '<a target=\"_blank\" href=https://colab.research.google.com/notebooks/data_table.ipynb>data table notebook</a>'\n",
       "          + ' to learn more about interactive tables.';\n",
       "        element.innerHTML = '';\n",
       "        dataTable['output_type'] = 'display_data';\n",
       "        await google.colab.output.renderOutput(dataTable, element);\n",
       "        const docLink = document.createElement('div');\n",
       "        docLink.innerHTML = docLinkHtml;\n",
       "        element.appendChild(docLink);\n",
       "      }\n",
       "    </script>\n",
       "  </div>\n",
       "\n",
       "\n",
       "<div id=\"df-47a6c51b-582f-4878-b488-9a7b3af31d8c\">\n",
       "  <button class=\"colab-df-quickchart\" onclick=\"quickchart('df-47a6c51b-582f-4878-b488-9a7b3af31d8c')\"\n",
       "            title=\"Suggest charts\"\n",
       "            style=\"display:none;\">\n",
       "\n",
       "<svg xmlns=\"http://www.w3.org/2000/svg\" height=\"24px\"viewBox=\"0 0 24 24\"\n",
       "     width=\"24px\">\n",
       "    <g>\n",
       "        <path d=\"M19 3H5c-1.1 0-2 .9-2 2v14c0 1.1.9 2 2 2h14c1.1 0 2-.9 2-2V5c0-1.1-.9-2-2-2zM9 17H7v-7h2v7zm4 0h-2V7h2v10zm4 0h-2v-4h2v4z\"/>\n",
       "    </g>\n",
       "</svg>\n",
       "  </button>\n",
       "\n",
       "<style>\n",
       "  .colab-df-quickchart {\n",
       "      --bg-color: #E8F0FE;\n",
       "      --fill-color: #1967D2;\n",
       "      --hover-bg-color: #E2EBFA;\n",
       "      --hover-fill-color: #174EA6;\n",
       "      --disabled-fill-color: #AAA;\n",
       "      --disabled-bg-color: #DDD;\n",
       "  }\n",
       "\n",
       "  [theme=dark] .colab-df-quickchart {\n",
       "      --bg-color: #3B4455;\n",
       "      --fill-color: #D2E3FC;\n",
       "      --hover-bg-color: #434B5C;\n",
       "      --hover-fill-color: #FFFFFF;\n",
       "      --disabled-bg-color: #3B4455;\n",
       "      --disabled-fill-color: #666;\n",
       "  }\n",
       "\n",
       "  .colab-df-quickchart {\n",
       "    background-color: var(--bg-color);\n",
       "    border: none;\n",
       "    border-radius: 50%;\n",
       "    cursor: pointer;\n",
       "    display: none;\n",
       "    fill: var(--fill-color);\n",
       "    height: 32px;\n",
       "    padding: 0;\n",
       "    width: 32px;\n",
       "  }\n",
       "\n",
       "  .colab-df-quickchart:hover {\n",
       "    background-color: var(--hover-bg-color);\n",
       "    box-shadow: 0 1px 2px rgba(60, 64, 67, 0.3), 0 1px 3px 1px rgba(60, 64, 67, 0.15);\n",
       "    fill: var(--button-hover-fill-color);\n",
       "  }\n",
       "\n",
       "  .colab-df-quickchart-complete:disabled,\n",
       "  .colab-df-quickchart-complete:disabled:hover {\n",
       "    background-color: var(--disabled-bg-color);\n",
       "    fill: var(--disabled-fill-color);\n",
       "    box-shadow: none;\n",
       "  }\n",
       "\n",
       "  .colab-df-spinner {\n",
       "    border: 2px solid var(--fill-color);\n",
       "    border-color: transparent;\n",
       "    border-bottom-color: var(--fill-color);\n",
       "    animation:\n",
       "      spin 1s steps(1) infinite;\n",
       "  }\n",
       "\n",
       "  @keyframes spin {\n",
       "    0% {\n",
       "      border-color: transparent;\n",
       "      border-bottom-color: var(--fill-color);\n",
       "      border-left-color: var(--fill-color);\n",
       "    }\n",
       "    20% {\n",
       "      border-color: transparent;\n",
       "      border-left-color: var(--fill-color);\n",
       "      border-top-color: var(--fill-color);\n",
       "    }\n",
       "    30% {\n",
       "      border-color: transparent;\n",
       "      border-left-color: var(--fill-color);\n",
       "      border-top-color: var(--fill-color);\n",
       "      border-right-color: var(--fill-color);\n",
       "    }\n",
       "    40% {\n",
       "      border-color: transparent;\n",
       "      border-right-color: var(--fill-color);\n",
       "      border-top-color: var(--fill-color);\n",
       "    }\n",
       "    60% {\n",
       "      border-color: transparent;\n",
       "      border-right-color: var(--fill-color);\n",
       "    }\n",
       "    80% {\n",
       "      border-color: transparent;\n",
       "      border-right-color: var(--fill-color);\n",
       "      border-bottom-color: var(--fill-color);\n",
       "    }\n",
       "    90% {\n",
       "      border-color: transparent;\n",
       "      border-bottom-color: var(--fill-color);\n",
       "    }\n",
       "  }\n",
       "</style>\n",
       "\n",
       "  <script>\n",
       "    async function quickchart(key) {\n",
       "      const quickchartButtonEl =\n",
       "        document.querySelector('#' + key + ' button');\n",
       "      quickchartButtonEl.disabled = true;  // To prevent multiple clicks.\n",
       "      quickchartButtonEl.classList.add('colab-df-spinner');\n",
       "      try {\n",
       "        const charts = await google.colab.kernel.invokeFunction(\n",
       "            'suggestCharts', [key], {});\n",
       "      } catch (error) {\n",
       "        console.error('Error during call to suggestCharts:', error);\n",
       "      }\n",
       "      quickchartButtonEl.classList.remove('colab-df-spinner');\n",
       "      quickchartButtonEl.classList.add('colab-df-quickchart-complete');\n",
       "    }\n",
       "    (() => {\n",
       "      let quickchartButtonEl =\n",
       "        document.querySelector('#df-47a6c51b-582f-4878-b488-9a7b3af31d8c button');\n",
       "      quickchartButtonEl.style.display =\n",
       "        google.colab.kernel.accessAllowed ? 'block' : 'none';\n",
       "    })();\n",
       "  </script>\n",
       "</div>\n",
       "\n",
       "    </div>\n",
       "  </div>\n"
      ],
      "text/plain": [
       "            ride_id  rideable_type           started_at             ended_at  \\\n",
       "0  3255D3E3F33CDC45   classic_bike  2022-03-18 15:38:17  2022-03-18 15:45:34   \n",
       "1  17FA5604A37338F9  electric_bike  2022-03-04 16:44:48  2022-03-04 16:50:45   \n",
       "2  7DEC9ADDB8D6BBE1  electric_bike  2022-03-13 17:44:32  2022-03-13 17:54:44   \n",
       "3  9D69F74EEF231A2E   classic_bike  2022-03-13 15:33:47  2022-03-13 15:41:22   \n",
       "4  C84AE4A9D78A6347   classic_bike  2022-03-11 12:21:18  2022-03-11 12:33:24   \n",
       "\n",
       "                       start_station_name start_station_id  \\\n",
       "0  Mama Johnson Field - 4 St & Jackson St            HB404   \n",
       "1                   Baldwin at Montgomery            JC020   \n",
       "2                   Baldwin at Montgomery            JC020   \n",
       "3                   Baldwin at Montgomery            JC020   \n",
       "4                   Baldwin at Montgomery            JC020   \n",
       "\n",
       "                               end_station_name end_station_id  start_lat  \\\n",
       "0  South Waterfront Walkway - Sinatra Dr & 1 St          HB103  40.743140   \n",
       "1                                 Grove St PATH          JC005  40.723659   \n",
       "2                                 Grove St PATH          JC005  40.723659   \n",
       "3                                 Grove St PATH          JC005  40.723659   \n",
       "4                                 Grove St PATH          JC005  40.723659   \n",
       "\n",
       "   start_lng    end_lat    end_lng member_casual           start_time  \\\n",
       "0 -74.040041  40.736982 -74.027781        casual  2022-03-18 15:38:17   \n",
       "1 -74.064194  40.719586 -74.043117        member  2022-03-04 16:44:48   \n",
       "2 -74.064194  40.719586 -74.043117        member  2022-03-13 17:44:32   \n",
       "3 -74.064194  40.719586 -74.043117        member  2022-03-13 15:33:47   \n",
       "4 -74.064194  40.719586 -74.043117        member  2022-03-11 12:21:18   \n",
       "\n",
       "         date             end_time  avgTemp _merge  \n",
       "0  2022-03-18  2022-03-18 15:45:34     13.9   both  \n",
       "1  2022-03-04  2022-03-04 16:50:45     -1.9   both  \n",
       "2  2022-03-13  2022-03-13 17:54:44     -2.3   both  \n",
       "3  2022-03-13  2022-03-13 15:41:22     -2.3   both  \n",
       "4  2022-03-11  2022-03-11 12:33:24      7.2   both  "
      ]
     },
     "execution_count": 9,
     "metadata": {},
     "output_type": "execute_result"
    }
   ],
   "source": [
    "df2.head()"
   ]
  },
  {
   "cell_type": "code",
   "execution_count": 10,
   "metadata": {
    "id": "5IgpKK4OmVCS"
   },
   "outputs": [],
   "source": [
    "df2['value'] = 1"
   ]
  },
  {
   "cell_type": "code",
   "execution_count": 15,
   "metadata": {
    "id": "qan4WMAPmXlR"
   },
   "outputs": [],
   "source": [
    "df_t = df2.groupby(['start_station_name'])['value'].count().reset_index()"
   ]
  },
  {
   "cell_type": "code",
   "execution_count": 16,
   "metadata": {
    "colab": {
     "base_uri": "https://localhost:8080/",
     "height": 206
    },
    "id": "QxxDH_CSmfIU",
    "outputId": "cf8a7464-5ea9-42d1-8549-a6ae85a04a61"
   },
   "outputs": [
    {
     "data": {
      "application/vnd.google.colaboratory.intrinsic+json": {
       "summary": "{\n  \"name\": \"df_t\",\n  \"rows\": 84,\n  \"fields\": [\n    {\n      \"column\": \"start_station_name\",\n      \"properties\": {\n        \"dtype\": \"string\",\n        \"num_unique_values\": 84,\n        \"samples\": [\n          \"Riverview Park\",\n          \"11 St & Washington St\",\n          \"Madison St & 10 St\"\n        ],\n        \"semantic_type\": \"\",\n        \"description\": \"\"\n      }\n    },\n    {\n      \"column\": \"value\",\n      \"properties\": {\n        \"dtype\": \"number\",\n        \"std\": 7581,\n        \"min\": 2,\n        \"max\": 42556,\n        \"num_unique_values\": 83,\n        \"samples\": [\n          6546,\n          15502,\n          23289\n        ],\n        \"semantic_type\": \"\",\n        \"description\": \"\"\n      }\n    }\n  ]\n}",
       "type": "dataframe",
       "variable_name": "df_t"
      },
      "text/html": [
       "\n",
       "  <div id=\"df-7d8a6e5e-0dce-4470-ab2d-3aab2c428e55\" class=\"colab-df-container\">\n",
       "    <div>\n",
       "<style scoped>\n",
       "    .dataframe tbody tr th:only-of-type {\n",
       "        vertical-align: middle;\n",
       "    }\n",
       "\n",
       "    .dataframe tbody tr th {\n",
       "        vertical-align: top;\n",
       "    }\n",
       "\n",
       "    .dataframe thead th {\n",
       "        text-align: right;\n",
       "    }\n",
       "</style>\n",
       "<table border=\"1\" class=\"dataframe\">\n",
       "  <thead>\n",
       "    <tr style=\"text-align: right;\">\n",
       "      <th></th>\n",
       "      <th>start_station_name</th>\n",
       "      <th>value</th>\n",
       "    </tr>\n",
       "  </thead>\n",
       "  <tbody>\n",
       "    <tr>\n",
       "      <th>0</th>\n",
       "      <td>11 St &amp; Washington St</td>\n",
       "      <td>15502</td>\n",
       "    </tr>\n",
       "    <tr>\n",
       "      <th>1</th>\n",
       "      <td>12 St &amp; Sinatra Dr N</td>\n",
       "      <td>17137</td>\n",
       "    </tr>\n",
       "    <tr>\n",
       "      <th>2</th>\n",
       "      <td>14 St Ferry - 14 St &amp; Shipyard Ln</td>\n",
       "      <td>17066</td>\n",
       "    </tr>\n",
       "    <tr>\n",
       "      <th>3</th>\n",
       "      <td>4 St &amp; Grand St</td>\n",
       "      <td>10356</td>\n",
       "    </tr>\n",
       "    <tr>\n",
       "      <th>4</th>\n",
       "      <td>5 Corners Library</td>\n",
       "      <td>3043</td>\n",
       "    </tr>\n",
       "  </tbody>\n",
       "</table>\n",
       "</div>\n",
       "    <div class=\"colab-df-buttons\">\n",
       "\n",
       "  <div class=\"colab-df-container\">\n",
       "    <button class=\"colab-df-convert\" onclick=\"convertToInteractive('df-7d8a6e5e-0dce-4470-ab2d-3aab2c428e55')\"\n",
       "            title=\"Convert this dataframe to an interactive table.\"\n",
       "            style=\"display:none;\">\n",
       "\n",
       "  <svg xmlns=\"http://www.w3.org/2000/svg\" height=\"24px\" viewBox=\"0 -960 960 960\">\n",
       "    <path d=\"M120-120v-720h720v720H120Zm60-500h600v-160H180v160Zm220 220h160v-160H400v160Zm0 220h160v-160H400v160ZM180-400h160v-160H180v160Zm440 0h160v-160H620v160ZM180-180h160v-160H180v160Zm440 0h160v-160H620v160Z\"/>\n",
       "  </svg>\n",
       "    </button>\n",
       "\n",
       "  <style>\n",
       "    .colab-df-container {\n",
       "      display:flex;\n",
       "      gap: 12px;\n",
       "    }\n",
       "\n",
       "    .colab-df-convert {\n",
       "      background-color: #E8F0FE;\n",
       "      border: none;\n",
       "      border-radius: 50%;\n",
       "      cursor: pointer;\n",
       "      display: none;\n",
       "      fill: #1967D2;\n",
       "      height: 32px;\n",
       "      padding: 0 0 0 0;\n",
       "      width: 32px;\n",
       "    }\n",
       "\n",
       "    .colab-df-convert:hover {\n",
       "      background-color: #E2EBFA;\n",
       "      box-shadow: 0px 1px 2px rgba(60, 64, 67, 0.3), 0px 1px 3px 1px rgba(60, 64, 67, 0.15);\n",
       "      fill: #174EA6;\n",
       "    }\n",
       "\n",
       "    .colab-df-buttons div {\n",
       "      margin-bottom: 4px;\n",
       "    }\n",
       "\n",
       "    [theme=dark] .colab-df-convert {\n",
       "      background-color: #3B4455;\n",
       "      fill: #D2E3FC;\n",
       "    }\n",
       "\n",
       "    [theme=dark] .colab-df-convert:hover {\n",
       "      background-color: #434B5C;\n",
       "      box-shadow: 0px 1px 3px 1px rgba(0, 0, 0, 0.15);\n",
       "      filter: drop-shadow(0px 1px 2px rgba(0, 0, 0, 0.3));\n",
       "      fill: #FFFFFF;\n",
       "    }\n",
       "  </style>\n",
       "\n",
       "    <script>\n",
       "      const buttonEl =\n",
       "        document.querySelector('#df-7d8a6e5e-0dce-4470-ab2d-3aab2c428e55 button.colab-df-convert');\n",
       "      buttonEl.style.display =\n",
       "        google.colab.kernel.accessAllowed ? 'block' : 'none';\n",
       "\n",
       "      async function convertToInteractive(key) {\n",
       "        const element = document.querySelector('#df-7d8a6e5e-0dce-4470-ab2d-3aab2c428e55');\n",
       "        const dataTable =\n",
       "          await google.colab.kernel.invokeFunction('convertToInteractive',\n",
       "                                                    [key], {});\n",
       "        if (!dataTable) return;\n",
       "\n",
       "        const docLinkHtml = 'Like what you see? Visit the ' +\n",
       "          '<a target=\"_blank\" href=https://colab.research.google.com/notebooks/data_table.ipynb>data table notebook</a>'\n",
       "          + ' to learn more about interactive tables.';\n",
       "        element.innerHTML = '';\n",
       "        dataTable['output_type'] = 'display_data';\n",
       "        await google.colab.output.renderOutput(dataTable, element);\n",
       "        const docLink = document.createElement('div');\n",
       "        docLink.innerHTML = docLinkHtml;\n",
       "        element.appendChild(docLink);\n",
       "      }\n",
       "    </script>\n",
       "  </div>\n",
       "\n",
       "\n",
       "<div id=\"df-acf2fab8-2f71-4b21-8607-ab3c6464fd51\">\n",
       "  <button class=\"colab-df-quickchart\" onclick=\"quickchart('df-acf2fab8-2f71-4b21-8607-ab3c6464fd51')\"\n",
       "            title=\"Suggest charts\"\n",
       "            style=\"display:none;\">\n",
       "\n",
       "<svg xmlns=\"http://www.w3.org/2000/svg\" height=\"24px\"viewBox=\"0 0 24 24\"\n",
       "     width=\"24px\">\n",
       "    <g>\n",
       "        <path d=\"M19 3H5c-1.1 0-2 .9-2 2v14c0 1.1.9 2 2 2h14c1.1 0 2-.9 2-2V5c0-1.1-.9-2-2-2zM9 17H7v-7h2v7zm4 0h-2V7h2v10zm4 0h-2v-4h2v4z\"/>\n",
       "    </g>\n",
       "</svg>\n",
       "  </button>\n",
       "\n",
       "<style>\n",
       "  .colab-df-quickchart {\n",
       "      --bg-color: #E8F0FE;\n",
       "      --fill-color: #1967D2;\n",
       "      --hover-bg-color: #E2EBFA;\n",
       "      --hover-fill-color: #174EA6;\n",
       "      --disabled-fill-color: #AAA;\n",
       "      --disabled-bg-color: #DDD;\n",
       "  }\n",
       "\n",
       "  [theme=dark] .colab-df-quickchart {\n",
       "      --bg-color: #3B4455;\n",
       "      --fill-color: #D2E3FC;\n",
       "      --hover-bg-color: #434B5C;\n",
       "      --hover-fill-color: #FFFFFF;\n",
       "      --disabled-bg-color: #3B4455;\n",
       "      --disabled-fill-color: #666;\n",
       "  }\n",
       "\n",
       "  .colab-df-quickchart {\n",
       "    background-color: var(--bg-color);\n",
       "    border: none;\n",
       "    border-radius: 50%;\n",
       "    cursor: pointer;\n",
       "    display: none;\n",
       "    fill: var(--fill-color);\n",
       "    height: 32px;\n",
       "    padding: 0;\n",
       "    width: 32px;\n",
       "  }\n",
       "\n",
       "  .colab-df-quickchart:hover {\n",
       "    background-color: var(--hover-bg-color);\n",
       "    box-shadow: 0 1px 2px rgba(60, 64, 67, 0.3), 0 1px 3px 1px rgba(60, 64, 67, 0.15);\n",
       "    fill: var(--button-hover-fill-color);\n",
       "  }\n",
       "\n",
       "  .colab-df-quickchart-complete:disabled,\n",
       "  .colab-df-quickchart-complete:disabled:hover {\n",
       "    background-color: var(--disabled-bg-color);\n",
       "    fill: var(--disabled-fill-color);\n",
       "    box-shadow: none;\n",
       "  }\n",
       "\n",
       "  .colab-df-spinner {\n",
       "    border: 2px solid var(--fill-color);\n",
       "    border-color: transparent;\n",
       "    border-bottom-color: var(--fill-color);\n",
       "    animation:\n",
       "      spin 1s steps(1) infinite;\n",
       "  }\n",
       "\n",
       "  @keyframes spin {\n",
       "    0% {\n",
       "      border-color: transparent;\n",
       "      border-bottom-color: var(--fill-color);\n",
       "      border-left-color: var(--fill-color);\n",
       "    }\n",
       "    20% {\n",
       "      border-color: transparent;\n",
       "      border-left-color: var(--fill-color);\n",
       "      border-top-color: var(--fill-color);\n",
       "    }\n",
       "    30% {\n",
       "      border-color: transparent;\n",
       "      border-left-color: var(--fill-color);\n",
       "      border-top-color: var(--fill-color);\n",
       "      border-right-color: var(--fill-color);\n",
       "    }\n",
       "    40% {\n",
       "      border-color: transparent;\n",
       "      border-right-color: var(--fill-color);\n",
       "      border-top-color: var(--fill-color);\n",
       "    }\n",
       "    60% {\n",
       "      border-color: transparent;\n",
       "      border-right-color: var(--fill-color);\n",
       "    }\n",
       "    80% {\n",
       "      border-color: transparent;\n",
       "      border-right-color: var(--fill-color);\n",
       "      border-bottom-color: var(--fill-color);\n",
       "    }\n",
       "    90% {\n",
       "      border-color: transparent;\n",
       "      border-bottom-color: var(--fill-color);\n",
       "    }\n",
       "  }\n",
       "</style>\n",
       "\n",
       "  <script>\n",
       "    async function quickchart(key) {\n",
       "      const quickchartButtonEl =\n",
       "        document.querySelector('#' + key + ' button');\n",
       "      quickchartButtonEl.disabled = true;  // To prevent multiple clicks.\n",
       "      quickchartButtonEl.classList.add('colab-df-spinner');\n",
       "      try {\n",
       "        const charts = await google.colab.kernel.invokeFunction(\n",
       "            'suggestCharts', [key], {});\n",
       "      } catch (error) {\n",
       "        console.error('Error during call to suggestCharts:', error);\n",
       "      }\n",
       "      quickchartButtonEl.classList.remove('colab-df-spinner');\n",
       "      quickchartButtonEl.classList.add('colab-df-quickchart-complete');\n",
       "    }\n",
       "    (() => {\n",
       "      let quickchartButtonEl =\n",
       "        document.querySelector('#df-acf2fab8-2f71-4b21-8607-ab3c6464fd51 button');\n",
       "      quickchartButtonEl.style.display =\n",
       "        google.colab.kernel.accessAllowed ? 'block' : 'none';\n",
       "    })();\n",
       "  </script>\n",
       "</div>\n",
       "\n",
       "    </div>\n",
       "  </div>\n"
      ],
      "text/plain": [
       "                  start_station_name  value\n",
       "0              11 St & Washington St  15502\n",
       "1               12 St & Sinatra Dr N  17137\n",
       "2  14 St Ferry - 14 St & Shipyard Ln  17066\n",
       "3                    4 St & Grand St  10356\n",
       "4                  5 Corners Library   3043"
      ]
     },
     "execution_count": 16,
     "metadata": {},
     "output_type": "execute_result"
    }
   ],
   "source": [
    "df_t.head()"
   ]
  },
  {
   "cell_type": "code",
   "execution_count": 18,
   "metadata": {
    "colab": {
     "base_uri": "https://localhost:8080/"
    },
    "id": "5_kHqNvrnjTP",
    "outputId": "e90bd973-cdf6-4656-f499-c088cefcd02a"
   },
   "outputs": [
    {
     "data": {
      "text/plain": [
       "(84, 2)"
      ]
     },
     "execution_count": 18,
     "metadata": {},
     "output_type": "execute_result"
    }
   ],
   "source": [
    "df_t.shape"
   ]
  },
  {
   "cell_type": "code",
   "execution_count": 19,
   "metadata": {
    "id": "fSYny7oonFse"
   },
   "outputs": [],
   "source": [
    "df_t = df_t.merge(df2[['start_station_name','start_lat','start_lng']], on = 'start_station_name', how = 'left')"
   ]
  },
  {
   "cell_type": "code",
   "execution_count": 20,
   "metadata": {
    "colab": {
     "base_uri": "https://localhost:8080/"
    },
    "id": "1yPJ2cZynpvG",
    "outputId": "210b63a6-d9b1-4a37-8641-d1b76bf6ebf3"
   },
   "outputs": [
    {
     "data": {
      "text/plain": [
       "(895475, 4)"
      ]
     },
     "execution_count": 20,
     "metadata": {},
     "output_type": "execute_result"
    }
   ],
   "source": [
    "df_t.shape"
   ]
  },
  {
   "cell_type": "code",
   "execution_count": 21,
   "metadata": {
    "colab": {
     "base_uri": "https://localhost:8080/",
     "height": 206
    },
    "id": "7WKlKU4WoJDp",
    "outputId": "ff7c12bb-424c-4a0b-eac5-e65c8385c64a"
   },
   "outputs": [
    {
     "data": {
      "application/vnd.google.colaboratory.intrinsic+json": {
       "type": "dataframe",
       "variable_name": "df_t"
      },
      "text/html": [
       "\n",
       "  <div id=\"df-2ac3bfab-d026-498d-a0b1-9043cec11095\" class=\"colab-df-container\">\n",
       "    <div>\n",
       "<style scoped>\n",
       "    .dataframe tbody tr th:only-of-type {\n",
       "        vertical-align: middle;\n",
       "    }\n",
       "\n",
       "    .dataframe tbody tr th {\n",
       "        vertical-align: top;\n",
       "    }\n",
       "\n",
       "    .dataframe thead th {\n",
       "        text-align: right;\n",
       "    }\n",
       "</style>\n",
       "<table border=\"1\" class=\"dataframe\">\n",
       "  <thead>\n",
       "    <tr style=\"text-align: right;\">\n",
       "      <th></th>\n",
       "      <th>start_station_name</th>\n",
       "      <th>value</th>\n",
       "      <th>start_lat</th>\n",
       "      <th>start_lng</th>\n",
       "    </tr>\n",
       "  </thead>\n",
       "  <tbody>\n",
       "    <tr>\n",
       "      <th>0</th>\n",
       "      <td>11 St &amp; Washington St</td>\n",
       "      <td>15502</td>\n",
       "      <td>40.749985</td>\n",
       "      <td>-74.02715</td>\n",
       "    </tr>\n",
       "    <tr>\n",
       "      <th>1</th>\n",
       "      <td>11 St &amp; Washington St</td>\n",
       "      <td>15502</td>\n",
       "      <td>40.749985</td>\n",
       "      <td>-74.02715</td>\n",
       "    </tr>\n",
       "    <tr>\n",
       "      <th>2</th>\n",
       "      <td>11 St &amp; Washington St</td>\n",
       "      <td>15502</td>\n",
       "      <td>40.749985</td>\n",
       "      <td>-74.02715</td>\n",
       "    </tr>\n",
       "    <tr>\n",
       "      <th>3</th>\n",
       "      <td>11 St &amp; Washington St</td>\n",
       "      <td>15502</td>\n",
       "      <td>40.749985</td>\n",
       "      <td>-74.02715</td>\n",
       "    </tr>\n",
       "    <tr>\n",
       "      <th>4</th>\n",
       "      <td>11 St &amp; Washington St</td>\n",
       "      <td>15502</td>\n",
       "      <td>40.749985</td>\n",
       "      <td>-74.02715</td>\n",
       "    </tr>\n",
       "  </tbody>\n",
       "</table>\n",
       "</div>\n",
       "    <div class=\"colab-df-buttons\">\n",
       "\n",
       "  <div class=\"colab-df-container\">\n",
       "    <button class=\"colab-df-convert\" onclick=\"convertToInteractive('df-2ac3bfab-d026-498d-a0b1-9043cec11095')\"\n",
       "            title=\"Convert this dataframe to an interactive table.\"\n",
       "            style=\"display:none;\">\n",
       "\n",
       "  <svg xmlns=\"http://www.w3.org/2000/svg\" height=\"24px\" viewBox=\"0 -960 960 960\">\n",
       "    <path d=\"M120-120v-720h720v720H120Zm60-500h600v-160H180v160Zm220 220h160v-160H400v160Zm0 220h160v-160H400v160ZM180-400h160v-160H180v160Zm440 0h160v-160H620v160ZM180-180h160v-160H180v160Zm440 0h160v-160H620v160Z\"/>\n",
       "  </svg>\n",
       "    </button>\n",
       "\n",
       "  <style>\n",
       "    .colab-df-container {\n",
       "      display:flex;\n",
       "      gap: 12px;\n",
       "    }\n",
       "\n",
       "    .colab-df-convert {\n",
       "      background-color: #E8F0FE;\n",
       "      border: none;\n",
       "      border-radius: 50%;\n",
       "      cursor: pointer;\n",
       "      display: none;\n",
       "      fill: #1967D2;\n",
       "      height: 32px;\n",
       "      padding: 0 0 0 0;\n",
       "      width: 32px;\n",
       "    }\n",
       "\n",
       "    .colab-df-convert:hover {\n",
       "      background-color: #E2EBFA;\n",
       "      box-shadow: 0px 1px 2px rgba(60, 64, 67, 0.3), 0px 1px 3px 1px rgba(60, 64, 67, 0.15);\n",
       "      fill: #174EA6;\n",
       "    }\n",
       "\n",
       "    .colab-df-buttons div {\n",
       "      margin-bottom: 4px;\n",
       "    }\n",
       "\n",
       "    [theme=dark] .colab-df-convert {\n",
       "      background-color: #3B4455;\n",
       "      fill: #D2E3FC;\n",
       "    }\n",
       "\n",
       "    [theme=dark] .colab-df-convert:hover {\n",
       "      background-color: #434B5C;\n",
       "      box-shadow: 0px 1px 3px 1px rgba(0, 0, 0, 0.15);\n",
       "      filter: drop-shadow(0px 1px 2px rgba(0, 0, 0, 0.3));\n",
       "      fill: #FFFFFF;\n",
       "    }\n",
       "  </style>\n",
       "\n",
       "    <script>\n",
       "      const buttonEl =\n",
       "        document.querySelector('#df-2ac3bfab-d026-498d-a0b1-9043cec11095 button.colab-df-convert');\n",
       "      buttonEl.style.display =\n",
       "        google.colab.kernel.accessAllowed ? 'block' : 'none';\n",
       "\n",
       "      async function convertToInteractive(key) {\n",
       "        const element = document.querySelector('#df-2ac3bfab-d026-498d-a0b1-9043cec11095');\n",
       "        const dataTable =\n",
       "          await google.colab.kernel.invokeFunction('convertToInteractive',\n",
       "                                                    [key], {});\n",
       "        if (!dataTable) return;\n",
       "\n",
       "        const docLinkHtml = 'Like what you see? Visit the ' +\n",
       "          '<a target=\"_blank\" href=https://colab.research.google.com/notebooks/data_table.ipynb>data table notebook</a>'\n",
       "          + ' to learn more about interactive tables.';\n",
       "        element.innerHTML = '';\n",
       "        dataTable['output_type'] = 'display_data';\n",
       "        await google.colab.output.renderOutput(dataTable, element);\n",
       "        const docLink = document.createElement('div');\n",
       "        docLink.innerHTML = docLinkHtml;\n",
       "        element.appendChild(docLink);\n",
       "      }\n",
       "    </script>\n",
       "  </div>\n",
       "\n",
       "\n",
       "<div id=\"df-fc86e34c-8633-42e8-8551-53f237f9ac99\">\n",
       "  <button class=\"colab-df-quickchart\" onclick=\"quickchart('df-fc86e34c-8633-42e8-8551-53f237f9ac99')\"\n",
       "            title=\"Suggest charts\"\n",
       "            style=\"display:none;\">\n",
       "\n",
       "<svg xmlns=\"http://www.w3.org/2000/svg\" height=\"24px\"viewBox=\"0 0 24 24\"\n",
       "     width=\"24px\">\n",
       "    <g>\n",
       "        <path d=\"M19 3H5c-1.1 0-2 .9-2 2v14c0 1.1.9 2 2 2h14c1.1 0 2-.9 2-2V5c0-1.1-.9-2-2-2zM9 17H7v-7h2v7zm4 0h-2V7h2v10zm4 0h-2v-4h2v4z\"/>\n",
       "    </g>\n",
       "</svg>\n",
       "  </button>\n",
       "\n",
       "<style>\n",
       "  .colab-df-quickchart {\n",
       "      --bg-color: #E8F0FE;\n",
       "      --fill-color: #1967D2;\n",
       "      --hover-bg-color: #E2EBFA;\n",
       "      --hover-fill-color: #174EA6;\n",
       "      --disabled-fill-color: #AAA;\n",
       "      --disabled-bg-color: #DDD;\n",
       "  }\n",
       "\n",
       "  [theme=dark] .colab-df-quickchart {\n",
       "      --bg-color: #3B4455;\n",
       "      --fill-color: #D2E3FC;\n",
       "      --hover-bg-color: #434B5C;\n",
       "      --hover-fill-color: #FFFFFF;\n",
       "      --disabled-bg-color: #3B4455;\n",
       "      --disabled-fill-color: #666;\n",
       "  }\n",
       "\n",
       "  .colab-df-quickchart {\n",
       "    background-color: var(--bg-color);\n",
       "    border: none;\n",
       "    border-radius: 50%;\n",
       "    cursor: pointer;\n",
       "    display: none;\n",
       "    fill: var(--fill-color);\n",
       "    height: 32px;\n",
       "    padding: 0;\n",
       "    width: 32px;\n",
       "  }\n",
       "\n",
       "  .colab-df-quickchart:hover {\n",
       "    background-color: var(--hover-bg-color);\n",
       "    box-shadow: 0 1px 2px rgba(60, 64, 67, 0.3), 0 1px 3px 1px rgba(60, 64, 67, 0.15);\n",
       "    fill: var(--button-hover-fill-color);\n",
       "  }\n",
       "\n",
       "  .colab-df-quickchart-complete:disabled,\n",
       "  .colab-df-quickchart-complete:disabled:hover {\n",
       "    background-color: var(--disabled-bg-color);\n",
       "    fill: var(--disabled-fill-color);\n",
       "    box-shadow: none;\n",
       "  }\n",
       "\n",
       "  .colab-df-spinner {\n",
       "    border: 2px solid var(--fill-color);\n",
       "    border-color: transparent;\n",
       "    border-bottom-color: var(--fill-color);\n",
       "    animation:\n",
       "      spin 1s steps(1) infinite;\n",
       "  }\n",
       "\n",
       "  @keyframes spin {\n",
       "    0% {\n",
       "      border-color: transparent;\n",
       "      border-bottom-color: var(--fill-color);\n",
       "      border-left-color: var(--fill-color);\n",
       "    }\n",
       "    20% {\n",
       "      border-color: transparent;\n",
       "      border-left-color: var(--fill-color);\n",
       "      border-top-color: var(--fill-color);\n",
       "    }\n",
       "    30% {\n",
       "      border-color: transparent;\n",
       "      border-left-color: var(--fill-color);\n",
       "      border-top-color: var(--fill-color);\n",
       "      border-right-color: var(--fill-color);\n",
       "    }\n",
       "    40% {\n",
       "      border-color: transparent;\n",
       "      border-right-color: var(--fill-color);\n",
       "      border-top-color: var(--fill-color);\n",
       "    }\n",
       "    60% {\n",
       "      border-color: transparent;\n",
       "      border-right-color: var(--fill-color);\n",
       "    }\n",
       "    80% {\n",
       "      border-color: transparent;\n",
       "      border-right-color: var(--fill-color);\n",
       "      border-bottom-color: var(--fill-color);\n",
       "    }\n",
       "    90% {\n",
       "      border-color: transparent;\n",
       "      border-bottom-color: var(--fill-color);\n",
       "    }\n",
       "  }\n",
       "</style>\n",
       "\n",
       "  <script>\n",
       "    async function quickchart(key) {\n",
       "      const quickchartButtonEl =\n",
       "        document.querySelector('#' + key + ' button');\n",
       "      quickchartButtonEl.disabled = true;  // To prevent multiple clicks.\n",
       "      quickchartButtonEl.classList.add('colab-df-spinner');\n",
       "      try {\n",
       "        const charts = await google.colab.kernel.invokeFunction(\n",
       "            'suggestCharts', [key], {});\n",
       "      } catch (error) {\n",
       "        console.error('Error during call to suggestCharts:', error);\n",
       "      }\n",
       "      quickchartButtonEl.classList.remove('colab-df-spinner');\n",
       "      quickchartButtonEl.classList.add('colab-df-quickchart-complete');\n",
       "    }\n",
       "    (() => {\n",
       "      let quickchartButtonEl =\n",
       "        document.querySelector('#df-fc86e34c-8633-42e8-8551-53f237f9ac99 button');\n",
       "      quickchartButtonEl.style.display =\n",
       "        google.colab.kernel.accessAllowed ? 'block' : 'none';\n",
       "    })();\n",
       "  </script>\n",
       "</div>\n",
       "\n",
       "    </div>\n",
       "  </div>\n"
      ],
      "text/plain": [
       "      start_station_name  value  start_lat  start_lng\n",
       "0  11 St & Washington St  15502  40.749985  -74.02715\n",
       "1  11 St & Washington St  15502  40.749985  -74.02715\n",
       "2  11 St & Washington St  15502  40.749985  -74.02715\n",
       "3  11 St & Washington St  15502  40.749985  -74.02715\n",
       "4  11 St & Washington St  15502  40.749985  -74.02715"
      ]
     },
     "execution_count": 21,
     "metadata": {},
     "output_type": "execute_result"
    }
   ],
   "source": [
    "df_t.head()"
   ]
  },
  {
   "cell_type": "code",
   "execution_count": 26,
   "metadata": {
    "id": "i0dTfyySoRqt"
   },
   "outputs": [],
   "source": [
    "df_t = df_t.drop_duplicates(subset = 'start_station_name').reset_index(drop = True)"
   ]
  },
  {
   "cell_type": "code",
   "execution_count": 27,
   "metadata": {
    "colab": {
     "base_uri": "https://localhost:8080/",
     "height": 206
    },
    "id": "saZGtYJloVRt",
    "outputId": "86f58285-8ec9-4d9e-ff09-b682408a253a"
   },
   "outputs": [
    {
     "data": {
      "application/vnd.google.colaboratory.intrinsic+json": {
       "summary": "{\n  \"name\": \"df_t\",\n  \"rows\": 84,\n  \"fields\": [\n    {\n      \"column\": \"start_station_name\",\n      \"properties\": {\n        \"dtype\": \"string\",\n        \"num_unique_values\": 84,\n        \"samples\": [\n          \"Riverview Park\",\n          \"11 St & Washington St\",\n          \"Madison St & 10 St\"\n        ],\n        \"semantic_type\": \"\",\n        \"description\": \"\"\n      }\n    },\n    {\n      \"column\": \"value\",\n      \"properties\": {\n        \"dtype\": \"number\",\n        \"std\": 7581,\n        \"min\": 2,\n        \"max\": 42556,\n        \"num_unique_values\": 83,\n        \"samples\": [\n          6546,\n          15502,\n          23289\n        ],\n        \"semantic_type\": \"\",\n        \"description\": \"\"\n      }\n    },\n    {\n      \"column\": \"start_lat\",\n      \"properties\": {\n        \"dtype\": \"number\",\n        \"std\": 0.0131512222273992,\n        \"min\": 40.70657545063453,\n        \"max\": 40.75453,\n        \"num_unique_values\": 84,\n        \"samples\": [\n          40.7443187,\n          40.74998490907138,\n          40.74994325412246\n        ],\n        \"semantic_type\": \"\",\n        \"description\": \"\"\n      }\n    },\n    {\n      \"column\": \"start_lng\",\n      \"properties\": {\n        \"dtype\": \"number\",\n        \"std\": 0.016250210275046216,\n        \"min\": -74.08896387030836,\n        \"max\": -74.02402013540268,\n        \"num_unique_values\": 84,\n        \"samples\": [\n          -74.0439909,\n          -74.02715027332306,\n          -74.03586477041245\n        ],\n        \"semantic_type\": \"\",\n        \"description\": \"\"\n      }\n    }\n  ]\n}",
       "type": "dataframe",
       "variable_name": "df_t"
      },
      "text/html": [
       "\n",
       "  <div id=\"df-6c965156-7abf-4200-83a1-7701db7dfaf5\" class=\"colab-df-container\">\n",
       "    <div>\n",
       "<style scoped>\n",
       "    .dataframe tbody tr th:only-of-type {\n",
       "        vertical-align: middle;\n",
       "    }\n",
       "\n",
       "    .dataframe tbody tr th {\n",
       "        vertical-align: top;\n",
       "    }\n",
       "\n",
       "    .dataframe thead th {\n",
       "        text-align: right;\n",
       "    }\n",
       "</style>\n",
       "<table border=\"1\" class=\"dataframe\">\n",
       "  <thead>\n",
       "    <tr style=\"text-align: right;\">\n",
       "      <th></th>\n",
       "      <th>start_station_name</th>\n",
       "      <th>value</th>\n",
       "      <th>start_lat</th>\n",
       "      <th>start_lng</th>\n",
       "    </tr>\n",
       "  </thead>\n",
       "  <tbody>\n",
       "    <tr>\n",
       "      <th>0</th>\n",
       "      <td>11 St &amp; Washington St</td>\n",
       "      <td>15502</td>\n",
       "      <td>40.749985</td>\n",
       "      <td>-74.027150</td>\n",
       "    </tr>\n",
       "    <tr>\n",
       "      <th>1</th>\n",
       "      <td>12 St &amp; Sinatra Dr N</td>\n",
       "      <td>17137</td>\n",
       "      <td>40.750604</td>\n",
       "      <td>-74.024020</td>\n",
       "    </tr>\n",
       "    <tr>\n",
       "      <th>2</th>\n",
       "      <td>14 St Ferry - 14 St &amp; Shipyard Ln</td>\n",
       "      <td>17066</td>\n",
       "      <td>40.752961</td>\n",
       "      <td>-74.024353</td>\n",
       "    </tr>\n",
       "    <tr>\n",
       "      <th>3</th>\n",
       "      <td>4 St &amp; Grand St</td>\n",
       "      <td>10356</td>\n",
       "      <td>40.742258</td>\n",
       "      <td>-74.035111</td>\n",
       "    </tr>\n",
       "    <tr>\n",
       "      <th>4</th>\n",
       "      <td>5 Corners Library</td>\n",
       "      <td>3043</td>\n",
       "      <td>40.734961</td>\n",
       "      <td>-74.059503</td>\n",
       "    </tr>\n",
       "  </tbody>\n",
       "</table>\n",
       "</div>\n",
       "    <div class=\"colab-df-buttons\">\n",
       "\n",
       "  <div class=\"colab-df-container\">\n",
       "    <button class=\"colab-df-convert\" onclick=\"convertToInteractive('df-6c965156-7abf-4200-83a1-7701db7dfaf5')\"\n",
       "            title=\"Convert this dataframe to an interactive table.\"\n",
       "            style=\"display:none;\">\n",
       "\n",
       "  <svg xmlns=\"http://www.w3.org/2000/svg\" height=\"24px\" viewBox=\"0 -960 960 960\">\n",
       "    <path d=\"M120-120v-720h720v720H120Zm60-500h600v-160H180v160Zm220 220h160v-160H400v160Zm0 220h160v-160H400v160ZM180-400h160v-160H180v160Zm440 0h160v-160H620v160ZM180-180h160v-160H180v160Zm440 0h160v-160H620v160Z\"/>\n",
       "  </svg>\n",
       "    </button>\n",
       "\n",
       "  <style>\n",
       "    .colab-df-container {\n",
       "      display:flex;\n",
       "      gap: 12px;\n",
       "    }\n",
       "\n",
       "    .colab-df-convert {\n",
       "      background-color: #E8F0FE;\n",
       "      border: none;\n",
       "      border-radius: 50%;\n",
       "      cursor: pointer;\n",
       "      display: none;\n",
       "      fill: #1967D2;\n",
       "      height: 32px;\n",
       "      padding: 0 0 0 0;\n",
       "      width: 32px;\n",
       "    }\n",
       "\n",
       "    .colab-df-convert:hover {\n",
       "      background-color: #E2EBFA;\n",
       "      box-shadow: 0px 1px 2px rgba(60, 64, 67, 0.3), 0px 1px 3px 1px rgba(60, 64, 67, 0.15);\n",
       "      fill: #174EA6;\n",
       "    }\n",
       "\n",
       "    .colab-df-buttons div {\n",
       "      margin-bottom: 4px;\n",
       "    }\n",
       "\n",
       "    [theme=dark] .colab-df-convert {\n",
       "      background-color: #3B4455;\n",
       "      fill: #D2E3FC;\n",
       "    }\n",
       "\n",
       "    [theme=dark] .colab-df-convert:hover {\n",
       "      background-color: #434B5C;\n",
       "      box-shadow: 0px 1px 3px 1px rgba(0, 0, 0, 0.15);\n",
       "      filter: drop-shadow(0px 1px 2px rgba(0, 0, 0, 0.3));\n",
       "      fill: #FFFFFF;\n",
       "    }\n",
       "  </style>\n",
       "\n",
       "    <script>\n",
       "      const buttonEl =\n",
       "        document.querySelector('#df-6c965156-7abf-4200-83a1-7701db7dfaf5 button.colab-df-convert');\n",
       "      buttonEl.style.display =\n",
       "        google.colab.kernel.accessAllowed ? 'block' : 'none';\n",
       "\n",
       "      async function convertToInteractive(key) {\n",
       "        const element = document.querySelector('#df-6c965156-7abf-4200-83a1-7701db7dfaf5');\n",
       "        const dataTable =\n",
       "          await google.colab.kernel.invokeFunction('convertToInteractive',\n",
       "                                                    [key], {});\n",
       "        if (!dataTable) return;\n",
       "\n",
       "        const docLinkHtml = 'Like what you see? Visit the ' +\n",
       "          '<a target=\"_blank\" href=https://colab.research.google.com/notebooks/data_table.ipynb>data table notebook</a>'\n",
       "          + ' to learn more about interactive tables.';\n",
       "        element.innerHTML = '';\n",
       "        dataTable['output_type'] = 'display_data';\n",
       "        await google.colab.output.renderOutput(dataTable, element);\n",
       "        const docLink = document.createElement('div');\n",
       "        docLink.innerHTML = docLinkHtml;\n",
       "        element.appendChild(docLink);\n",
       "      }\n",
       "    </script>\n",
       "  </div>\n",
       "\n",
       "\n",
       "<div id=\"df-30fe48ac-d67f-4ce6-8162-dd02e00c4d6a\">\n",
       "  <button class=\"colab-df-quickchart\" onclick=\"quickchart('df-30fe48ac-d67f-4ce6-8162-dd02e00c4d6a')\"\n",
       "            title=\"Suggest charts\"\n",
       "            style=\"display:none;\">\n",
       "\n",
       "<svg xmlns=\"http://www.w3.org/2000/svg\" height=\"24px\"viewBox=\"0 0 24 24\"\n",
       "     width=\"24px\">\n",
       "    <g>\n",
       "        <path d=\"M19 3H5c-1.1 0-2 .9-2 2v14c0 1.1.9 2 2 2h14c1.1 0 2-.9 2-2V5c0-1.1-.9-2-2-2zM9 17H7v-7h2v7zm4 0h-2V7h2v10zm4 0h-2v-4h2v4z\"/>\n",
       "    </g>\n",
       "</svg>\n",
       "  </button>\n",
       "\n",
       "<style>\n",
       "  .colab-df-quickchart {\n",
       "      --bg-color: #E8F0FE;\n",
       "      --fill-color: #1967D2;\n",
       "      --hover-bg-color: #E2EBFA;\n",
       "      --hover-fill-color: #174EA6;\n",
       "      --disabled-fill-color: #AAA;\n",
       "      --disabled-bg-color: #DDD;\n",
       "  }\n",
       "\n",
       "  [theme=dark] .colab-df-quickchart {\n",
       "      --bg-color: #3B4455;\n",
       "      --fill-color: #D2E3FC;\n",
       "      --hover-bg-color: #434B5C;\n",
       "      --hover-fill-color: #FFFFFF;\n",
       "      --disabled-bg-color: #3B4455;\n",
       "      --disabled-fill-color: #666;\n",
       "  }\n",
       "\n",
       "  .colab-df-quickchart {\n",
       "    background-color: var(--bg-color);\n",
       "    border: none;\n",
       "    border-radius: 50%;\n",
       "    cursor: pointer;\n",
       "    display: none;\n",
       "    fill: var(--fill-color);\n",
       "    height: 32px;\n",
       "    padding: 0;\n",
       "    width: 32px;\n",
       "  }\n",
       "\n",
       "  .colab-df-quickchart:hover {\n",
       "    background-color: var(--hover-bg-color);\n",
       "    box-shadow: 0 1px 2px rgba(60, 64, 67, 0.3), 0 1px 3px 1px rgba(60, 64, 67, 0.15);\n",
       "    fill: var(--button-hover-fill-color);\n",
       "  }\n",
       "\n",
       "  .colab-df-quickchart-complete:disabled,\n",
       "  .colab-df-quickchart-complete:disabled:hover {\n",
       "    background-color: var(--disabled-bg-color);\n",
       "    fill: var(--disabled-fill-color);\n",
       "    box-shadow: none;\n",
       "  }\n",
       "\n",
       "  .colab-df-spinner {\n",
       "    border: 2px solid var(--fill-color);\n",
       "    border-color: transparent;\n",
       "    border-bottom-color: var(--fill-color);\n",
       "    animation:\n",
       "      spin 1s steps(1) infinite;\n",
       "  }\n",
       "\n",
       "  @keyframes spin {\n",
       "    0% {\n",
       "      border-color: transparent;\n",
       "      border-bottom-color: var(--fill-color);\n",
       "      border-left-color: var(--fill-color);\n",
       "    }\n",
       "    20% {\n",
       "      border-color: transparent;\n",
       "      border-left-color: var(--fill-color);\n",
       "      border-top-color: var(--fill-color);\n",
       "    }\n",
       "    30% {\n",
       "      border-color: transparent;\n",
       "      border-left-color: var(--fill-color);\n",
       "      border-top-color: var(--fill-color);\n",
       "      border-right-color: var(--fill-color);\n",
       "    }\n",
       "    40% {\n",
       "      border-color: transparent;\n",
       "      border-right-color: var(--fill-color);\n",
       "      border-top-color: var(--fill-color);\n",
       "    }\n",
       "    60% {\n",
       "      border-color: transparent;\n",
       "      border-right-color: var(--fill-color);\n",
       "    }\n",
       "    80% {\n",
       "      border-color: transparent;\n",
       "      border-right-color: var(--fill-color);\n",
       "      border-bottom-color: var(--fill-color);\n",
       "    }\n",
       "    90% {\n",
       "      border-color: transparent;\n",
       "      border-bottom-color: var(--fill-color);\n",
       "    }\n",
       "  }\n",
       "</style>\n",
       "\n",
       "  <script>\n",
       "    async function quickchart(key) {\n",
       "      const quickchartButtonEl =\n",
       "        document.querySelector('#' + key + ' button');\n",
       "      quickchartButtonEl.disabled = true;  // To prevent multiple clicks.\n",
       "      quickchartButtonEl.classList.add('colab-df-spinner');\n",
       "      try {\n",
       "        const charts = await google.colab.kernel.invokeFunction(\n",
       "            'suggestCharts', [key], {});\n",
       "      } catch (error) {\n",
       "        console.error('Error during call to suggestCharts:', error);\n",
       "      }\n",
       "      quickchartButtonEl.classList.remove('colab-df-spinner');\n",
       "      quickchartButtonEl.classList.add('colab-df-quickchart-complete');\n",
       "    }\n",
       "    (() => {\n",
       "      let quickchartButtonEl =\n",
       "        document.querySelector('#df-30fe48ac-d67f-4ce6-8162-dd02e00c4d6a button');\n",
       "      quickchartButtonEl.style.display =\n",
       "        google.colab.kernel.accessAllowed ? 'block' : 'none';\n",
       "    })();\n",
       "  </script>\n",
       "</div>\n",
       "\n",
       "    </div>\n",
       "  </div>\n"
      ],
      "text/plain": [
       "                  start_station_name  value  start_lat  start_lng\n",
       "0              11 St & Washington St  15502  40.749985 -74.027150\n",
       "1               12 St & Sinatra Dr N  17137  40.750604 -74.024020\n",
       "2  14 St Ferry - 14 St & Shipyard Ln  17066  40.752961 -74.024353\n",
       "3                    4 St & Grand St  10356  40.742258 -74.035111\n",
       "4                  5 Corners Library   3043  40.734961 -74.059503"
      ]
     },
     "execution_count": 27,
     "metadata": {},
     "output_type": "execute_result"
    }
   ],
   "source": [
    "df_t.head()"
   ]
  },
  {
   "cell_type": "code",
   "execution_count": 28,
   "metadata": {
    "colab": {
     "base_uri": "https://localhost:8080/"
    },
    "id": "kHztgLcbor81",
    "outputId": "824d3960-a3be-4c9a-ae3f-3f1bff95a4b5"
   },
   "outputs": [
    {
     "data": {
      "text/plain": [
       "(84, 4)"
      ]
     },
     "execution_count": 28,
     "metadata": {},
     "output_type": "execute_result"
    }
   ],
   "source": [
    "df_t.shape"
   ]
  },
  {
   "cell_type": "code",
   "execution_count": 29,
   "metadata": {
    "id": "4YrUN_YkowNw"
   },
   "outputs": [],
   "source": [
    "df_t.to_csv('/content/drive/MyDrive/NY_Citi_Bikes/start_stations.csv')"
   ]
  },
  {
   "cell_type": "code",
   "execution_count": 6,
   "metadata": {
    "id": "zNwD6_pKfPTp"
   },
   "outputs": [],
   "source": [
    "df_top100 = df.nlargest(100,'trips')"
   ]
  },
  {
   "cell_type": "code",
   "execution_count": 33,
   "metadata": {
    "colab": {
     "base_uri": "https://localhost:8080/",
     "height": 721,
     "referenced_widgets": [
      "a73924842a704b019355c9db5330302c",
      "3ae502ed93d74f14a6d65bd99cff1677"
     ]
    },
    "id": "JR4HhOfChzSg",
    "outputId": "af6fce8b-112c-44b5-ab98-7eed67163924"
   },
   "outputs": [
    {
     "name": "stdout",
     "output_type": "stream",
     "text": [
      "User Guide: https://docs.kepler.gl/docs/keplergl-jupyter\n"
     ]
    },
    {
     "data": {
      "application/vnd.jupyter.widget-view+json": {
       "model_id": "a73924842a704b019355c9db5330302c",
       "version_major": 2,
       "version_minor": 0
      },
      "text/plain": [
       "KeplerGl(data={'data_1':                                             origin  \\\n",
       "3657      Hoboken Terminal - Hu…"
      ]
     },
     "metadata": {
      "application/vnd.jupyter.widget-view+json": {
       "colab": {
        "custom_widget_manager": {
         "url": "https://ssl.gstatic.com/colaboratory-static/widgets/colab-cdn-widget-manager/2b70e893a8ba7c0f/manager.min.js"
        }
       }
      }
     },
     "output_type": "display_data"
    }
   ],
   "source": [
    "# Create KeplerGl instance\n",
    "\n",
    "m = KeplerGl(height = 700, data={\"data_1\": df_top100, \"start_stations\": df_t})\n",
    "m"
   ]
  },
  {
   "cell_type": "code",
   "execution_count": 34,
   "metadata": {
    "id": "w5Pl0JkqgKbT"
   },
   "outputs": [],
   "source": [
    "df_top100.to_csv('/content/drive/MyDrive/NY_Citi_Bikes/top100.csv')"
   ]
  },
  {
   "cell_type": "code",
   "execution_count": 31,
   "metadata": {
    "id": "XMn8YK_9h69_"
   },
   "outputs": [],
   "source": [
    "from google.colab import output\n",
    "output.enable_custom_widget_manager()"
   ]
  },
  {
   "cell_type": "code",
   "execution_count": 35,
   "metadata": {
    "id": "jtZNquz7h_tm"
   },
   "outputs": [],
   "source": [
    "config = m.config"
   ]
  },
  {
   "cell_type": "code",
   "execution_count": 36,
   "metadata": {
    "id": "5DCdQVgyiYCF"
   },
   "outputs": [],
   "source": [
    "import json\n",
    "with open(\"/content/drive/MyDrive/NY_Citi_Bikes/config.json\", \"w\") as outfile:\n",
    "    json.dump(config, outfile)"
   ]
  },
  {
   "cell_type": "code",
   "execution_count": 37,
   "metadata": {
    "colab": {
     "base_uri": "https://localhost:8080/"
    },
    "id": "OM4beplFibf5",
    "outputId": "8e925ec4-0b30-4d20-9f0a-7dbfbc740926"
   },
   "outputs": [
    {
     "name": "stdout",
     "output_type": "stream",
     "text": [
      "Map saved to /content/drive/MyDrive/NY_Citi_Bikes/NYC_Citi_Bikes_Map.html!\n"
     ]
    }
   ],
   "source": [
    "m.save_to_html(file_name = '/content/drive/MyDrive/NY_Citi_Bikes/NYC_Citi_Bikes_Map.html', read_only = False, config = config)"
   ]
  },
  {
   "cell_type": "code",
   "execution_count": null,
   "metadata": {
    "id": "Mk9_bCCPspX-"
   },
   "outputs": [],
   "source": []
  }
 ],
 "metadata": {
  "colab": {
   "provenance": []
  },
  "kernelspec": {
   "display_name": "Python 3",
   "name": "python3"
  },
  "language_info": {
   "name": "python"
  },
  "widgets": {
   "application/vnd.jupyter.widget-state+json": {
    "3ae502ed93d74f14a6d65bd99cff1677": {
     "model_module": "@jupyter-widgets/base",
     "model_module_version": "1.2.0",
     "model_name": "LayoutModel",
     "state": {
      "_model_module": "@jupyter-widgets/base",
      "_model_module_version": "1.2.0",
      "_model_name": "LayoutModel",
      "_view_count": null,
      "_view_module": "@jupyter-widgets/base",
      "_view_module_version": "1.2.0",
      "_view_name": "LayoutView",
      "align_content": null,
      "align_items": null,
      "align_self": null,
      "border": null,
      "bottom": null,
      "display": null,
      "flex": null,
      "flex_flow": null,
      "grid_area": null,
      "grid_auto_columns": null,
      "grid_auto_flow": null,
      "grid_auto_rows": null,
      "grid_column": null,
      "grid_gap": null,
      "grid_row": null,
      "grid_template_areas": null,
      "grid_template_columns": null,
      "grid_template_rows": null,
      "height": null,
      "justify_content": null,
      "justify_items": null,
      "left": null,
      "margin": null,
      "max_height": null,
      "max_width": null,
      "min_height": null,
      "min_width": null,
      "object_fit": null,
      "object_position": null,
      "order": null,
      "overflow": null,
      "overflow_x": null,
      "overflow_y": null,
      "padding": null,
      "right": null,
      "top": null,
      "visibility": null,
      "width": null
     }
    },
    "a73924842a704b019355c9db5330302c": {
     "model_module": "keplergl-jupyter",
     "model_module_version": "^0.3.2",
     "model_name": "KeplerGlModal",
     "state": {
      "_dom_classes": [],
      "_model_module": "keplergl-jupyter",
      "_model_module_version": "^0.3.2",
      "_model_name": "KeplerGlModal",
      "_view_count": null,
      "_view_module": "keplergl-jupyter",
      "_view_module_version": "^0.3.2",
      "_view_name": "KeplerGlView",
      "config": {
       "config": {
        "mapState": {
         "bearing": 0,
         "dragRotate": false,
         "isSplit": false,
         "latitude": 40.74954966845131,
         "longitude": -74.01604203716192,
         "pitch": 0,
         "zoom": 15.928423221885943
        },
        "mapStyle": {
         "mapStyles": {},
         "styleType": "dark",
         "threeDBuildingColor": [
          9.665468314072013,
          17.18305478057247,
          31.1442867897876
         ],
         "topLayerGroups": {},
         "visibleLayerGroups": {
          "3d building": false,
          "border": false,
          "building": true,
          "label": true,
          "land": true,
          "road": true,
          "water": true
         }
        },
        "visState": {
         "animationConfig": {
          "currentTime": null,
          "speed": 1
         },
         "filters": [],
         "interactionConfig": {
          "brush": {
           "enabled": false,
           "size": 0.5
          },
          "coordinate": {
           "enabled": false
          },
          "geocoder": {
           "enabled": false
          },
          "tooltip": {
           "compareMode": false,
           "compareType": "absolute",
           "enabled": true,
           "fieldsToShow": {
            "data_1": [
             {
              "format": null,
              "name": "origin"
             },
             {
              "format": null,
              "name": "destination"
             },
             {
              "format": null,
              "name": "trips"
             }
            ],
            "start_stations": [
             {
              "format": null,
              "name": "start_station_name"
             },
             {
              "format": null,
              "name": "value"
             }
            ]
           }
          }
         },
         "layerBlending": "normal",
         "layers": [
          {
           "config": {
            "color": [
             18,
             147,
             154
            ],
            "columns": {
             "altitude": null,
             "lat": "start_lat",
             "lng": "start_lng"
            },
            "dataId": "data_1",
            "hidden": false,
            "highlightColor": [
             252,
             242,
             26,
             255
            ],
            "isVisible": false,
            "label": "start",
            "textLabel": [
             {
              "alignment": "center",
              "anchor": "start",
              "color": [
               255,
               255,
               255
              ],
              "field": null,
              "offset": [
               0,
               0
              ],
              "size": 18
             }
            ],
            "visConfig": {
             "colorRange": {
              "category": "Uber",
              "colors": [
               "#5A1846",
               "#900C3F",
               "#C70039",
               "#E3611C",
               "#F1920E",
               "#FFC300"
              ],
              "name": "Global Warming",
              "type": "sequential"
             },
             "filled": true,
             "fixedRadius": false,
             "opacity": 0.8,
             "outline": false,
             "radius": 10,
             "radiusRange": [
              0,
              50
             ],
             "strokeColor": null,
             "strokeColorRange": {
              "category": "Uber",
              "colors": [
               "#5A1846",
               "#900C3F",
               "#C70039",
               "#E3611C",
               "#F1920E",
               "#FFC300"
              ],
              "name": "Global Warming",
              "type": "sequential"
             },
             "thickness": 2
            }
           },
           "id": "1ezl7re",
           "type": "point",
           "visualChannels": {
            "colorField": {
             "name": "trips",
             "type": "integer"
            },
            "colorScale": "quantile",
            "sizeField": null,
            "sizeScale": "linear",
            "strokeColorField": null,
            "strokeColorScale": "quantile"
           }
          },
          {
           "config": {
            "color": [
             221,
             178,
             124
            ],
            "columns": {
             "altitude": null,
             "lat": "end_lat",
             "lng": "end_lng"
            },
            "dataId": "data_1",
            "hidden": false,
            "highlightColor": [
             252,
             242,
             26,
             255
            ],
            "isVisible": false,
            "label": "end",
            "textLabel": [
             {
              "alignment": "center",
              "anchor": "start",
              "color": [
               255,
               255,
               255
              ],
              "field": null,
              "offset": [
               0,
               0
              ],
              "size": 18
             }
            ],
            "visConfig": {
             "colorRange": {
              "category": "Uber",
              "colors": [
               "#5A1846",
               "#900C3F",
               "#C70039",
               "#E3611C",
               "#F1920E",
               "#FFC300"
              ],
              "name": "Global Warming",
              "type": "sequential"
             },
             "filled": true,
             "fixedRadius": false,
             "opacity": 0.8,
             "outline": false,
             "radius": 10,
             "radiusRange": [
              0,
              50
             ],
             "strokeColor": null,
             "strokeColorRange": {
              "category": "Uber",
              "colors": [
               "#5A1846",
               "#900C3F",
               "#C70039",
               "#E3611C",
               "#F1920E",
               "#FFC300"
              ],
              "name": "Global Warming",
              "type": "sequential"
             },
             "thickness": 2
            }
           },
           "id": "2pdg1dl",
           "type": "point",
           "visualChannels": {
            "colorField": {
             "name": "trips",
             "type": "integer"
            },
            "colorScale": "quantile",
            "sizeField": null,
            "sizeScale": "linear",
            "strokeColorField": null,
            "strokeColorScale": "quantile"
           }
          },
          {
           "config": {
            "color": [
             255,
             251,
             152
            ],
            "columns": {
             "lat0": "start_lat",
             "lat1": "end_lat",
             "lng0": "start_lng",
             "lng1": "end_lng"
            },
            "dataId": "data_1",
            "hidden": false,
            "highlightColor": [
             252,
             242,
             26,
             255
            ],
            "isVisible": false,
            "label": "start -> end arc",
            "textLabel": [
             {
              "alignment": "center",
              "anchor": "start",
              "color": [
               255,
               255,
               255
              ],
              "field": null,
              "offset": [
               0,
               0
              ],
              "size": 18
             }
            ],
            "visConfig": {
             "colorRange": {
              "category": "Uber",
              "colors": [
               "#5A1846",
               "#900C3F",
               "#C70039",
               "#E3611C",
               "#F1920E",
               "#FFC300"
              ],
              "name": "Global Warming",
              "type": "sequential"
             },
             "opacity": 0.8,
             "sizeRange": [
              0,
              10
             ],
             "targetColor": [
              201,
              0,
              0
             ],
             "thickness": 2
            }
           },
           "id": "esyuo61",
           "type": "arc",
           "visualChannels": {
            "colorField": null,
            "colorScale": "quantile",
            "sizeField": null,
            "sizeScale": "linear"
           }
          },
          {
           "config": {
            "color": [
             136,
             87,
             44
            ],
            "columns": {
             "alt0": null,
             "alt1": null,
             "lat0": "start_lat",
             "lat1": "end_lat",
             "lng0": "start_lng",
             "lng1": "end_lng"
            },
            "dataId": "data_1",
            "hidden": false,
            "highlightColor": [
             252,
             242,
             26,
             255
            ],
            "isVisible": false,
            "label": "start -> end line",
            "textLabel": [
             {
              "alignment": "center",
              "anchor": "start",
              "color": [
               255,
               255,
               255
              ],
              "field": null,
              "offset": [
               0,
               0
              ],
              "size": 18
             }
            ],
            "visConfig": {
             "colorRange": {
              "category": "Uber",
              "colors": [
               "#5A1846",
               "#900C3F",
               "#C70039",
               "#E3611C",
               "#F1920E",
               "#FFC300"
              ],
              "name": "Global Warming",
              "type": "sequential"
             },
             "elevationScale": 1,
             "opacity": 0.8,
             "sizeRange": [
              0,
              10
             ],
             "targetColor": null,
             "thickness": 2
            }
           },
           "id": "hmkmbjd",
           "type": "line",
           "visualChannels": {
            "colorField": null,
            "colorScale": "quantile",
            "sizeField": null,
            "sizeScale": "linear"
           }
          },
          {
           "config": {
            "color": [
             255,
             153,
             31
            ],
            "columns": {
             "altitude": null,
             "lat": "start_lat",
             "lng": "start_lng"
            },
            "dataId": "start_stations",
            "hidden": false,
            "highlightColor": [
             252,
             242,
             26,
             255
            ],
            "isVisible": true,
            "label": "start",
            "textLabel": [
             {
              "alignment": "center",
              "anchor": "start",
              "color": [
               255,
               255,
               255
              ],
              "field": null,
              "offset": [
               0,
               0
              ],
              "size": 18
             }
            ],
            "visConfig": {
             "colorRange": {
              "category": "ColorBrewer",
              "colors": [
               "#edf8e9",
               "#c7e9c0",
               "#a1d99b",
               "#74c476",
               "#31a354",
               "#006d2c"
              ],
              "name": "ColorBrewer Greens-6",
              "type": "singlehue"
             },
             "filled": true,
             "fixedRadius": false,
             "opacity": 0.42,
             "outline": false,
             "radius": 20.1,
             "radiusRange": [
              0,
              26.1
             ],
             "strokeColor": null,
             "strokeColorRange": {
              "category": "Uber",
              "colors": [
               "#5A1846",
               "#900C3F",
               "#C70039",
               "#E3611C",
               "#F1920E",
               "#FFC300"
              ],
              "name": "Global Warming",
              "type": "sequential"
             },
             "thickness": 2
            }
           },
           "id": "4wmuid",
           "type": "point",
           "visualChannels": {
            "colorField": {
             "name": "value",
             "type": "integer"
            },
            "colorScale": "quantile",
            "sizeField": {
             "name": "value",
             "type": "integer"
            },
            "sizeScale": "sqrt",
            "strokeColorField": null,
            "strokeColorScale": "quantile"
           }
          }
         ],
         "splitMaps": []
        }
       },
       "version": "v1"
      },
      "data": {
       "data_1": {
        "columns": [
         "origin",
         "destination",
         "trips",
         "start_lat",
         "start_lng",
         "end_lat",
         "end_lng"
        ],
        "data": [
         [
          "Hoboken Terminal - Hudson St & Hudson Pl",
          "Hoboken Ave at Monmouth St",
          5565,
          40.73593758446329,
          -74.03030455112457,
          40.73520838045357,
          -74.04696375131607
         ],
         [
          "South Waterfront Walkway - Sinatra Dr & 1 St",
          "South Waterfront Walkway - Sinatra Dr & 1 St",
          5439,
          40.73698221818716,
          -74.02778059244156,
          40.73698221818716,
          -74.02778059244156
         ],
         [
          "Marin Light Rail",
          "Grove St PATH",
          4113,
          40.71458403535893,
          -74.04281705617905,
          40.71958611647166,
          -74.04311746358871
         ],
         [
          "Hoboken Ave at Monmouth St",
          "Hoboken Terminal - Hudson St & Hudson Pl",
          4083,
          40.73520838045357,
          -74.04696375131607,
          40.73593758446329,
          -74.03030455112457
         ],
         [
          "Grove St PATH",
          "Marin Light Rail",
          3973,
          40.71958611647166,
          -74.04311746358871,
          40.71458403535893,
          -74.04281705617905
         ],
         [
          "12 St & Sinatra Dr N",
          "South Waterfront Walkway - Sinatra Dr & 1 St",
          3964,
          40.75060414236896,
          -74.02402013540268,
          40.73698221818716,
          -74.02778059244156
         ],
         [
          "Liberty Light Rail",
          "Liberty Light Rail",
          3696,
          40.7112423,
          -74.0557013,
          40.711242,
          -74.055701
         ],
         [
          "South Waterfront Walkway - Sinatra Dr & 1 St",
          "12 St & Sinatra Dr N",
          3495,
          40.73698221818716,
          -74.02778059244156,
          40.75060414236896,
          -74.02402013540268
         ],
         [
          "Hamilton Park",
          "Grove St PATH",
          3203,
          40.727595966,
          -74.044247311,
          40.71958611647166,
          -74.04311746358871
         ],
         [
          "Newport Pkwy",
          "Newport Pkwy",
          3131,
          40.7287448,
          -74.0321082,
          40.7287448,
          -74.0321082
         ],
         [
          "South Waterfront Walkway - Sinatra Dr & 1 St",
          "14 St Ferry - 14 St & Shipyard Ln",
          3027,
          40.73698221818716,
          -74.02778059244156,
          40.752961,
          -74.024353
         ],
         [
          "14 St Ferry - 14 St & Shipyard Ln",
          "South Waterfront Walkway - Sinatra Dr & 1 St",
          3026,
          40.752961,
          -74.024353,
          40.73698221818716,
          -74.02778059244156
         ],
         [
          "Grove St PATH",
          "Hamilton Park",
          2956,
          40.71958611647166,
          -74.04311746358871,
          40.727595966,
          -74.044247311
         ],
         [
          "12 St & Sinatra Dr N",
          "12 St & Sinatra Dr N",
          2952,
          40.75060414236896,
          -74.02402013540268,
          40.75060414236896,
          -74.02402013540268
         ],
         [
          "Grove St PATH",
          "Liberty Light Rail",
          2847,
          40.71958611647166,
          -74.04311746358871,
          40.711242,
          -74.055701
         ],
         [
          "Hoboken Terminal - Hudson St & Hudson Pl",
          "Madison St & 1 St",
          2840,
          40.73593758446329,
          -74.03030455112457,
          40.73879,
          -74.0393
         ],
         [
          "Harborside",
          "Columbus Dr at Exchange Pl",
          2735,
          40.7192517,
          -74.034234,
          40.71687,
          -74.03281
         ],
         [
          "Liberty Light Rail",
          "Grove St PATH",
          2692,
          40.7112423,
          -74.0557013,
          40.71958611647166,
          -74.04311746358871
         ],
         [
          "Dixon Mills",
          "Grove St PATH",
          2556,
          40.721630142638354,
          -74.04996782541275,
          40.71958611647166,
          -74.04311746358871
         ],
         [
          "Grove St PATH",
          "Lafayette Park",
          2530,
          40.71958611647166,
          -74.04311746358871,
          40.71346382669195,
          -74.06285852193832
         ],
         [
          "Columbus Dr at Exchange Pl",
          "Harborside",
          2422,
          40.71687,
          -74.03281,
          40.7192517,
          -74.034234
         ],
         [
          "Lafayette Park",
          "Grove St PATH",
          2422,
          40.71346382669195,
          -74.06285852193832,
          40.71958611647166,
          -74.04311746358871
         ],
         [
          "Brunswick St",
          "Grove St PATH",
          2410,
          40.7241765,
          -74.0506564,
          40.71958611647166,
          -74.04311746358871
         ],
         [
          "Marin Light Rail",
          "Marin Light Rail",
          2399,
          40.71458403535893,
          -74.04281705617905,
          40.71458403535893,
          -74.04281705617905
         ],
         [
          "Madison St & 1 St",
          "Hoboken Terminal - Hudson St & Hudson Pl",
          2359,
          40.73879,
          -74.0393,
          40.73593758446329,
          -74.03030455112457
         ],
         [
          "14 St Ferry - 14 St & Shipyard Ln",
          "14 St Ferry - 14 St & Shipyard Ln",
          2345,
          40.752961,
          -74.024353,
          40.752961,
          -74.024353
         ],
         [
          "Grove St PATH",
          "Dixon Mills",
          2339,
          40.71958611647166,
          -74.04311746358871,
          40.721630142638354,
          -74.04996782541275
         ],
         [
          "Hoboken Terminal - River St & Hudson Pl",
          "12 St & Sinatra Dr N",
          2103,
          40.7360676564825,
          -74.02912706136703,
          40.75060414236896,
          -74.02402013540268
         ],
         [
          "McGinley Square",
          "Bergen Ave & Sip Ave",
          2085,
          40.7253399253558,
          -74.06762212514877,
          40.73100888698729,
          -74.06443700194359
         ],
         [
          "Brunswick & 6th",
          "Grove St PATH",
          2082,
          40.72601172964625,
          -74.05038893222809,
          40.71958611647166,
          -74.04311746358871
         ],
         [
          "Grove St PATH",
          "JC Medical Center",
          2073,
          40.71958611647166,
          -74.04311746358871,
          40.71653978099194,
          -74.0496379137039
         ],
         [
          "Grove St PATH",
          "Grove St PATH",
          2071,
          40.71958611647166,
          -74.04311746358871,
          40.71958611647166,
          -74.04311746358871
         ],
         [
          "Grove St PATH",
          "Brunswick St",
          2032,
          40.71958611647166,
          -74.04311746358871,
          40.7241765,
          -74.0506564
         ],
         [
          "Hoboken Terminal - Hudson St & Hudson Pl",
          "Southwest Park - Jackson St & Observer Hwy",
          2014,
          40.73593758446329,
          -74.03030455112457,
          40.73755127245804,
          -74.04166370630264
         ],
         [
          "Hoboken Terminal - River St & Hudson Pl",
          "11 St & Washington St",
          1964,
          40.7360676564825,
          -74.02912706136703,
          40.74998490907138,
          -74.02715027332306
         ],
         [
          "Grove St PATH",
          "Brunswick & 6th",
          1925,
          40.71958611647166,
          -74.04311746358871,
          40.72601172964625,
          -74.05038893222809
         ],
         [
          "McGinley Square",
          "Sip Ave",
          1906,
          40.7253399253558,
          -74.06762212514877,
          40.73089709786179,
          -74.06391263008118
         ],
         [
          "JC Medical Center",
          "Grove St PATH",
          1868,
          40.71653978099194,
          -74.0496379137039,
          40.71958611647166,
          -74.04311746358871
         ],
         [
          "Hamilton Park",
          "Manila & 1st",
          1852,
          40.727595966,
          -74.044247311,
          40.72165072487999,
          -74.04288411140442
         ],
         [
          "Hoboken Terminal - River St & Hudson Pl",
          "14 St Ferry - 14 St & Shipyard Ln",
          1826,
          40.7360676564825,
          -74.02912706136703,
          40.752961,
          -74.024353
         ],
         [
          "Morris Canal",
          "Columbus Dr at Exchange Pl",
          1810,
          40.7124188237569,
          -74.03852552175522,
          40.71687,
          -74.03281
         ],
         [
          "Hoboken Terminal - River St & Hudson Pl",
          "8 St & Washington St",
          1807,
          40.7360676564825,
          -74.02912706136703,
          40.74598388291562,
          -74.02819901704788
         ],
         [
          "Sip Ave",
          "McGinley Square",
          1792,
          40.73089709786179,
          -74.06391263008118,
          40.7253399253558,
          -74.06762212514877
         ],
         [
          "Hoboken Ave at Monmouth St",
          "Hoboken Ave at Monmouth St",
          1760,
          40.73520838045357,
          -74.04696375131607,
          40.73520838045357,
          -74.04696375131607
         ],
         [
          "Newport PATH",
          "Harborside",
          1758,
          40.7272235,
          -74.0337589,
          40.7192517,
          -74.034234
         ],
         [
          "South Waterfront Walkway - Sinatra Dr & 1 St",
          "11 St & Washington St",
          1755,
          40.73698221818716,
          -74.02778059244156,
          40.74998490907138,
          -74.02715027332306
         ],
         [
          "Bergen Ave & Sip Ave",
          "McGinley Square",
          1730,
          40.73100888698729,
          -74.06443700194359,
          40.7253399253558,
          -74.06762212514877
         ],
         [
          "Southwest Park - Jackson St & Observer Hwy",
          "Hoboken Terminal - Hudson St & Hudson Pl",
          1716,
          40.73755127245804,
          -74.04166370630264,
          40.73593758446329,
          -74.03030455112457
         ],
         [
          "Baldwin at Montgomery",
          "Grove St PATH",
          1708,
          40.7236589,
          -74.0641943,
          40.71958611647166,
          -74.04311746358871
         ],
         [
          "Liberty Light Rail",
          "City Hall",
          1696,
          40.7112423,
          -74.0557013,
          40.7177325,
          -74.043845
         ],
         [
          "Newport PATH",
          "Hamilton Park",
          1694,
          40.7272235,
          -74.0337589,
          40.727595966,
          -74.044247311
         ],
         [
          "JC Medical Center",
          "JC Medical Center",
          1664,
          40.71653978099194,
          -74.0496379137039,
          40.71653978099194,
          -74.0496379137039
         ],
         [
          "Monmouth and 6th",
          "Grove St PATH",
          1661,
          40.72568548362901,
          -74.04879033565521,
          40.71958611647166,
          -74.04311746358871
         ],
         [
          "Hoboken Ave at Monmouth St",
          "Hoboken Terminal - River St & Hudson Pl",
          1660,
          40.73520838045357,
          -74.04696375131607,
          40.7360676564825,
          -74.02912706136703
         ],
         [
          "Jersey & 6th St",
          "Grove St PATH",
          1646,
          40.72528910781132,
          -74.04557168483734,
          40.71958611647166,
          -74.04311746358871
         ],
         [
          "City Hall - Washington St & 1 St",
          "Madison St & 1 St",
          1614,
          40.73736,
          -74.03097,
          40.73879,
          -74.0393
         ],
         [
          "8 St & Washington St",
          "Hoboken Terminal - River St & Hudson Pl",
          1595,
          40.74598388291562,
          -74.02819901704788,
          40.7360676564825,
          -74.02912706136703
         ],
         [
          "Madison St & 1 St",
          "Hoboken Terminal - River St & Hudson Pl",
          1563,
          40.73879,
          -74.0393,
          40.7360676564825,
          -74.02912706136703
         ],
         [
          "Harborside",
          "Newport PATH",
          1557,
          40.7192517,
          -74.034234,
          40.7272235,
          -74.0337589
         ],
         [
          "Manila & 1st",
          "Hamilton Park",
          1554,
          40.72165072487999,
          -74.04288411140442,
          40.727595966,
          -74.044247311
         ],
         [
          "Bergen Ave",
          "Sip Ave",
          1527,
          40.722103786686034,
          -74.07145500183105,
          40.73089709786179,
          -74.06391263008118
         ],
         [
          "Van Vorst Park",
          "Grove St PATH",
          1523,
          40.71848892,
          -74.047726625,
          40.71958611647166,
          -74.04311746358871
         ],
         [
          "Grove St PATH",
          "Van Vorst Park",
          1506,
          40.71958611647166,
          -74.04311746358871,
          40.71848892,
          -74.047726625
         ],
         [
          "Columbus Dr at Exchange Pl",
          "Morris Canal",
          1495,
          40.71687,
          -74.03281,
          40.7124188237569,
          -74.03852552175522
         ],
         [
          "4 St & Grand St",
          "Hoboken Terminal - River St & Hudson Pl",
          1488,
          40.7422579775645,
          -74.03511106967926,
          40.7360676564825,
          -74.02912706136703
         ],
         [
          "Grove St PATH",
          "Monmouth and 6th",
          1480,
          40.71958611647166,
          -74.04311746358871,
          40.72568548362901,
          -74.04879033565521
         ],
         [
          "Grove St PATH",
          "Jersey & 6th St",
          1474,
          40.71958611647166,
          -74.04311746358871,
          40.72528910781132,
          -74.04557168483734
         ],
         [
          "Harborside",
          "Harborside",
          1466,
          40.7192517,
          -74.034234,
          40.7192517,
          -74.034234
         ],
         [
          "Grove St PATH",
          "Baldwin at Montgomery",
          1465,
          40.71958611647166,
          -74.04311746358871,
          40.7236589,
          -74.0641943
         ],
         [
          "Sip Ave",
          "Bergen Ave",
          1447,
          40.73089709786179,
          -74.06391263008118,
          40.722103786686034,
          -74.07145500183105
         ],
         [
          "Madison St & 1 St",
          "City Hall - Washington St & 1 St",
          1436,
          40.73879,
          -74.0393,
          40.73736,
          -74.03097
         ],
         [
          "Newport Pkwy",
          "Newport PATH",
          1433,
          40.7287448,
          -74.0321082,
          40.7272235,
          -74.0337589
         ],
         [
          "11 St & Washington St",
          "City Hall - Washington St & 1 St",
          1399,
          40.74998490907138,
          -74.02715027332306,
          40.73736,
          -74.03097
         ],
         [
          "11 St & Washington St",
          "South Waterfront Walkway - Sinatra Dr & 1 St",
          1391,
          40.74998490907138,
          -74.02715027332306,
          40.73698221818716,
          -74.02778059244156
         ],
         [
          "Hudson St & 4 St",
          "Hoboken Terminal - River St & Hudson Pl",
          1381,
          40.74097260864355,
          -74.02860336005688,
          40.7360676564825,
          -74.02912706136703
         ],
         [
          "Hamilton Park",
          "Hamilton Park",
          1380,
          40.727595966,
          -74.044247311,
          40.727595966,
          -74.044247311
         ],
         [
          "Hoboken Terminal - River St & Hudson Pl",
          "4 St & Grand St",
          1362,
          40.7360676564825,
          -74.02912706136703,
          40.7422579775645,
          -74.03511106967926
         ],
         [
          "Washington St",
          "Washington St",
          1351,
          40.7242941,
          -74.0354826,
          40.7242941,
          -74.0354826
         ],
         [
          "Hoboken Terminal - River St & Hudson Pl",
          "Columbus Park - Clinton St & 9 St",
          1329,
          40.7360676564825,
          -74.02912706136703,
          40.74816121065146,
          -74.0324530005455
         ],
         [
          "Hoboken Terminal - River St & Hudson Pl",
          "Hoboken Terminal - River St & Hudson Pl",
          1305,
          40.7360676564825,
          -74.02912706136703,
          40.7360676564825,
          -74.02912706136703
         ],
         [
          "Columbus Drive",
          "Columbus Drive",
          1302,
          40.71835519823214,
          -74.03891444206238,
          40.71835519823214,
          -74.03891444206238
         ],
         [
          "12 St & Sinatra Dr N",
          "Hoboken Terminal - River St & Hudson Pl",
          1298,
          40.75060414236896,
          -74.02402013540268,
          40.7360676564825,
          -74.02912706136703
         ],
         [
          "Madison St & 1 St",
          "South Waterfront Walkway - Sinatra Dr & 1 St",
          1293,
          40.73879,
          -74.0393,
          40.73698221818716,
          -74.02778059244156
         ],
         [
          "Newport PATH",
          "Newport Pkwy",
          1281,
          40.7272235,
          -74.0337589,
          40.7287448,
          -74.0321082
         ],
         [
          "Fairmount Ave",
          "Bergen Ave & Sip Ave",
          1278,
          40.72572613742557,
          -74.07195925712585,
          40.73100888698729,
          -74.06443700194359
         ],
         [
          "Bergen Ave",
          "Bergen Ave & Sip Ave",
          1275,
          40.722103786686034,
          -74.07145500183105,
          40.73100888698729,
          -74.06443700194359
         ],
         [
          "Warren St",
          "Warren St",
          1274,
          40.7211236,
          -74.03805095,
          40.7211236,
          -74.03805095
         ],
         [
          "Hoboken Terminal - River St & Hudson Pl",
          "Clinton St & 7 St",
          1272,
          40.7360676564825,
          -74.02912706136703,
          40.74542,
          -74.03332
         ],
         [
          "Hoboken Terminal - River St & Hudson Pl",
          "Hudson St & 4 St",
          1260,
          40.7360676564825,
          -74.02912706136703,
          40.74097260864355,
          -74.02860336005688
         ],
         [
          "8 St & Washington St",
          "Hoboken Terminal - Hudson St & Hudson Pl",
          1258,
          40.74598388291562,
          -74.02819901704788,
          40.73593758446329,
          -74.03030455112457
         ],
         [
          "City Hall - Washington St & 1 St",
          "Hoboken Ave at Monmouth St",
          1258,
          40.73736,
          -74.03097,
          40.73520838045357,
          -74.04696375131607
         ],
         [
          "11 St & Washington St",
          "Hoboken Terminal - River St & Hudson Pl",
          1247,
          40.74998490907138,
          -74.02715027332306,
          40.7360676564825,
          -74.02912706136703
         ],
         [
          "City Hall",
          "City Hall",
          1246,
          40.7177325,
          -74.043845,
          40.7177325,
          -74.043845
         ],
         [
          "Hamilton Park",
          "Newport PATH",
          1242,
          40.727595966,
          -74.044247311,
          40.7272235,
          -74.0337589
         ],
         [
          "City Hall",
          "Liberty Light Rail",
          1234,
          40.7177325,
          -74.043845,
          40.711242,
          -74.055701
         ],
         [
          "Newport Pkwy",
          "South Waterfront Walkway - Sinatra Dr & 1 St",
          1233,
          40.7287448,
          -74.0321082,
          40.73698221818716,
          -74.02778059244156
         ],
         [
          "Hudson St & 4 St",
          "Hudson St & 4 St",
          1232,
          40.74097260864355,
          -74.02860336005688,
          40.74097260864355,
          -74.02860336005688
         ],
         [
          "Newport PATH",
          "Newport PATH",
          1231,
          40.7272235,
          -74.0337589,
          40.7272235,
          -74.0337589
         ],
         [
          "Columbus Park - Clinton St & 9 St",
          "City Hall - Washington St & 1 St",
          1229,
          40.74816121065146,
          -74.0324530005455,
          40.73736,
          -74.03097
         ],
         [
          "Hoboken Terminal - Hudson St & Hudson Pl",
          "Hoboken Terminal - River St & Hudson Pl",
          1224,
          40.73593758446329,
          -74.03030455112457,
          40.7360676564825,
          -74.02912706136703
         ]
        ],
        "index": [
         3657,
         6290,
         4976,
         3574,
         3135,
         181,
         4503,
         6211,
         3201,
         5722,
         6212,
         285,
         3112,
         97,
         3128,
         3670,
         3284,
         4487,
         2561,
         3126,
         2151,
         4322,
         1557,
         5000,
         4655,
         201,
         3102,
         3705,
         5133,
         1473,
         3120,
         3111,
         3089,
         3691,
         3704,
         3088,
         5191,
         3912,
         3222,
         3706,
         5399,
         3711,
         6186,
         3573,
         5601,
         6209,
         1258,
         6348,
         1055,
         4469,
         5600,
         3921,
         5239,
         3575,
         4151,
         1918,
         657,
         4656,
         3333,
         4886,
         1181,
         6579,
         3154,
         2178,
         349,
         3138,
         3124,
         3303,
         3083,
         6137,
         4635,
         5721,
         23,
         82,
         3834,
         3202,
         3707,
         6807,
         3729,
         3746,
         2224,
         149,
         4687,
         5631,
         2710,
         1114,
         6710,
         3725,
         3747,
         656,
         1905,
         49,
         1793,
         3230,
         1826,
         5729,
         3835,
         5630,
         2308,
         3659
        ]
       },
       "start_stations": {
        "columns": [
         "start_station_name",
         "value",
         "start_lat",
         "start_lng"
        ],
        "data": [
         [
          "11 St & Washington St",
          15502,
          40.74998490907138,
          -74.02715027332306
         ],
         [
          "12 St & Sinatra Dr N",
          17137,
          40.75060414236896,
          -74.02402013540268
         ],
         [
          "14 St Ferry - 14 St & Shipyard Ln",
          17066,
          40.752961,
          -74.024353
         ],
         [
          "4 St & Grand St",
          10356,
          40.7422579775645,
          -74.03511106967926
         ],
         [
          "5 Corners Library",
          3043,
          40.73496102000952,
          -74.0595030784607
         ],
         [
          "6 St & Grand St",
          8030,
          40.7443978330956,
          -74.03450086712837
         ],
         [
          "7 St & Monroe St",
          10199,
          40.74641264837719,
          -74.03797701001167
         ],
         [
          "8 St & Washington St",
          14423,
          40.74598388291562,
          -74.02819901704788
         ],
         [
          "9 St HBLR - Jackson St & 8 St",
          10578,
          40.74790720968899,
          -74.03841152787209
         ],
         [
          "Adams St & 11 St",
          5697,
          40.750915534784994,
          -74.03354063630104
         ],
         [
          "Adams St & 2 St",
          9270,
          40.73981372311843,
          -74.03690412640572
         ],
         [
          "Astor Place",
          4779,
          40.71928220070702,
          -74.07126188278198
         ],
         [
          "Baldwin at Montgomery",
          8501,
          40.7236589,
          -74.0641943
         ],
         [
          "Bergen Ave",
          6068,
          40.722103786686034,
          -74.07145500183105
         ],
         [
          "Bergen Ave & Sip Ave",
          10256,
          40.73100888698729,
          -74.06443700194359
         ],
         [
          "Bergen Ave & Stegman St",
          1235,
          40.70657545063453,
          -74.0867006778717
         ],
         [
          "Bloomfield St & 15 St",
          9790,
          40.75453,
          -74.02658
         ],
         [
          "Brunswick & 6th",
          8907,
          40.72601172964625,
          -74.05038893222809
         ],
         [
          "Brunswick St",
          8933,
          40.7241765,
          -74.0506564
         ],
         [
          "Christ Hospital",
          5207,
          40.734785818,
          -74.050443636
         ],
         [
          "Church Sq Park - 5 St & Park Ave",
          11895,
          40.74265933273143,
          -74.03223305940628
         ],
         [
          "City Hall",
          14072,
          40.7177325,
          -74.043845
         ],
         [
          "City Hall - Washington St & 1 St",
          23289,
          40.73736,
          -74.03097
         ],
         [
          "Clinton St & 7 St",
          11394,
          40.74542,
          -74.03332
         ],
         [
          "Clinton St & Newark St",
          11425,
          40.73743,
          -74.03571
         ],
         [
          "Columbus Dr at Exchange Pl",
          16731,
          40.71687,
          -74.03281
         ],
         [
          "Columbus Drive",
          11219,
          40.71835519823214,
          -74.03891444206238
         ],
         [
          "Columbus Park - Clinton St & 9 St",
          11842,
          40.74816121065146,
          -74.0324530005455
         ],
         [
          "Communipaw & Berry Lane",
          3595,
          40.71435836870427,
          -74.06661093235016
         ],
         [
          "Dey St",
          2260,
          40.737711,
          -74.066921
         ],
         [
          "Dixon Mills",
          6546,
          40.721630142638354,
          -74.04996782541275
         ],
         [
          "Essex Light Rail",
          5859,
          40.7127742,
          -74.0364857
         ],
         [
          "Fairmount Ave",
          5178,
          40.72572613742557,
          -74.07195925712585
         ],
         [
          "Glenwood Ave",
          3662,
          40.72755146730012,
          -74.07106071710587
         ],
         [
          "Grand St",
          10609,
          40.71517767732029,
          -74.03768330812454
         ],
         [
          "Grand St & 14 St",
          11363,
          40.75409,
          -74.0316
         ],
         [
          "Grant Ave & MLK Dr",
          615,
          40.70919832245443,
          -74.08084273338318
         ],
         [
          "Grove St PATH",
          42556,
          40.71958611647166,
          -74.04311746358871
         ],
         [
          "Hamilton Park",
          20477,
          40.727595966,
          -74.044247311
         ],
         [
          "Harborside",
          15754,
          40.7192517,
          -74.034234
         ],
         [
          "Heights Elevator",
          4364,
          40.74871594538023,
          -74.04044330120087
         ],
         [
          "Hilltop",
          7139,
          40.7311689,
          -74.0575736
         ],
         [
          "Hoboken Ave at Monmouth St",
          19501,
          40.73520838045357,
          -74.04696375131607
         ],
         [
          "Hoboken Terminal - Hudson St & Hudson Pl",
          30244,
          40.73593758446329,
          -74.03030455112457
         ],
         [
          "Hoboken Terminal - River St & Hudson Pl",
          33020,
          40.7360676564825,
          -74.02912706136703
         ],
         [
          "Hudson St & 4 St",
          15883,
          40.74097260864355,
          -74.02860336005688
         ],
         [
          "JC Medical Center",
          10031,
          40.71653978099194,
          -74.0496379137039
         ],
         [
          "JCBS Depot",
          2,
          40.70965083364061,
          -74.06860113143921
         ],
         [
          "Jackson Square",
          1523,
          40.71113,
          -74.0789
         ],
         [
          "Jersey & 3rd",
          8499,
          40.72333158646436,
          -74.04595255851744
         ],
         [
          "Jersey & 6th St",
          6684,
          40.72528910781132,
          -74.04557168483734
         ],
         [
          "Journal Square",
          7797,
          40.73367,
          -74.0625
         ],
         [
          "Lafayette Park",
          7141,
          40.71346382669195,
          -74.06285852193832
         ],
         [
          "Leonard Gordon Park",
          4503,
          40.74590996631558,
          -74.0572714805603
         ],
         [
          "Liberty Light Rail",
          14563,
          40.7112423,
          -74.0557013
         ],
         [
          "Lincoln Park",
          4369,
          40.7246050998869,
          -74.07840594649315
         ],
         [
          "MTL-ECO5-LAB",
          2,
          40.74716563443737,
          -74.08896387030836
         ],
         [
          "Madison St & 1 St",
          14124,
          40.73879,
          -74.0393
         ],
         [
          "Madison St & 10 St",
          8634,
          40.74994325412246,
          -74.03586477041245
         ],
         [
          "Mama Johnson Field - 4 St & Jackson St",
          5988,
          40.74313993965626,
          -74.04004096984863
         ],
         [
          "Manila & 1st",
          10515,
          40.72165072487999,
          -74.04288411140442
         ],
         [
          "Marin Light Rail",
          19230,
          40.71458403535893,
          -74.04281705617905
         ],
         [
          "Marshall St & 2 St",
          8389,
          40.740802,
          -74.042521
         ],
         [
          "McGinley Square",
          10132,
          40.7253399253558,
          -74.06762212514877
         ],
         [
          "Monmouth and 6th",
          6869,
          40.72568548362901,
          -74.04879033565521
         ],
         [
          "Montgomery St",
          5719,
          40.71942,
          -74.05099
         ],
         [
          "Morris Canal",
          8706,
          40.7124188237569,
          -74.03852552175522
         ],
         [
          "Newark Ave",
          12164,
          40.72152515,
          -74.046304543
         ],
         [
          "Newport PATH",
          19965,
          40.7272235,
          -74.0337589
         ],
         [
          "Newport Pkwy",
          21961,
          40.7287448,
          -74.0321082
         ],
         [
          "Oakland Ave",
          6475,
          40.7376037,
          -74.0524783
         ],
         [
          "Paulus Hook",
          9671,
          40.7141454,
          -74.0335519
         ],
         [
          "Pershing Field",
          6691,
          40.742677141,
          -74.051788633
         ],
         [
          "Riverview Park",
          6424,
          40.7443187,
          -74.0439909
         ],
         [
          "Sip Ave",
          10020,
          40.73089709786179,
          -74.06391263008118
         ],
         [
          "South Waterfront Walkway - Sinatra Dr & 1 St",
          34245,
          40.73698221818716,
          -74.02778059244156
         ],
         [
          "Southwest Park - Jackson St & Observer Hwy",
          9247,
          40.73755127245804,
          -74.04166370630264
         ],
         [
          "Stevens - River Ter & 6 St",
          7865,
          40.74313282710551,
          -74.02698867022991
         ],
         [
          "Union St",
          2423,
          40.7182113,
          -74.0836394
         ],
         [
          "Van Vorst Park",
          10744,
          40.71848892,
          -74.047726625
         ],
         [
          "Warren St",
          13575,
          40.7211236,
          -74.03805095
         ],
         [
          "Washington St",
          15101,
          40.7242941,
          -74.0354826
         ],
         [
          "Willow Ave & 12 St",
          9459,
          40.7518674823282,
          -74.03037697076797
         ],
         [
          "York St & Marin Blvd",
          556,
          40.716615000830494,
          -74.0424120426178
         ]
        ],
        "index": [
         0,
         1,
         2,
         3,
         4,
         5,
         6,
         7,
         8,
         9,
         10,
         11,
         12,
         13,
         14,
         15,
         16,
         17,
         18,
         19,
         20,
         21,
         22,
         23,
         24,
         25,
         26,
         27,
         28,
         29,
         30,
         31,
         32,
         33,
         34,
         35,
         36,
         37,
         38,
         39,
         40,
         41,
         42,
         43,
         44,
         45,
         46,
         47,
         48,
         49,
         50,
         51,
         52,
         53,
         54,
         55,
         56,
         57,
         58,
         59,
         60,
         61,
         62,
         63,
         64,
         65,
         66,
         67,
         68,
         69,
         70,
         71,
         72,
         73,
         74,
         75,
         76,
         77,
         78,
         79,
         80,
         81,
         82,
         83
        ]
       }
      },
      "height": 700,
      "layout": "IPY_MODEL_3ae502ed93d74f14a6d65bd99cff1677",
      "value": "Hello World!"
     }
    }
   }
  }
 },
 "nbformat": 4,
 "nbformat_minor": 4
}

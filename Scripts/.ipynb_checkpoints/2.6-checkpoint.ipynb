{
 "cells": [
  {
   "cell_type": "markdown",
   "id": "0e22e1bd-1ba8-470b-8646-003425a7baa3",
   "metadata": {},
   "source": [
    "# 2.6 Dashboards with Streamlit\n",
    "## Import Libraries and Data"
   ]
  },
  {
   "cell_type": "code",
   "execution_count": 2,
   "id": "b5b5e781-a016-4f87-af0f-50c5d1dd21db",
   "metadata": {},
   "outputs": [],
   "source": [
    "import streamlit as st\n",
    "import pandas as pd\n",
    "import numpy as np\n",
    "import plotly.express as px\n",
    "from plotly.subplots import make_subplots\n",
    "import plotly.graph_objects as go\n",
    "import matplotlib.pyplot as plt\n",
    "from datetime import datetime as dt\n",
    "from streamlit_keplergl import keplergl_static"
   ]
  },
  {
   "cell_type": "code",
   "execution_count": null,
   "id": "c2b49424-2106-4773-b1a8-46649eb6dc8e",
   "metadata": {},
   "outputs": [],
   "source": [
    "df = pd.read_csv('/Users/tristansavella/NY_Citi_Bikes/Data/nyc_data.csv', index_col = 0)"
   ]
  },
  {
   "cell_type": "code",
   "execution_count": null,
   "id": "a535db60-cf42-4a57-bc6c-3307a240fc55",
   "metadata": {},
   "outputs": [],
   "source": [
    "df.head()"
   ]
  },
  {
   "cell_type": "markdown",
   "id": "bc5dc071-617f-4de4-bad2-42cc54e0a8c5",
   "metadata": {},
   "source": [
    "## Data Wrangling"
   ]
  },
  {
   "cell_type": "code",
   "execution_count": null,
   "id": "7edd80bf-122a-4159-8bd9-6b4ff4b0afc7",
   "metadata": {},
   "outputs": [],
   "source": [
    "# Create a month column \n",
    "\n",
    "df['date'] = pd.to_datetime(df['date'], format = '%Y-%m-%d')\n",
    "df['month'] = df['date'].dt.month\n",
    "df['month'] = df['month'].astype('int')"
   ]
  },
  {
   "cell_type": "code",
   "execution_count": null,
   "id": "7b95cf35-2d02-4857-90d2-8dc8547d6a62",
   "metadata": {},
   "outputs": [],
   "source": [
    "df.head()"
   ]
  },
  {
   "cell_type": "code",
   "execution_count": null,
   "id": "70b307f3-cebc-437a-badb-9ca15070a4a7",
   "metadata": {},
   "outputs": [],
   "source": [
    "# Create the season column\n",
    "\n",
    "df['season'] = [\n",
    "\"winter\" if (month == 12 or 1 <= month <= 2)\n",
    "    else \"spring\" if (3 < month <= 5)\n",
    "    else \"summer\" if (6 <= month <= 8)\n",
    "    else \"fall\"\n",
    "for month in df['month']\n",
    "    ]"
   ]
  },
  {
   "cell_type": "code",
   "execution_count": null,
   "id": "788c3a8a-1470-416d-8c30-2ddaf0220e82",
   "metadata": {},
   "outputs": [],
   "source": [
    "df.head()"
   ]
  },
  {
   "cell_type": "markdown",
   "id": "e5cbb360-c6bd-4899-aa44-f8826ab1f658",
   "metadata": {},
   "source": [
    "## Create Plotly Charts"
   ]
  },
  {
   "cell_type": "code",
   "execution_count": null,
   "id": "44dc15d5-49f4-48b0-b864-fafc7aceb2ce",
   "metadata": {},
   "outputs": [],
   "source": [
    "## Groupby\n",
    "\n",
    "df['value'] = 1 \n",
    "df_groupby_bar = df.groupby('start_station_name', as_index=False).agg({'value': 'sum'})\n",
    "top20 = df_groupby_bar.nlargest(20, 'value')"
   ]
  },
  {
   "cell_type": "code",
   "execution_count": null,
   "id": "681be6da-59a3-48f6-a7e1-d4cab291b80d",
   "metadata": {},
   "outputs": [],
   "source": [
    "fig = go.Figure(go.Bar(x = top20['start_station_name'], y = top20['value']))\n",
    "fig.show()"
   ]
  },
  {
   "cell_type": "code",
   "execution_count": null,
   "id": "3d63ecc4-55bb-4f74-9a43-f894f0375657",
   "metadata": {},
   "outputs": [],
   "source": [
    "fig = go.Figure(go.Bar(x = top20['start_station_name'], y = top20['value'], marker={'color': top20['value'],'colorscale': 'Greens'}))\n",
    "fig.show()"
   ]
  },
  {
   "cell_type": "code",
   "execution_count": null,
   "id": "9680a284-4596-44b8-8975-7624effe9ff1",
   "metadata": {},
   "outputs": [],
   "source": [
    "## Bar chart\n",
    "\n",
    "fig.update_layout(\n",
    "    title = 'Top 20 most popular bike stations in Jersey City',\n",
    "    xaxis_title = 'Start stations',\n",
    "    yaxis_title ='Sum of trips',\n",
    "    width = 900, height = 600\n",
    ")"
   ]
  },
  {
   "cell_type": "code",
   "execution_count": null,
   "id": "4032eef0-928e-4690-bd4c-ba4f5ae7a216",
   "metadata": {},
   "outputs": [],
   "source": [
    "# Update layout to provide more space for the station names\n",
    "fig.update_layout(\n",
    "    title='Top 20 most popular bike stations in Jersey City',\n",
    "    xaxis_title='Start stations',\n",
    "    yaxis_title='Sum of trips',\n",
    "    width=900,  # Adjust the width of the plot\n",
    "    height=600,  # Adjust the height of the plot\n",
    "    margin=dict(b=200),  # Increase bottom margin to provide more space for x-axis labels\n",
    "    xaxis=dict(\n",
    "        tickangle=-45,  # Rotate x-axis labels for better readability\n",
    "        automargin=True,  # Automatically adjust margins to fit labels\n",
    "        tickfont=dict(size=10)  # Adjust font size for x-axis labels\n",
    "    )\n",
    ")"
   ]
  },
  {
   "cell_type": "markdown",
   "id": "94ed3529-cb1b-4149-ac58-80b16e3a59ed",
   "metadata": {},
   "source": [
    "## Line Chart\n",
    "#### Some Wrangling Required)"
   ]
  },
  {
   "cell_type": "code",
   "execution_count": null,
   "id": "8135cf5f-1197-4080-8ed4-7ebef1925eea",
   "metadata": {},
   "outputs": [],
   "source": [
    "# Groupby the count of the trips for Line Chart\n",
    "\n",
    "df_group = pd.DataFrame(df.groupby(['date'])['ride_id'].count()).reset_index()"
   ]
  },
  {
   "cell_type": "code",
   "execution_count": null,
   "id": "c6061883-40e3-4c8c-b028-4f14b14482c0",
   "metadata": {},
   "outputs": [],
   "source": [
    "df_group.head()"
   ]
  },
  {
   "cell_type": "code",
   "execution_count": null,
   "id": "a2f94381-b205-4b63-8b8b-22b504fe4ef3",
   "metadata": {},
   "outputs": [],
   "source": [
    "# Create subplots with a secondary y-axis\n",
    "fig_2 = make_subplots(specs=[[{\"secondary_y\": True}]])"
   ]
  },
  {
   "cell_type": "code",
   "execution_count": null,
   "id": "8e503bae-9cbe-4ebd-8844-a40616cb4e5d",
   "metadata": {},
   "outputs": [],
   "source": [
    "# Add the first trace for daily bike rides\n",
    "fig_2.add_trace(\n",
    "    go.Scatter(\n",
    "        x=df_group['date'], \n",
    "        y=df_group['ride_id'], \n",
    "        name='Daily bike rides', \n",
    "        marker=dict(color='Green')\n",
    "    ), \n",
    "    secondary_y=False\n",
    ")"
   ]
  },
  {
   "cell_type": "code",
   "execution_count": null,
   "id": "f05ad387-06fe-4607-b89d-46821697fae2",
   "metadata": {},
   "outputs": [],
   "source": [
    "# Add the second trace for daily temperature\n",
    "fig_2.add_trace(\n",
    "    go.Scatter(\n",
    "        x=df['date'], \n",
    "        y=df['avgTemp'], \n",
    "        name='Daily temperature', \n",
    "        marker=dict(color='red')\n",
    "    ), \n",
    "    secondary_y=True\n",
    ")\n"
   ]
  },
  {
   "cell_type": "code",
   "execution_count": null,
   "id": "ecb1bac2-37b1-4608-9df8-b54f377f8e27",
   "metadata": {},
   "outputs": [],
   "source": [
    "# Update layout with titles and dimensions\n",
    "fig_2.update_layout(\n",
    "    title='Daily Bike Rides and Temperature in Jersey City', \n",
    "    xaxis_title='Date',\n",
    "    yaxis_title='Daily Bike Rides',\n",
    "    height=800\n",
    ")"
   ]
  },
  {
   "cell_type": "code",
   "execution_count": null,
   "id": "6b56c6e9-4c1d-4f38-8ae6-02dc514f5894",
   "metadata": {},
   "outputs": [],
   "source": [
    "# Update secondary y-axis title\n",
    "fig_2.update_yaxes(title_text='Temperature (°F)', secondary_y=True)"
   ]
  },
  {
   "cell_type": "code",
   "execution_count": null,
   "id": "0fcb95d4-d504-48c3-9623-2bd74fb22164",
   "metadata": {},
   "outputs": [],
   "source": [
    "# Display the plot\n",
    "st.plotly_chart(fig_2, use_container_width=True)"
   ]
  }
 ],
 "metadata": {
  "kernelspec": {
   "display_name": "Python [conda env:nyc_bike]",
   "language": "python",
   "name": "conda-env-nyc_bike-py"
  },
  "language_info": {
   "codemirror_mode": {
    "name": "ipython",
    "version": 3
   },
   "file_extension": ".py",
   "mimetype": "text/x-python",
   "name": "python",
   "nbconvert_exporter": "python",
   "pygments_lexer": "ipython3",
   "version": "3.11.9"
  }
 },
 "nbformat": 4,
 "nbformat_minor": 5
}
